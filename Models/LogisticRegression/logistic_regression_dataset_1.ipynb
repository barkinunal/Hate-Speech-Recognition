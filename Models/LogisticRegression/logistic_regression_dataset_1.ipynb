{
  "nbformat": 4,
  "nbformat_minor": 0,
  "metadata": {
    "colab": {
      "name": "logistic_regression_dataset_1.ipynb",
      "provenance": [],
      "collapsed_sections": []
    },
    "kernelspec": {
      "name": "python3",
      "display_name": "Python 3"
    },
    "accelerator": "TPU"
  },
  "cells": [
    {
      "cell_type": "code",
      "metadata": {
        "id": "M3FdSMZu_b9L",
        "colab_type": "code",
        "outputId": "bd919bdb-efb1-47a4-9e0f-50ac55e81b47",
        "colab": {
          "base_uri": "https://localhost:8080/",
          "height": 122
        }
      },
      "source": [
        "from google.colab import drive\n",
        "drive.mount('/content/drive')"
      ],
      "execution_count": 1,
      "outputs": [
        {
          "output_type": "stream",
          "text": [
            "Go to this URL in a browser: https://accounts.google.com/o/oauth2/auth?client_id=947318989803-6bn6qk8qdgf4n4g3pfee6491hc0brc4i.apps.googleusercontent.com&redirect_uri=urn%3aietf%3awg%3aoauth%3a2.0%3aoob&response_type=code&scope=email%20https%3a%2f%2fwww.googleapis.com%2fauth%2fdocs.test%20https%3a%2f%2fwww.googleapis.com%2fauth%2fdrive%20https%3a%2f%2fwww.googleapis.com%2fauth%2fdrive.photos.readonly%20https%3a%2f%2fwww.googleapis.com%2fauth%2fpeopleapi.readonly\n",
            "\n",
            "Enter your authorization code:\n",
            "··········\n",
            "Mounted at /content/drive\n"
          ],
          "name": "stdout"
        }
      ]
    },
    {
      "cell_type": "code",
      "metadata": {
        "id": "1sIV-rC3_iZz",
        "colab_type": "code",
        "colab": {}
      },
      "source": [
        "__author__ = \"Gökhan Özeloğlu\"\n",
        "__date__ = \"05.01.2020\""
      ],
      "execution_count": 0,
      "outputs": []
    },
    {
      "cell_type": "code",
      "metadata": {
        "id": "aUD5equ1_o95",
        "colab_type": "code",
        "colab": {}
      },
      "source": [
        "import pandas as pd\n",
        "from sklearn.linear_model import LogisticRegression\n",
        "import matplotlib.pyplot as plt\n",
        "from sklearn.feature_extraction.text import TfidfVectorizer\n",
        "from sklearn.metrics import classification_report\n",
        "import sklearn.metrics as metrics\n",
        "from sklearn.model_selection import cross_val_score\n",
        "\n",
        "%matplotlib inline"
      ],
      "execution_count": 0,
      "outputs": []
    },
    {
      "cell_type": "code",
      "metadata": {
        "id": "zJj7Dd7d_w2t",
        "colab_type": "code",
        "colab": {}
      },
      "source": [
        "path = \"/content/drive/My Drive/ML_Term_Project/\"\n",
        "data_df = pd.read_csv(path + \"dataset_1.csv\")"
      ],
      "execution_count": 0,
      "outputs": []
    },
    {
      "cell_type": "code",
      "metadata": {
        "id": "xNA4VSx6Atvc",
        "colab_type": "code",
        "outputId": "4c4de91e-59d5-463e-f649-138bd15594df",
        "colab": {
          "base_uri": "https://localhost:8080/",
          "height": 204
        }
      },
      "source": [
        "data_df.head()"
      ],
      "execution_count": 4,
      "outputs": [
        {
          "output_type": "execute_result",
          "data": {
            "text/html": [
              "<div>\n",
              "<style scoped>\n",
              "    .dataframe tbody tr th:only-of-type {\n",
              "        vertical-align: middle;\n",
              "    }\n",
              "\n",
              "    .dataframe tbody tr th {\n",
              "        vertical-align: top;\n",
              "    }\n",
              "\n",
              "    .dataframe thead th {\n",
              "        text-align: right;\n",
              "    }\n",
              "</style>\n",
              "<table border=\"1\" class=\"dataframe\">\n",
              "  <thead>\n",
              "    <tr style=\"text-align: right;\">\n",
              "      <th></th>\n",
              "      <th>Unnamed: 0</th>\n",
              "      <th>Unnamed: 0.1</th>\n",
              "      <th>count</th>\n",
              "      <th>hate_speech</th>\n",
              "      <th>offensive_language</th>\n",
              "      <th>neither</th>\n",
              "      <th>class</th>\n",
              "      <th>tweet</th>\n",
              "    </tr>\n",
              "  </thead>\n",
              "  <tbody>\n",
              "    <tr>\n",
              "      <th>0</th>\n",
              "      <td>0</td>\n",
              "      <td>0</td>\n",
              "      <td>3</td>\n",
              "      <td>0</td>\n",
              "      <td>0</td>\n",
              "      <td>3</td>\n",
              "      <td>2</td>\n",
              "      <td>!!! As a woman you shouldn't complain about cl...</td>\n",
              "    </tr>\n",
              "    <tr>\n",
              "      <th>1</th>\n",
              "      <td>1</td>\n",
              "      <td>1</td>\n",
              "      <td>3</td>\n",
              "      <td>0</td>\n",
              "      <td>3</td>\n",
              "      <td>0</td>\n",
              "      <td>1</td>\n",
              "      <td>!!!!! boy dats cold...tyga dwn bad for cuffin ...</td>\n",
              "    </tr>\n",
              "    <tr>\n",
              "      <th>2</th>\n",
              "      <td>2</td>\n",
              "      <td>2</td>\n",
              "      <td>3</td>\n",
              "      <td>0</td>\n",
              "      <td>3</td>\n",
              "      <td>0</td>\n",
              "      <td>1</td>\n",
              "      <td>!!!!!!! Dawg!!!! You ever fuck a bitch and she...</td>\n",
              "    </tr>\n",
              "    <tr>\n",
              "      <th>3</th>\n",
              "      <td>3</td>\n",
              "      <td>3</td>\n",
              "      <td>3</td>\n",
              "      <td>0</td>\n",
              "      <td>2</td>\n",
              "      <td>1</td>\n",
              "      <td>1</td>\n",
              "      <td>!!!!!!!!! she look like a tranny</td>\n",
              "    </tr>\n",
              "    <tr>\n",
              "      <th>4</th>\n",
              "      <td>4</td>\n",
              "      <td>4</td>\n",
              "      <td>6</td>\n",
              "      <td>0</td>\n",
              "      <td>6</td>\n",
              "      <td>0</td>\n",
              "      <td>1</td>\n",
              "      <td>!!!!!!!!!!!!! The shit you hear about me might...</td>\n",
              "    </tr>\n",
              "  </tbody>\n",
              "</table>\n",
              "</div>"
            ],
            "text/plain": [
              "   Unnamed: 0  ...                                              tweet\n",
              "0           0  ...  !!! As a woman you shouldn't complain about cl...\n",
              "1           1  ...  !!!!! boy dats cold...tyga dwn bad for cuffin ...\n",
              "2           2  ...  !!!!!!! Dawg!!!! You ever fuck a bitch and she...\n",
              "3           3  ...                   !!!!!!!!! she look like a tranny\n",
              "4           4  ...  !!!!!!!!!!!!! The shit you hear about me might...\n",
              "\n",
              "[5 rows x 8 columns]"
            ]
          },
          "metadata": {
            "tags": []
          },
          "execution_count": 4
        }
      ]
    },
    {
      "cell_type": "code",
      "metadata": {
        "id": "um8O7guWAwAk",
        "colab_type": "code",
        "outputId": "491725f1-25cb-4294-c58a-5030257683d0",
        "colab": {
          "base_uri": "https://localhost:8080/",
          "height": 204
        }
      },
      "source": [
        "# Unneeded columns are dropped\n",
        "data_df = data_df.drop([\"Unnamed: 0\", \"Unnamed: 0.1\", \"count\", \"hate_speech\", \"offensive_language\", \"neither\"], axis=1)\n",
        "data_df.head()"
      ],
      "execution_count": 5,
      "outputs": [
        {
          "output_type": "execute_result",
          "data": {
            "text/html": [
              "<div>\n",
              "<style scoped>\n",
              "    .dataframe tbody tr th:only-of-type {\n",
              "        vertical-align: middle;\n",
              "    }\n",
              "\n",
              "    .dataframe tbody tr th {\n",
              "        vertical-align: top;\n",
              "    }\n",
              "\n",
              "    .dataframe thead th {\n",
              "        text-align: right;\n",
              "    }\n",
              "</style>\n",
              "<table border=\"1\" class=\"dataframe\">\n",
              "  <thead>\n",
              "    <tr style=\"text-align: right;\">\n",
              "      <th></th>\n",
              "      <th>class</th>\n",
              "      <th>tweet</th>\n",
              "    </tr>\n",
              "  </thead>\n",
              "  <tbody>\n",
              "    <tr>\n",
              "      <th>0</th>\n",
              "      <td>2</td>\n",
              "      <td>!!! As a woman you shouldn't complain about cl...</td>\n",
              "    </tr>\n",
              "    <tr>\n",
              "      <th>1</th>\n",
              "      <td>1</td>\n",
              "      <td>!!!!! boy dats cold...tyga dwn bad for cuffin ...</td>\n",
              "    </tr>\n",
              "    <tr>\n",
              "      <th>2</th>\n",
              "      <td>1</td>\n",
              "      <td>!!!!!!! Dawg!!!! You ever fuck a bitch and she...</td>\n",
              "    </tr>\n",
              "    <tr>\n",
              "      <th>3</th>\n",
              "      <td>1</td>\n",
              "      <td>!!!!!!!!! she look like a tranny</td>\n",
              "    </tr>\n",
              "    <tr>\n",
              "      <th>4</th>\n",
              "      <td>1</td>\n",
              "      <td>!!!!!!!!!!!!! The shit you hear about me might...</td>\n",
              "    </tr>\n",
              "  </tbody>\n",
              "</table>\n",
              "</div>"
            ],
            "text/plain": [
              "   class                                              tweet\n",
              "0      2  !!! As a woman you shouldn't complain about cl...\n",
              "1      1  !!!!! boy dats cold...tyga dwn bad for cuffin ...\n",
              "2      1  !!!!!!! Dawg!!!! You ever fuck a bitch and she...\n",
              "3      1                   !!!!!!!!! she look like a tranny\n",
              "4      1  !!!!!!!!!!!!! The shit you hear about me might..."
            ]
          },
          "metadata": {
            "tags": []
          },
          "execution_count": 5
        }
      ]
    },
    {
      "cell_type": "code",
      "metadata": {
        "id": "ZSczMqrPA8l-",
        "colab_type": "code",
        "outputId": "fded72e3-72fd-4c67-e460-6c5b0674ee11",
        "colab": {
          "base_uri": "https://localhost:8080/",
          "height": 419
        }
      },
      "source": [
        "data_df.fillna(\"\")"
      ],
      "execution_count": 6,
      "outputs": [
        {
          "output_type": "execute_result",
          "data": {
            "text/html": [
              "<div>\n",
              "<style scoped>\n",
              "    .dataframe tbody tr th:only-of-type {\n",
              "        vertical-align: middle;\n",
              "    }\n",
              "\n",
              "    .dataframe tbody tr th {\n",
              "        vertical-align: top;\n",
              "    }\n",
              "\n",
              "    .dataframe thead th {\n",
              "        text-align: right;\n",
              "    }\n",
              "</style>\n",
              "<table border=\"1\" class=\"dataframe\">\n",
              "  <thead>\n",
              "    <tr style=\"text-align: right;\">\n",
              "      <th></th>\n",
              "      <th>class</th>\n",
              "      <th>tweet</th>\n",
              "    </tr>\n",
              "  </thead>\n",
              "  <tbody>\n",
              "    <tr>\n",
              "      <th>0</th>\n",
              "      <td>2</td>\n",
              "      <td>!!! As a woman you shouldn't complain about cl...</td>\n",
              "    </tr>\n",
              "    <tr>\n",
              "      <th>1</th>\n",
              "      <td>1</td>\n",
              "      <td>!!!!! boy dats cold...tyga dwn bad for cuffin ...</td>\n",
              "    </tr>\n",
              "    <tr>\n",
              "      <th>2</th>\n",
              "      <td>1</td>\n",
              "      <td>!!!!!!! Dawg!!!! You ever fuck a bitch and she...</td>\n",
              "    </tr>\n",
              "    <tr>\n",
              "      <th>3</th>\n",
              "      <td>1</td>\n",
              "      <td>!!!!!!!!! she look like a tranny</td>\n",
              "    </tr>\n",
              "    <tr>\n",
              "      <th>4</th>\n",
              "      <td>1</td>\n",
              "      <td>!!!!!!!!!!!!! The shit you hear about me might...</td>\n",
              "    </tr>\n",
              "    <tr>\n",
              "      <th>...</th>\n",
              "      <td>...</td>\n",
              "      <td>...</td>\n",
              "    </tr>\n",
              "    <tr>\n",
              "      <th>24778</th>\n",
              "      <td>1</td>\n",
              "      <td>you's a muthaf***in lie right! His TL is trash...</td>\n",
              "    </tr>\n",
              "    <tr>\n",
              "      <th>24779</th>\n",
              "      <td>2</td>\n",
              "      <td>you've gone and broke the wrong heart baby, an...</td>\n",
              "    </tr>\n",
              "    <tr>\n",
              "      <th>24780</th>\n",
              "      <td>1</td>\n",
              "      <td>young buck wanna eat!!.. dat nigguh like I ain...</td>\n",
              "    </tr>\n",
              "    <tr>\n",
              "      <th>24781</th>\n",
              "      <td>1</td>\n",
              "      <td>youu got wild bitches tellin you lies</td>\n",
              "    </tr>\n",
              "    <tr>\n",
              "      <th>24782</th>\n",
              "      <td>2</td>\n",
              "      <td>~~Ruffled | Ntac Eileen Dahlia - Beautiful col...</td>\n",
              "    </tr>\n",
              "  </tbody>\n",
              "</table>\n",
              "<p>24783 rows × 2 columns</p>\n",
              "</div>"
            ],
            "text/plain": [
              "       class                                              tweet\n",
              "0          2  !!! As a woman you shouldn't complain about cl...\n",
              "1          1  !!!!! boy dats cold...tyga dwn bad for cuffin ...\n",
              "2          1  !!!!!!! Dawg!!!! You ever fuck a bitch and she...\n",
              "3          1                   !!!!!!!!! she look like a tranny\n",
              "4          1  !!!!!!!!!!!!! The shit you hear about me might...\n",
              "...      ...                                                ...\n",
              "24778      1  you's a muthaf***in lie right! His TL is trash...\n",
              "24779      2  you've gone and broke the wrong heart baby, an...\n",
              "24780      1  young buck wanna eat!!.. dat nigguh like I ain...\n",
              "24781      1              youu got wild bitches tellin you lies\n",
              "24782      2  ~~Ruffled | Ntac Eileen Dahlia - Beautiful col...\n",
              "\n",
              "[24783 rows x 2 columns]"
            ]
          },
          "metadata": {
            "tags": []
          },
          "execution_count": 6
        }
      ]
    },
    {
      "cell_type": "code",
      "metadata": {
        "id": "jZ0qL_tPA-Ls",
        "colab_type": "code",
        "colab": {}
      },
      "source": [
        "def feature_extract(text, stop_word=True, n_gram=(1, 1)):\n",
        "\n",
        "    # If stop words want to be excluded.\n",
        "    if stop_word:\n",
        "    \n",
        "        tf_idf = TfidfVectorizer(ngram_range=n_gram, stop_words=\"english\")\n",
        "        tf_idf.fit_transform(text)\n",
        "\n",
        "        X = tf_idf.transform(text)\n",
        "        \n",
        "    # If stop words want to be included\n",
        "    if not stop_word:\n",
        "    \n",
        "        tf_idf = TfidfVectorizer(ngram_range=n_gram)\n",
        "        tf_idf.fit_transform(text)\n",
        "\n",
        "        X = tf_idf.transform(text)\n",
        "        \n",
        "    return X"
      ],
      "execution_count": 0,
      "outputs": []
    },
    {
      "cell_type": "code",
      "metadata": {
        "id": "1O5QoBuYBCMN",
        "colab_type": "code",
        "colab": {}
      },
      "source": [
        "\"\"\"\n",
        "@:param range_list represents x-axis values. If your x-axis values are in (1, 20) range,\n",
        "plot's x-axis's in (1, 20) range.\n",
        "@:param value_list represents accuracy values\n",
        "@:param title_str is your plot's title. It must be in string type. \n",
        "@:param x_label_str is your x-axis title. For example, 'C values'\n",
        "@:param y_label_str is your y-axis title. For example, 'Accuracies'\n",
        "\"\"\"\n",
        "\n",
        "def draw_plot(range_list, value_list, title_str, x_label_str, y_label_str):\n",
        "\n",
        "    plt.plot(range_list, value_list, color=\"b\", linestyle=\"dashed\", marker=\"o\", markerfacecolor=\"r\")\n",
        "    plt.title(title_str)\n",
        "    plt.xlabel(x_label_str)\n",
        "    plt.ylabel(y_label_str)\n",
        "    plt.show()"
      ],
      "execution_count": 0,
      "outputs": []
    },
    {
      "cell_type": "code",
      "metadata": {
        "id": "hQSEBM8gifET",
        "colab_type": "code",
        "colab": {}
      },
      "source": [
        "y = []\n",
        "for label in data_df[\"class\"]:\n",
        "    if label == 1 or label == 0:\n",
        "        y.append(1)\n",
        "    else:\n",
        "        y.append(0)"
      ],
      "execution_count": 0,
      "outputs": []
    },
    {
      "cell_type": "code",
      "metadata": {
        "id": "Q1tJjpbFBE1B",
        "colab_type": "code",
        "colab": {}
      },
      "source": [
        "X = data_df['tweet'].values.astype('U')\n",
        "#y = data_df[\"class\"].values.astype('U')\n",
        "X = feature_extract(X)"
      ],
      "execution_count": 0,
      "outputs": []
    },
    {
      "cell_type": "code",
      "metadata": {
        "id": "1-pJrmcXjSpr",
        "colab_type": "code",
        "outputId": "7138c49a-fcd5-4ec1-ccab-fe5d3b6783dc",
        "colab": {
          "base_uri": "https://localhost:8080/",
          "height": 34
        }
      },
      "source": [
        "len(data_df), len(y)"
      ],
      "execution_count": 11,
      "outputs": [
        {
          "output_type": "execute_result",
          "data": {
            "text/plain": [
              "(24783, 24783)"
            ]
          },
          "metadata": {
            "tags": []
          },
          "execution_count": 11
        }
      ]
    },
    {
      "cell_type": "code",
      "metadata": {
        "id": "PzCe_1f_BOgi",
        "colab_type": "code",
        "outputId": "2e31643b-1f48-4a31-b970-5070c7bba467",
        "colab": {
          "base_uri": "https://localhost:8080/",
          "height": 357
        }
      },
      "source": [
        "c_acc_list = []\n",
        "for c in range(1, 21):\n",
        "    clf = LogisticRegression(C=c, solver=\"liblinear\", multi_class=\"ovr\", random_state=42)\n",
        "    scores = cross_val_score(clf, X, y, cv=10)\n",
        "    c_acc_list.append(scores.mean())\n",
        "    print(\"Accuracy C:\", c, \": \", scores.mean())"
      ],
      "execution_count": 12,
      "outputs": [
        {
          "output_type": "stream",
          "text": [
            "Accuracy C: 1 :  0.935360124317878\n",
            "Accuracy C: 2 :  0.9423808742427513\n",
            "Accuracy C: 3 :  0.9449229866634369\n",
            "Accuracy C: 4 :  0.9453266030296135\n",
            "Accuracy C: 5 :  0.9451652476443773\n",
            "Accuracy C: 6 :  0.9450843908850486\n",
            "Accuracy C: 7 :  0.9447212598743082\n",
            "Accuracy C: 8 :  0.9448018724517585\n",
            "Accuracy C: 9 :  0.9445194516912198\n",
            "Accuracy C: 10 :  0.9444790477297434\n",
            "Accuracy C: 11 :  0.9441965781328291\n",
            "Accuracy C: 12 :  0.9437930919969878\n",
            "Accuracy C: 13 :  0.9436317366117517\n",
            "Accuracy C: 14 :  0.943510703794033\n",
            "Accuracy C: 15 :  0.943308977004904\n",
            "Accuracy C: 16 :  0.9431072176581916\n",
            "Accuracy C: 17 :  0.9429457646002042\n",
            "Accuracy C: 18 :  0.943066813696715\n",
            "Accuracy C: 19 :  0.9427439889746999\n",
            "Accuracy C: 20 :  0.9423808254063758\n"
          ],
          "name": "stdout"
        }
      ]
    },
    {
      "cell_type": "code",
      "metadata": {
        "id": "lRyYbgKkCRxV",
        "colab_type": "code",
        "outputId": "0698d7ec-7379-435e-e607-32251454884a",
        "colab": {
          "base_uri": "https://localhost:8080/",
          "height": 295
        }
      },
      "source": [
        "draw_plot(range(1, 21), c_acc_list, \"Different C Values in Logistic Regression\", \"c values\", \"Accuracies\")"
      ],
      "execution_count": 13,
      "outputs": [
        {
          "output_type": "display_data",
          "data": {
            "image/png": "[encoded data removed]",
            "text/plain": [
              "<Figure size 432x288 with 1 Axes>"
            ]
          },
          "metadata": {
            "tags": []
          }
        }
      ]
    },
    {
      "cell_type": "code",
      "metadata": {
        "id": "VTGQpvIgCT65",
        "colab_type": "code",
        "outputId": "4f7651e7-0422-4433-f868-b3b60f48da24",
        "colab": {
          "base_uri": "https://localhost:8080/",
          "height": 51
        }
      },
      "source": [
        "c_val = max(c_acc_list)\n",
        "c = c_acc_list.index(c_val)\n",
        "print(c)\n",
        "c += 1\n",
        "print(c)\n"
      ],
      "execution_count": 14,
      "outputs": [
        {
          "output_type": "stream",
          "text": [
            "3\n",
            "4\n"
          ],
          "name": "stdout"
        }
      ]
    },
    {
      "cell_type": "code",
      "metadata": {
        "id": "NJuS3YszCV6Z",
        "colab_type": "code",
        "outputId": "9fbecdc2-a1c8-402b-d8e4-a41c7cb85f32",
        "colab": {
          "base_uri": "https://localhost:8080/",
          "height": 187
        }
      },
      "source": [
        "\"\"\"for n_gram in [(1, 1), (2, 2), (3, 3), (4, 4), (5, 5)]:\n",
        "    for stop_word in [True, False]:\n",
        "        X = data_df['tweet'].values.astype('U')\n",
        "        X = feature_extract(X, stop_word=stop_word, n_gram=n_gram)\n",
        "\n",
        "        clf = LogisticRegression(C=c, solver=\"liblinear\", multi_class=\"ovr\", random_state=42)\n",
        "        scores = cross_val_score(clf, X, y, cv=10)\n",
        "        if stop_word:\n",
        "            print(\"Accuracy without stopwords\", n_gram, \":\" , scores.mean())\n",
        "        else:\n",
        "            print(\"Accuracy with stopwords\", n_gram, \":\" , scores.mean())\"\"\""
      ],
      "execution_count": 15,
      "outputs": [
        {
          "output_type": "stream",
          "text": [
            "Accuracy without stopwords (1, 1) : 0.9453266030296135\n",
            "Accuracy with stopwords (1, 1) : 0.9439142550450417\n",
            "Accuracy without stopwords (2, 2) : 0.8435223105726519\n",
            "Accuracy with stopwords (2, 2) : 0.8516328116631684\n",
            "Accuracy without stopwords (3, 3) : 0.8342413317874993\n",
            "Accuracy with stopwords (3, 3) : 0.834846593548845\n",
            "Accuracy without stopwords (4, 4) : 0.8337167314399796\n",
            "Accuracy with stopwords (4, 4) : 0.8340799112870958\n",
            "Accuracy without stopwords (5, 5) : 0.8327886449566186\n",
            "Accuracy with stopwords (5, 5) : 0.8337974742477652\n"
          ],
          "name": "stdout"
        }
      ]
    },
    {
      "cell_type": "code",
      "metadata": {
        "id": "j36ocx6mU39O",
        "colab_type": "code",
        "colab": {
          "base_uri": "https://localhost:8080/",
          "height": 187
        },
        "outputId": "4bc36b40-a485-44ea-b235-4fa16d673bb0"
      },
      "source": [
        "acc_with_stop = []\n",
        "acc_wout_stop = []\n",
        "for n_gram in [(1, 1), (2, 2), (3, 3), (4, 4), (5, 5)]:\n",
        "    for stop_word in [True, False]:\n",
        "        X = data_df['tweet'].values.astype('U')\n",
        "        X = feature_extract(X, stop_word=stop_word, n_gram=n_gram)\n",
        "\n",
        "        clf = LogisticRegression(C=c, solver=\"liblinear\", multi_class=\"ovr\", random_state=42)\n",
        "        scores = cross_val_score(clf, X, y, cv=10)\n",
        "        if stop_word:\n",
        "            acc_wout_stop.append(scores.mean())\n",
        "            print(\"Accuracy without stopwords\", n_gram, \":\" , scores.mean())\n",
        "        else:\n",
        "            acc_with_stop.append(scores.mean())\n",
        "            print(\"Accuracy with stopwords\", n_gram, \":\" , scores.mean())"
      ],
      "execution_count": 16,
      "outputs": [
        {
          "output_type": "stream",
          "text": [
            "Accuracy without stopwords (1, 1) : 0.9453266030296135\n",
            "Accuracy with stopwords (1, 1) : 0.9439142550450417\n",
            "Accuracy without stopwords (2, 2) : 0.8435223105726519\n",
            "Accuracy with stopwords (2, 2) : 0.8516328116631684\n",
            "Accuracy without stopwords (3, 3) : 0.8342413317874993\n",
            "Accuracy with stopwords (3, 3) : 0.834846593548845\n",
            "Accuracy without stopwords (4, 4) : 0.8337167314399796\n",
            "Accuracy with stopwords (4, 4) : 0.8340799112870958\n",
            "Accuracy without stopwords (5, 5) : 0.8327886449566186\n",
            "Accuracy with stopwords (5, 5) : 0.8337974742477652\n"
          ],
          "name": "stdout"
        }
      ]
    },
    {
      "cell_type": "code",
      "metadata": {
        "id": "8CSpwdrAVC2P",
        "colab_type": "code",
        "colab": {
          "base_uri": "https://localhost:8080/",
          "height": 295
        },
        "outputId": "3fc005a5-3a93-47f6-9678-433b0b086b2d"
      },
      "source": [
        "n_grams = [\"1-gram\", \"2-gram\", \"3-gram\", \"4-gram\", \"5-gram\"]\n",
        "draw_plot(n_grams, acc_with_stop, \"Logistic Regression - Dataset-1 with Stop words\", \"n-grams\", \"Accuracy Values\")"
      ],
      "execution_count": 17,
      "outputs": [
        {
          "output_type": "display_data",
          "data": {
            "image/png": "[encoded data removed]",
            "text/plain": [
              "<Figure size 432x288 with 1 Axes>"
            ]
          },
          "metadata": {
            "tags": []
          }
        }
      ]
    },
    {
      "cell_type": "code",
      "metadata": {
        "id": "hBQn19u3VHJL",
        "colab_type": "code",
        "colab": {
          "base_uri": "https://localhost:8080/",
          "height": 295
        },
        "outputId": "93e04f3a-2fd8-4258-fc26-e00dc747824c"
      },
      "source": [
        "draw_plot(n_grams, acc_wout_stop, \"Logistic Regression - Dataset-1 without Stop words\", \"n-grams\", \"Accuracy Values\")"
      ],
      "execution_count": 19,
      "outputs": [
        {
          "output_type": "display_data",
          "data": {
            "image/png": "[encoded data removed]",
            "text/plain": [
              "<Figure size 432x288 with 1 Axes>"
            ]
          },
          "metadata": {
            "tags": []
          }
        }
      ]
    }
  ]
}