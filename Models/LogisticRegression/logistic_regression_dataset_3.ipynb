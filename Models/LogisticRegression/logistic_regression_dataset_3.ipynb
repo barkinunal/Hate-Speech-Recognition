{
  "nbformat": 4,
  "nbformat_minor": 0,
  "metadata": {
    "kernelspec": {
      "name": "python3",
      "display_name": "Python 3"
    },
    "language_info": {
      "codemirror_mode": {
        "name": "ipython",
        "version": 3
      },
      "file_extension": ".py",
      "mimetype": "text/x-python",
      "name": "python",
      "nbconvert_exporter": "python",
      "pygments_lexer": "ipython3",
      "version": "3.7.4"
    },
    "colab": {
      "name": "logistic_regression_dataset_3.ipynb",
      "provenance": [],
      "collapsed_sections": []
    },
    "accelerator": "TPU"
  },
  "cells": [
    {
      "cell_type": "code",
      "metadata": {
        "id": "w_OpqUslL_-E",
        "colab_type": "code",
        "outputId": "d66b787b-0da9-48d8-92a8-b875e041d62a",
        "colab": {
          "base_uri": "https://localhost:8080/",
          "height": 122
        }
      },
      "source": [
        "from google.colab import drive\n",
        "drive.mount('/content/drive')"
      ],
      "execution_count": 0,
      "outputs": [
        {
          "output_type": "stream",
          "text": [
            "Go to this URL in a browser: https://accounts.google.com/o/oauth2/auth?client_id=947318989803-6bn6qk8qdgf4n4g3pfee6491hc0brc4i.apps.googleusercontent.com&redirect_uri=urn%3aietf%3awg%3aoauth%3a2.0%3aoob&response_type=code&scope=email%20https%3a%2f%2fwww.googleapis.com%2fauth%2fdocs.test%20https%3a%2f%2fwww.googleapis.com%2fauth%2fdrive%20https%3a%2f%2fwww.googleapis.com%2fauth%2fdrive.photos.readonly%20https%3a%2f%2fwww.googleapis.com%2fauth%2fpeopleapi.readonly\n",
            "\n",
            "Enter your authorization code:\n",
            "··········\n",
            "Mounted at /content/drive\n"
          ],
          "name": "stdout"
        }
      ]
    },
    {
      "cell_type": "code",
      "metadata": {
        "id": "KOwFKmWGL-LC",
        "colab_type": "code",
        "colab": {}
      },
      "source": [
        "import pandas as pd\n",
        "from sklearn.model_selection import train_test_split\n",
        "from sklearn.linear_model import LogisticRegression\n",
        "import matplotlib.pyplot as plt\n",
        "from sklearn.feature_extraction.text import TfidfVectorizer\n",
        "from sklearn.metrics import classification_report\n",
        "import sklearn.metrics as metrics\n",
        "from sklearn.model_selection import cross_val_score\n",
        "from sklearn.metrics import classification_report, accuracy_score, make_scorer\n",
        "\n",
        "def classification_report_with_accuracy_score(y_true, y_pred):\n",
        "\n",
        "    print(classification_report(y_true, y_pred)) # print classification report\n",
        "    return accuracy_score(y_true, y_pred) # return accuracy score\n",
        "\n",
        "\n",
        "%matplotlib inline"
      ],
      "execution_count": 0,
      "outputs": []
    },
    {
      "cell_type": "code",
      "metadata": {
        "id": "5dPdi2I1L-LI",
        "colab_type": "code",
        "colab": {}
      },
      "source": [
        "path = \"/content/drive/My Drive/ML_Term_Project/\"\n",
        "data_df = pd.read_csv(path + \"dataset_3.csv\")"
      ],
      "execution_count": 0,
      "outputs": []
    },
    {
      "cell_type": "code",
      "metadata": {
        "id": "z9gLzEXpL-LK",
        "colab_type": "code",
        "colab": {}
      },
      "source": [
        "# Some useless columns are dropped\n",
        "data_df = data_df.drop([\"Unnamed: 0\", \"index\"], axis=1)"
      ],
      "execution_count": 0,
      "outputs": []
    },
    {
      "cell_type": "code",
      "metadata": {
        "id": "A-lbvSwhL-LM",
        "colab_type": "code",
        "outputId": "e70bce68-0182-469b-c646-5f697b51bc92",
        "colab": {
          "base_uri": "https://localhost:8080/",
          "height": 153
        }
      },
      "source": [
        "data_df.info()"
      ],
      "execution_count": 0,
      "outputs": [
        {
          "output_type": "stream",
          "text": [
            "<class 'pandas.core.frame.DataFrame'>\n",
            "RangeIndex: 16907 entries, 0 to 16906\n",
            "Data columns (total 3 columns):\n",
            "text     16595 non-null object\n",
            "class    16907 non-null object\n",
            "norm     16907 non-null int64\n",
            "dtypes: int64(1), object(2)\n",
            "memory usage: 396.4+ KB\n"
          ],
          "name": "stdout"
        }
      ]
    },
    {
      "cell_type": "code",
      "metadata": {
        "id": "DSFi7w3zL-LP",
        "colab_type": "code",
        "outputId": "ee0de216-4d85-490f-ea82-5e6b0bedfd9b",
        "colab": {
          "base_uri": "https://localhost:8080/",
          "height": 419
        }
      },
      "source": [
        "data_df.fillna(\"\")"
      ],
      "execution_count": 0,
      "outputs": [
        {
          "output_type": "execute_result",
          "data": {
            "text/html": [
              "<div>\n",
              "<style scoped>\n",
              "    .dataframe tbody tr th:only-of-type {\n",
              "        vertical-align: middle;\n",
              "    }\n",
              "\n",
              "    .dataframe tbody tr th {\n",
              "        vertical-align: top;\n",
              "    }\n",
              "\n",
              "    .dataframe thead th {\n",
              "        text-align: right;\n",
              "    }\n",
              "</style>\n",
              "<table border=\"1\" class=\"dataframe\">\n",
              "  <thead>\n",
              "    <tr style=\"text-align: right;\">\n",
              "      <th></th>\n",
              "      <th>text</th>\n",
              "      <th>class</th>\n",
              "      <th>norm</th>\n",
              "    </tr>\n",
              "  </thead>\n",
              "  <tbody>\n",
              "    <tr>\n",
              "      <th>0</th>\n",
              "      <td>TIL I'm the district attorney.</td>\n",
              "      <td>none</td>\n",
              "      <td>2</td>\n",
              "    </tr>\n",
              "    <tr>\n",
              "      <th>1</th>\n",
              "      <td>Aw there's nothing to cry about Lynn xx</td>\n",
              "      <td>none</td>\n",
              "      <td>2</td>\n",
              "    </tr>\n",
              "    <tr>\n",
              "      <th>2</th>\n",
              "      <td>Call me sexist, but shouldn't everyone on the ...</td>\n",
              "      <td>sexism</td>\n",
              "      <td>1</td>\n",
              "    </tr>\n",
              "    <tr>\n",
              "      <th>3</th>\n",
              "      <td>\"We fought so hard in this entire comp it woul...</td>\n",
              "      <td>none</td>\n",
              "      <td>2</td>\n",
              "    </tr>\n",
              "    <tr>\n",
              "      <th>4</th>\n",
              "      <td>This season is going to go on forever</td>\n",
              "      <td>none</td>\n",
              "      <td>2</td>\n",
              "    </tr>\n",
              "    <tr>\n",
              "      <th>...</th>\n",
              "      <td>...</td>\n",
              "      <td>...</td>\n",
              "      <td>...</td>\n",
              "    </tr>\n",
              "    <tr>\n",
              "      <th>16902</th>\n",
              "      <td>ash and camilla have grown on me, but can Kat ...</td>\n",
              "      <td>sexism</td>\n",
              "      <td>1</td>\n",
              "    </tr>\n",
              "    <tr>\n",
              "      <th>16903</th>\n",
              "      <td>Kat you've been owned: \"there's only one way t...</td>\n",
              "      <td>none</td>\n",
              "      <td>2</td>\n",
              "    </tr>\n",
              "    <tr>\n",
              "      <th>16904</th>\n",
              "      <td>Because if non of those things are true, I don...</td>\n",
              "      <td>none</td>\n",
              "      <td>2</td>\n",
              "    </tr>\n",
              "    <tr>\n",
              "      <th>16905</th>\n",
              "      <td>Why not just make a tart?</td>\n",
              "      <td>none</td>\n",
              "      <td>2</td>\n",
              "    </tr>\n",
              "    <tr>\n",
              "      <th>16906</th>\n",
              "      <td>We didn't overturn elections in either place, ...</td>\n",
              "      <td>none</td>\n",
              "      <td>2</td>\n",
              "    </tr>\n",
              "  </tbody>\n",
              "</table>\n",
              "<p>16907 rows × 3 columns</p>\n",
              "</div>"
            ],
            "text/plain": [
              "                                                    text   class  norm\n",
              "0                         TIL I'm the district attorney.    none     2\n",
              "1                Aw there's nothing to cry about Lynn xx    none     2\n",
              "2      Call me sexist, but shouldn't everyone on the ...  sexism     1\n",
              "3      \"We fought so hard in this entire comp it woul...    none     2\n",
              "4                  This season is going to go on forever    none     2\n",
              "...                                                  ...     ...   ...\n",
              "16902  ash and camilla have grown on me, but can Kat ...  sexism     1\n",
              "16903  Kat you've been owned: \"there's only one way t...    none     2\n",
              "16904  Because if non of those things are true, I don...    none     2\n",
              "16905                          Why not just make a tart?    none     2\n",
              "16906  We didn't overturn elections in either place, ...    none     2\n",
              "\n",
              "[16907 rows x 3 columns]"
            ]
          },
          "metadata": {
            "tags": []
          },
          "execution_count": 6
        }
      ]
    },
    {
      "cell_type": "code",
      "metadata": {
        "id": "5bdkUrXmL-LS",
        "colab_type": "code",
        "colab": {}
      },
      "source": [
        "\n",
        "def feature_extract(text, stop_word=True, n_gram=(1, 1)):\n",
        "\n",
        "    # If stop words want to be excluded.\n",
        "    if stop_word:\n",
        "    \n",
        "        tf_idf = TfidfVectorizer(ngram_range=n_gram, stop_words=\"english\")\n",
        "        tf_idf.fit_transform(text)\n",
        "\n",
        "        X = tf_idf.transform(text)\n",
        "        \n",
        "    # If stop words want to be included\n",
        "    if not stop_word:\n",
        "    \n",
        "        tf_idf = TfidfVectorizer(ngram_range=n_gram)\n",
        "        tf_idf.fit_transform(text)\n",
        "\n",
        "        X = tf_idf.transform(text)\n",
        "        \n",
        "    return X"
      ],
      "execution_count": 0,
      "outputs": []
    },
    {
      "cell_type": "code",
      "metadata": {
        "id": "4OZPorEbL-LU",
        "colab_type": "code",
        "colab": {}
      },
      "source": [
        "\"\"\"\n",
        "@:param range_list represents x-axis values. If your x-axis values are in (1, 20) range,\n",
        "plot's x-axis's in (1, 20) range.\n",
        "@:param value_list represents accuracy values\n",
        "@:param title_str is your plot's title. It must be in string type. \n",
        "@:param x_label_str is your x-axis title. For example, 'C values'\n",
        "@:param y_label_str is your y-axis title. For example, 'Accuracies'\n",
        "\"\"\"\n",
        "\n",
        "def draw_plot(range_list, value_list, title_str, x_label_str, y_label_str):\n",
        "\n",
        "    plt.plot(range_list, value_list, color=\"b\", linestyle=\"dashed\", marker=\"o\", markerfacecolor=\"r\")\n",
        "    plt.title(title_str)\n",
        "    plt.xlabel(x_label_str)\n",
        "    plt.ylabel(y_label_str)\n",
        "    plt.show()"
      ],
      "execution_count": 0,
      "outputs": []
    },
    {
      "cell_type": "code",
      "metadata": {
        "id": "Lm0EqCazL-LW",
        "colab_type": "code",
        "colab": {}
      },
      "source": [
        "X = data_df['text'].values.astype('U')\n",
        "X = feature_extract(X)\n",
        "y = []\n",
        "for label in data_df[\"norm\"]:\n",
        "    if label == 1 or label == 0:\n",
        "        y.append(1)\n",
        "    else:\n",
        "        y.append(0)"
      ],
      "execution_count": 0,
      "outputs": []
    },
    {
      "cell_type": "code",
      "metadata": {
        "id": "0tU9eNK4L-LY",
        "colab_type": "code",
        "outputId": "2643a69b-99e0-4459-a368-d94bcfb83275",
        "colab": {}
      },
      "source": [
        "c_acc_list = []\n",
        "for c in range(1, 20):\n",
        "    clf = LogisticRegression(C=c, solver=\"liblinear\", multi_class=\"ovr\", random_state=42)\n",
        "    scores = cross_val_score(clf, X, y, cv=10)\n",
        "    c_acc_list.append(scores.mean())\n",
        "    print(\"Accuracy C:\", c, \": \", scores.mean())"
      ],
      "execution_count": 0,
      "outputs": [
        {
          "output_type": "stream",
          "text": [
            "Accuracy C: 1 :  0.80712073335283\n",
            "Accuracy C: 2 :  0.8135676035097411\n",
            "Accuracy C: 3 :  0.814987582008945\n",
            "Accuracy C: 4 :  0.8159339076661836\n",
            "Accuracy C: 5 :  0.8145142089792683\n",
            "Accuracy C: 6 :  0.8141590043087923\n",
            "Accuracy C: 7 :  0.8138632862474886\n",
            "Accuracy C: 8 :  0.8134491199732604\n",
            "Accuracy C: 9 :  0.8122071462803019\n",
            "Accuracy C: 10 :  0.8103737014312262\n",
            "Accuracy C: 11 :  0.8099007486379233\n",
            "Accuracy C: 12 :  0.8093092425311671\n",
            "Accuracy C: 13 :  0.8083626717636673\n",
            "Accuracy C: 14 :  0.806883976522361\n",
            "Accuracy C: 15 :  0.8065882934531314\n",
            "Accuracy C: 16 :  0.8062926454174116\n",
            "Accuracy C: 17 :  0.8058196575905988\n",
            "Accuracy C: 18 :  0.8055237995195629\n",
            "Accuracy C: 19 :  0.8049324335054096\n"
          ],
          "name": "stdout"
        }
      ]
    },
    {
      "cell_type": "code",
      "metadata": {
        "id": "ssQEqjl2L-Lb",
        "colab_type": "code",
        "outputId": "f1050f7b-9758-43b4-be6c-5107a1dc7275",
        "colab": {}
      },
      "source": [
        "draw_plot(range(1, 20), c_acc_list, \"Different C Values in Logistic Regression\", \"c values\", \"Accuracies\")"
      ],
      "execution_count": 0,
      "outputs": [
        {
          "output_type": "display_data",
          "data": {
            "image/png": "[encoded data removed]",
            "text/plain": [
              "<Figure size 432x288 with 1 Axes>"
            ]
          },
          "metadata": {
            "tags": [],
            "needs_background": "light"
          }
        }
      ]
    },
    {
      "cell_type": "code",
      "metadata": {
        "id": "54R7NMCLL-Lf",
        "colab_type": "code",
        "outputId": "4fc7091d-44c6-467e-a5db-b446bd7ecaad",
        "colab": {}
      },
      "source": [
        "c_val = max(c_acc_list)\n",
        "c = c_acc_list.index(c_val)+1\n",
        "print(c)"
      ],
      "execution_count": 0,
      "outputs": [
        {
          "output_type": "stream",
          "text": [
            "4\n"
          ],
          "name": "stdout"
        }
      ]
    },
    {
      "cell_type": "code",
      "metadata": {
        "id": "g_51rjk-L-Lh",
        "colab_type": "code",
        "outputId": "8a0a65e8-3c61-4fbc-9479-4f53b115bddc",
        "colab": {
          "base_uri": "https://localhost:8080/",
          "height": 187
        }
      },
      "source": [
        "with_stop_word_acc = []\n",
        "without_stop_word_acc = []\n",
        "for i in range(1, 6):\n",
        "    for stop_word in [True, False]:\n",
        "        X = data_df['text'].values.astype('U')\n",
        "        X = feature_extract(X, stop_word=stop_word, n_gram=(i, i))\n",
        "        y = []\n",
        "        for label in data_df[\"norm\"]:\n",
        "            if label == 1 or label == 0:\n",
        "                y.append(1)\n",
        "            else:\n",
        "                y.append(0)\n",
        "        clf = LogisticRegression(C=4, solver=\"liblinear\", multi_class=\"ovr\", random_state=42)\n",
        "        scores = cross_val_score(clf, X, y, cv=10)\n",
        "        if stop_word:\n",
        "            print(\"Accuracy without stopwords\", (i, i), \":\" , scores.mean())\n",
        "            without_stop_word_acc.append(scores.mean())\n",
        "        else:\n",
        "            print(\"Accuracy with stopwords\", (i, i), \":\" , scores.mean())\n",
        "            with_stop_word_acc.append(scores.mean())"
      ],
      "execution_count": 0,
      "outputs": [
        {
          "output_type": "stream",
          "text": [
            "Accuracy without stopwords (1, 1) : 0.8161120306250634\n",
            "Accuracy with stopwords (1, 1) : 0.8172943428313486\n",
            "Accuracy without stopwords (2, 2) : 0.7376825449035793\n",
            "Accuracy with stopwords (2, 2) : 0.7728161971313497\n",
            "Accuracy without stopwords (3, 3) : 0.6936773870718282\n",
            "Accuracy with stopwords (3, 3) : 0.7405811833619685\n",
            "Accuracy without stopwords (4, 4) : 0.687999258168025\n",
            "Accuracy with stopwords (4, 4) : 0.7100610261775708\n",
            "Accuracy without stopwords (5, 5) : 0.6867570395305463\n",
            "Accuracy with stopwords (5, 5) : 0.689832632908646\n"
          ],
          "name": "stdout"
        }
      ]
    },
    {
      "cell_type": "code",
      "metadata": {
        "id": "-IRgv5wLL-Lk",
        "colab_type": "code",
        "outputId": "8ba980d3-18d7-46aa-b321-54f3726ca096",
        "colab": {
          "base_uri": "https://localhost:8080/",
          "height": 295
        }
      },
      "source": [
        "range_list = [\"1-gram\", \"2-gram\", \"3-gram\", \"4-gram\", \"5-gram\"]\n",
        "\n",
        "draw_plot(range_list, with_stop_word_acc, \"Logistic Regression with Stop Words\", \"n-grams\", \"Accuracies\")"
      ],
      "execution_count": 0,
      "outputs": [
        {
          "output_type": "display_data",
          "data": {
            "image/png": "[encoded data removed]",
            "text/plain": [
              "<Figure size 432x288 with 1 Axes>"
            ]
          },
          "metadata": {
            "tags": []
          }
        }
      ]
    },
    {
      "cell_type": "code",
      "metadata": {
        "id": "oZLypqEIL-Ln",
        "colab_type": "code",
        "outputId": "470b3cc8-f690-4d17-a223-12107c00bb8f",
        "colab": {
          "base_uri": "https://localhost:8080/",
          "height": 295
        }
      },
      "source": [
        "draw_plot(range_list, without_stop_word_acc, \"Logistic Regression without Stop Words\", \"n-grams\", \"Accuracies\")\n"
      ],
      "execution_count": 0,
      "outputs": [
        {
          "output_type": "display_data",
          "data": {
            "image/png": "[encoded data removed]",
            "text/plain": [
              "<Figure size 432x288 with 1 Axes>"
            ]
          },
          "metadata": {
            "tags": []
          }
        }
      ]
    },
    {
      "cell_type": "code",
      "metadata": {
        "id": "xgTUlDH_L-Lq",
        "colab_type": "code",
        "colab": {}
      },
      "source": [
        ""
      ],
      "execution_count": 0,
      "outputs": []
    }
  ]
}