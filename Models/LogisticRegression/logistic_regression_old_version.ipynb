{
  "nbformat": 4,
  "nbformat_minor": 0,
  "metadata": {
    "colab": {
      "name": "logistic_regression.ipynb",
      "provenance": [],
      "collapsed_sections": [],
      "machine_shape": "hm"
    },
    "kernelspec": {
      "name": "python3",
      "display_name": "Python 3"
    },
    "accelerator": "TPU"
  },
  "cells": [
    {
      "cell_type": "code",
      "metadata": {
        "id": "DasL7Allyusr",
        "colab_type": "code",
        "colab": {
          "base_uri": "https://localhost:8080/",
          "height": 122
        },
        "outputId": "5738ab33-f5ea-42b9-bb83-2fa75342f27a"
      },
      "source": [
        "from google.colab import drive\n",
        "drive.mount('/content/drive')"
      ],
      "execution_count": 4,
      "outputs": [
        {
          "output_type": "stream",
          "text": [
            "Go to this URL in a browser: https://accounts.google.com/o/oauth2/auth?client_id=947318989803-6bn6qk8qdgf4n4g3pfee6491hc0brc4i.apps.googleusercontent.com&redirect_uri=urn%3aietf%3awg%3aoauth%3a2.0%3aoob&response_type=code&scope=email%20https%3a%2f%2fwww.googleapis.com%2fauth%2fdocs.test%20https%3a%2f%2fwww.googleapis.com%2fauth%2fdrive%20https%3a%2f%2fwww.googleapis.com%2fauth%2fdrive.photos.readonly%20https%3a%2f%2fwww.googleapis.com%2fauth%2fpeopleapi.readonly\n",
            "\n",
            "Enter your authorization code:\n",
            "··········\n",
            "Mounted at /content/drive\n"
          ],
          "name": "stdout"
        }
      ]
    },
    {
      "cell_type": "code",
      "metadata": {
        "id": "Uc2TcxIUlSCy",
        "colab_type": "code",
        "colab": {}
      },
      "source": [
        "__author__ : \"Gökhan Özeloğlu\"\n",
        "__date__ : \"29.12.2019\""
      ],
      "execution_count": 0,
      "outputs": []
    },
    {
      "cell_type": "code",
      "metadata": {
        "id": "BV9iKeTy4YZt",
        "colab_type": "code",
        "colab": {}
      },
      "source": [
        "import pandas as pd\n",
        "from sklearn.model_selection import train_test_split\n",
        "from sklearn.linear_model import LogisticRegression\n",
        "from sklearn.feature_extraction.text import TfidfVectorizer\n",
        "from sklearn.metrics import classification_report\n",
        "import sklearn.metrics as metrics"
      ],
      "execution_count": 0,
      "outputs": []
    },
    {
      "cell_type": "code",
      "metadata": {
        "id": "s43srz4M4oGU",
        "colab_type": "code",
        "colab": {}
      },
      "source": [
        "path = \"/content/drive/My Drive/ML_Term_Project/\"\n",
        "dataset = pd.read_csv(path + \"cleaned_two_label_final.csv\")"
      ],
      "execution_count": 0,
      "outputs": []
    },
    {
      "cell_type": "code",
      "metadata": {
        "id": "qZuGZ3hGjpPO",
        "colab_type": "code",
        "colab": {}
      },
      "source": [
        "# Unneeded columns are dropped\n",
        "dataset = dataset.drop([\"Unnamed: 0\", \"Unnamed: 0.1\"], axis=1)"
      ],
      "execution_count": 0,
      "outputs": []
    },
    {
      "cell_type": "code",
      "metadata": {
        "id": "ghpoFKDUf3rV",
        "colab_type": "code",
        "colab": {
          "base_uri": "https://localhost:8080/",
          "height": 419
        },
        "outputId": "22258451-f268-45e9-8912-b90eb11f8671"
      },
      "source": [
        "dataset.fillna(\"\")"
      ],
      "execution_count": 50,
      "outputs": [
        {
          "output_type": "execute_result",
          "data": {
            "text/html": [
              "<div>\n",
              "<style scoped>\n",
              "    .dataframe tbody tr th:only-of-type {\n",
              "        vertical-align: middle;\n",
              "    }\n",
              "\n",
              "    .dataframe tbody tr th {\n",
              "        vertical-align: top;\n",
              "    }\n",
              "\n",
              "    .dataframe thead th {\n",
              "        text-align: right;\n",
              "    }\n",
              "</style>\n",
              "<table border=\"1\" class=\"dataframe\">\n",
              "  <thead>\n",
              "    <tr style=\"text-align: right;\">\n",
              "      <th></th>\n",
              "      <th>file_id</th>\n",
              "      <th>label</th>\n",
              "      <th>Tweet</th>\n",
              "    </tr>\n",
              "  </thead>\n",
              "  <tbody>\n",
              "    <tr>\n",
              "      <th>0</th>\n",
              "      <td>12834217_1</td>\n",
              "      <td>noHate</td>\n",
              "      <td>As of March 13th , 2014 , the booklet had been...</td>\n",
              "    </tr>\n",
              "    <tr>\n",
              "      <th>1</th>\n",
              "      <td>12834217_2</td>\n",
              "      <td>noHate</td>\n",
              "      <td>In order to help increase the booklets downloa...</td>\n",
              "    </tr>\n",
              "    <tr>\n",
              "      <th>2</th>\n",
              "      <td>12834217_3</td>\n",
              "      <td>noHate</td>\n",
              "      <td>( Simply copy and paste the following text int...</td>\n",
              "    </tr>\n",
              "    <tr>\n",
              "      <th>3</th>\n",
              "      <td>12834217_4</td>\n",
              "      <td>hate</td>\n",
              "      <td>Click below for a FREE download of a colorfull...</td>\n",
              "    </tr>\n",
              "    <tr>\n",
              "      <th>4</th>\n",
              "      <td>12834217_5</td>\n",
              "      <td>noHate</td>\n",
              "      <td>Click on the `` DOWNLOAD ( 7.42 MB ) '' green ...</td>\n",
              "    </tr>\n",
              "    <tr>\n",
              "      <th>...</th>\n",
              "      <td>...</td>\n",
              "      <td>...</td>\n",
              "      <td>...</td>\n",
              "    </tr>\n",
              "    <tr>\n",
              "      <th>10939</th>\n",
              "      <td>33676864_5</td>\n",
              "      <td>noHate</td>\n",
              "      <td>Billy - `` That guy would n't leave me alone ,...</td>\n",
              "    </tr>\n",
              "    <tr>\n",
              "      <th>10940</th>\n",
              "      <td>33677019_1</td>\n",
              "      <td>noHate</td>\n",
              "      <td>Wish we at least had a Marine Le Pen to vote f...</td>\n",
              "    </tr>\n",
              "    <tr>\n",
              "      <th>10941</th>\n",
              "      <td>33677019_2</td>\n",
              "      <td>noHate</td>\n",
              "      <td>Its like the choices are white genocide candid...</td>\n",
              "    </tr>\n",
              "    <tr>\n",
              "      <th>10942</th>\n",
              "      <td>33677053_1</td>\n",
              "      <td>hate</td>\n",
              "      <td>Why White people used to say that sex was a si...</td>\n",
              "    </tr>\n",
              "    <tr>\n",
              "      <th>10943</th>\n",
              "      <td>33677053_2</td>\n",
              "      <td>noHate</td>\n",
              "      <td>Now I get it !</td>\n",
              "    </tr>\n",
              "  </tbody>\n",
              "</table>\n",
              "<p>10944 rows × 3 columns</p>\n",
              "</div>"
            ],
            "text/plain": [
              "          file_id   label                                              Tweet\n",
              "0      12834217_1  noHate  As of March 13th , 2014 , the booklet had been...\n",
              "1      12834217_2  noHate  In order to help increase the booklets downloa...\n",
              "2      12834217_3  noHate  ( Simply copy and paste the following text int...\n",
              "3      12834217_4    hate  Click below for a FREE download of a colorfull...\n",
              "4      12834217_5  noHate  Click on the `` DOWNLOAD ( 7.42 MB ) '' green ...\n",
              "...           ...     ...                                                ...\n",
              "10939  33676864_5  noHate  Billy - `` That guy would n't leave me alone ,...\n",
              "10940  33677019_1  noHate  Wish we at least had a Marine Le Pen to vote f...\n",
              "10941  33677019_2  noHate  Its like the choices are white genocide candid...\n",
              "10942  33677053_1    hate  Why White people used to say that sex was a si...\n",
              "10943  33677053_2  noHate                                     Now I get it !\n",
              "\n",
              "[10944 rows x 3 columns]"
            ]
          },
          "metadata": {
            "tags": []
          },
          "execution_count": 50
        }
      ]
    },
    {
      "cell_type": "code",
      "metadata": {
        "id": "6PBTA0qhf1NO",
        "colab_type": "code",
        "colab": {}
      },
      "source": [
        "training_data, testing_data = train_test_split(dataset, test_size=0.3)\n",
        "\n",
        "train_class = training_data['label'].values.astype('U')\n",
        "test_class = testing_data['label'].values.astype('U')\n",
        "\n",
        "binary_train = []\n",
        "\n",
        "# String labels are converted to numerical form\n",
        "for c in train_class:\n",
        "    if c == \"hate\":\n",
        "        binary_train.append(1)\n",
        "    else:\n",
        "        binary_train.append(0)\n",
        "\n",
        "binary_test = []\n",
        "\n",
        "for c in test_class:\n",
        "    if c == \"hate\":\n",
        "        binary_test.append(1)\n",
        "    else:\n",
        "        binary_test.append(0)\n",
        "\n",
        "train_text = training_data['Tweet'].values.astype('U')\n",
        "test_text = testing_data['Tweet'].values.astype('U')"
      ],
      "execution_count": 0,
      "outputs": []
    },
    {
      "cell_type": "code",
      "metadata": {
        "id": "EAmod5OfZHtY",
        "colab_type": "code",
        "colab": {}
      },
      "source": [
        "\n",
        "def feature_extract(train_text, test_text, stop_word=True):\n",
        "\n",
        "    # If stop words want to be excluded.\n",
        "    if stop_word:\n",
        "    \n",
        "        tf_idf = TfidfVectorizer(ngram_range=(1,1), stop_words=\"english\")\n",
        "        tf_idf.fit_transform(train_text)\n",
        "\n",
        "        train_feature_set = tf_idf.transform(train_text)\n",
        "        test_feature_set = tf_idf.transform(test_text)\n",
        "        \n",
        "    # If stop words want to be included\n",
        "    if not stop_word:\n",
        "    \n",
        "        tf_idf = TfidfVectorizer(ngram_range=(1,1))\n",
        "        tf_idf.fit_transform(train_text)\n",
        "\n",
        "        train_feature_set = tf_idf.transform(train_text)\n",
        "        test_feature_set = tf_idf.transform(test_text)\n",
        "        \n",
        "    return train_feature_set, test_feature_set\n"
      ],
      "execution_count": 0,
      "outputs": []
    },
    {
      "cell_type": "code",
      "metadata": {
        "id": "fcyOtBk6hGsT",
        "colab_type": "code",
        "colab": {
          "base_uri": "https://localhost:8080/",
          "height": 51
        },
        "outputId": "400efbf2-8451-4ee3-c0dc-2af22b1d4b47"
      },
      "source": [
        "for b in [True, False]:\n",
        "    train_feature_set, test_feature_set = feature_extract(train_text, test_text, stop_word=b)\n",
        "    logmodel = LogisticRegression(solver=\"liblinear\", multi_class=\"ovr\", random_state=42)\n",
        "    logmodel.fit(train_feature_set, binary_train)\n",
        "\n",
        "    predictions = logmodel.predict(test_feature_set)\n",
        "\n",
        "    if b is True:\n",
        "        print(\"Accuracy(without Stop words): \", metrics.accuracy_score(binary_test, predictions))\n",
        "    else:\n",
        "        print(\"Accuracy(with Stop words): \", metrics.accuracy_score(binary_test, predictions))"
      ],
      "execution_count": 59,
      "outputs": [
        {
          "output_type": "stream",
          "text": [
            "Accuracy(without Stop words):  0.8836784409257004\n",
            "Accuracy(with Stop words):  0.8864190012180267\n"
          ],
          "name": "stdout"
        }
      ]
    }
  ]
}