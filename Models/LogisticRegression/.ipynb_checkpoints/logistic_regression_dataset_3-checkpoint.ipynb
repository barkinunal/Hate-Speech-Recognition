{
 "cells": [
  {
   "cell_type": "code",
   "execution_count": 1,
   "metadata": {},
   "outputs": [],
   "source": [
    "import pandas as pd\n",
    "from sklearn.model_selection import train_test_split\n",
    "from sklearn.linear_model import LogisticRegression\n",
    "import matplotlib.pyplot as plt\n",
    "from sklearn.feature_extraction.text import TfidfVectorizer\n",
    "from sklearn.metrics import classification_report\n",
    "import sklearn.metrics as metrics\n",
    "from sklearn.model_selection import cross_val_score\n",
    "\n",
    "%matplotlib inline"
   ]
  },
  {
   "cell_type": "code",
   "execution_count": 2,
   "metadata": {},
   "outputs": [],
   "source": [
    "data_df = pd.read_csv(\"dataset_3.csv\")"
   ]
  },
  {
   "cell_type": "code",
   "execution_count": 3,
   "metadata": {},
   "outputs": [],
   "source": [
    "# Some useless columns are dropped\n",
    "data_df = data_df.drop([\"Unnamed: 0\", \"index\"], axis=1)"
   ]
  },
  {
   "cell_type": "code",
   "execution_count": 4,
   "metadata": {},
   "outputs": [
    {
     "name": "stdout",
     "output_type": "stream",
     "text": [
      "<class 'pandas.core.frame.DataFrame'>\n",
      "RangeIndex: 16907 entries, 0 to 16906\n",
      "Data columns (total 3 columns):\n",
      "text     16595 non-null object\n",
      "class    16907 non-null object\n",
      "norm     16907 non-null int64\n",
      "dtypes: int64(1), object(2)\n",
      "memory usage: 396.4+ KB\n"
     ]
    }
   ],
   "source": [
    "data_df.info()"
   ]
  },
  {
   "cell_type": "code",
   "execution_count": 5,
   "metadata": {},
   "outputs": [
    {
     "data": {
      "text/html": [
       "<div>\n",
       "<style scoped>\n",
       "    .dataframe tbody tr th:only-of-type {\n",
       "        vertical-align: middle;\n",
       "    }\n",
       "\n",
       "    .dataframe tbody tr th {\n",
       "        vertical-align: top;\n",
       "    }\n",
       "\n",
       "    .dataframe thead th {\n",
       "        text-align: right;\n",
       "    }\n",
       "</style>\n",
       "<table border=\"1\" class=\"dataframe\">\n",
       "  <thead>\n",
       "    <tr style=\"text-align: right;\">\n",
       "      <th></th>\n",
       "      <th>text</th>\n",
       "      <th>class</th>\n",
       "      <th>norm</th>\n",
       "    </tr>\n",
       "  </thead>\n",
       "  <tbody>\n",
       "    <tr>\n",
       "      <td>0</td>\n",
       "      <td>TIL I'm the district attorney.</td>\n",
       "      <td>none</td>\n",
       "      <td>2</td>\n",
       "    </tr>\n",
       "    <tr>\n",
       "      <td>1</td>\n",
       "      <td>Aw there's nothing to cry about Lynn xx</td>\n",
       "      <td>none</td>\n",
       "      <td>2</td>\n",
       "    </tr>\n",
       "    <tr>\n",
       "      <td>2</td>\n",
       "      <td>Call me sexist, but shouldn't everyone on the ...</td>\n",
       "      <td>sexism</td>\n",
       "      <td>1</td>\n",
       "    </tr>\n",
       "    <tr>\n",
       "      <td>3</td>\n",
       "      <td>\"We fought so hard in this entire comp it woul...</td>\n",
       "      <td>none</td>\n",
       "      <td>2</td>\n",
       "    </tr>\n",
       "    <tr>\n",
       "      <td>4</td>\n",
       "      <td>This season is going to go on forever</td>\n",
       "      <td>none</td>\n",
       "      <td>2</td>\n",
       "    </tr>\n",
       "    <tr>\n",
       "      <td>...</td>\n",
       "      <td>...</td>\n",
       "      <td>...</td>\n",
       "      <td>...</td>\n",
       "    </tr>\n",
       "    <tr>\n",
       "      <td>16902</td>\n",
       "      <td>ash and camilla have grown on me, but can Kat ...</td>\n",
       "      <td>sexism</td>\n",
       "      <td>1</td>\n",
       "    </tr>\n",
       "    <tr>\n",
       "      <td>16903</td>\n",
       "      <td>Kat you've been owned: \"there's only one way t...</td>\n",
       "      <td>none</td>\n",
       "      <td>2</td>\n",
       "    </tr>\n",
       "    <tr>\n",
       "      <td>16904</td>\n",
       "      <td>Because if non of those things are true, I don...</td>\n",
       "      <td>none</td>\n",
       "      <td>2</td>\n",
       "    </tr>\n",
       "    <tr>\n",
       "      <td>16905</td>\n",
       "      <td>Why not just make a tart?</td>\n",
       "      <td>none</td>\n",
       "      <td>2</td>\n",
       "    </tr>\n",
       "    <tr>\n",
       "      <td>16906</td>\n",
       "      <td>We didn't overturn elections in either place, ...</td>\n",
       "      <td>none</td>\n",
       "      <td>2</td>\n",
       "    </tr>\n",
       "  </tbody>\n",
       "</table>\n",
       "<p>16907 rows × 3 columns</p>\n",
       "</div>"
      ],
      "text/plain": [
       "                                                    text   class  norm\n",
       "0                         TIL I'm the district attorney.    none     2\n",
       "1                Aw there's nothing to cry about Lynn xx    none     2\n",
       "2      Call me sexist, but shouldn't everyone on the ...  sexism     1\n",
       "3      \"We fought so hard in this entire comp it woul...    none     2\n",
       "4                  This season is going to go on forever    none     2\n",
       "...                                                  ...     ...   ...\n",
       "16902  ash and camilla have grown on me, but can Kat ...  sexism     1\n",
       "16903  Kat you've been owned: \"there's only one way t...    none     2\n",
       "16904  Because if non of those things are true, I don...    none     2\n",
       "16905                          Why not just make a tart?    none     2\n",
       "16906  We didn't overturn elections in either place, ...    none     2\n",
       "\n",
       "[16907 rows x 3 columns]"
      ]
     },
     "execution_count": 5,
     "metadata": {},
     "output_type": "execute_result"
    }
   ],
   "source": [
    "data_df.fillna(\"\")"
   ]
  },
  {
   "cell_type": "code",
   "execution_count": 6,
   "metadata": {},
   "outputs": [],
   "source": [
    "\n",
    "def feature_extract(text, stop_word=True, n_gram=(1, 1)):\n",
    "\n",
    "    # If stop words want to be excluded.\n",
    "    if stop_word:\n",
    "    \n",
    "        tf_idf = TfidfVectorizer(ngram_range=n_gram, stop_words=\"english\")\n",
    "        tf_idf.fit_transform(text)\n",
    "\n",
    "        X = tf_idf.transform(text)\n",
    "        \n",
    "    # If stop words want to be included\n",
    "    if not stop_word:\n",
    "    \n",
    "        tf_idf = TfidfVectorizer(ngram_range=n_gram)\n",
    "        tf_idf.fit_transform(text)\n",
    "\n",
    "        X = tf_idf.transform(text)\n",
    "        \n",
    "    return X"
   ]
  },
  {
   "cell_type": "code",
   "execution_count": 7,
   "metadata": {},
   "outputs": [],
   "source": [
    "\"\"\"\n",
    "@:param range_list represents x-axis values. If your x-axis values are in (1, 20) range,\n",
    "plot's x-axis's in (1, 20) range.\n",
    "@:param value_list represents accuracy values\n",
    "@:param title_str is your plot's title. It must be in string type. \n",
    "@:param x_label_str is your x-axis title. For example, 'C values'\n",
    "@:param y_label_str is your y-axis title. For example, 'Accuracies'\n",
    "\"\"\"\n",
    "\n",
    "def draw_plot(range_list, value_list, title_str, x_label_str, y_label_str):\n",
    "\n",
    "    plt.plot(range_list, value_list, color=\"b\", linestyle=\"dashed\", marker=\"o\", markerfacecolor=\"r\")\n",
    "    plt.title(title_str)\n",
    "    plt.xlabel(x_label_str)\n",
    "    plt.ylabel(y_label_str)\n",
    "    plt.show()"
   ]
  },
  {
   "cell_type": "code",
   "execution_count": 8,
   "metadata": {},
   "outputs": [],
   "source": [
    "X = data_df['text'].values.astype('U')\n",
    "X = feature_extract(X)\n",
    "y = []\n",
    "for label in data_df[\"norm\"]:\n",
    "    if label == 1 or label == 0:\n",
    "        y.append(1)\n",
    "    else:\n",
    "        y.append(0)"
   ]
  },
  {
   "cell_type": "code",
   "execution_count": 9,
   "metadata": {},
   "outputs": [
    {
     "name": "stdout",
     "output_type": "stream",
     "text": [
      "Accuracy C: 1 :  0.80712073335283\n",
      "Accuracy C: 2 :  0.8135676035097411\n",
      "Accuracy C: 3 :  0.814987582008945\n",
      "Accuracy C: 4 :  0.8159339076661836\n",
      "Accuracy C: 5 :  0.8145142089792683\n",
      "Accuracy C: 6 :  0.8141590043087923\n",
      "Accuracy C: 7 :  0.8138632862474886\n",
      "Accuracy C: 8 :  0.8134491199732604\n",
      "Accuracy C: 9 :  0.8122071462803019\n",
      "Accuracy C: 10 :  0.8103737014312262\n",
      "Accuracy C: 11 :  0.8099007486379233\n",
      "Accuracy C: 12 :  0.8093092425311671\n",
      "Accuracy C: 13 :  0.8083626717636673\n",
      "Accuracy C: 14 :  0.806883976522361\n",
      "Accuracy C: 15 :  0.8065882934531314\n",
      "Accuracy C: 16 :  0.8062926454174116\n",
      "Accuracy C: 17 :  0.8058196575905988\n",
      "Accuracy C: 18 :  0.8055237995195629\n",
      "Accuracy C: 19 :  0.8049324335054096\n"
     ]
    }
   ],
   "source": [
    "c_acc_list = []\n",
    "for c in range(1, 20):\n",
    "    clf = LogisticRegression(C=c, solver=\"liblinear\", multi_class=\"ovr\", random_state=42)\n",
    "    scores = cross_val_score(clf, X, y, cv=10)\n",
    "    c_acc_list.append(scores.mean())\n",
    "    print(\"Accuracy C:\", c, \": \", scores.mean())"
   ]
  },
  {
   "cell_type": "code",
   "execution_count": 10,
   "metadata": {},
   "outputs": [
    {
     "data": {
      "image/png": "[encoded data removed]",
      "text/plain": [
       "<Figure size 432x288 with 1 Axes>"
      ]
     },
     "metadata": {
      "needs_background": "light"
     },
     "output_type": "display_data"
    }
   ],
   "source": [
    "draw_plot(range(1, 20), c_acc_list, \"Different C Values in Logistic Regression\", \"c values\", \"Accuracies\")"
   ]
  },
  {
   "cell_type": "code",
   "execution_count": 11,
   "metadata": {},
   "outputs": [
    {
     "name": "stdout",
     "output_type": "stream",
     "text": [
      "3\n"
     ]
    }
   ],
   "source": [
    "c_val = max(c_acc_list)\n",
    "c = c_acc_list.index(c_val)\n",
    "print(c)"
   ]
  },
  {
   "cell_type": "code",
   "execution_count": 15,
   "metadata": {},
   "outputs": [
    {
     "name": "stdout",
     "output_type": "stream",
     "text": [
      "Accuracy without stopwords (1, 1) : 0.814987582008945\n",
      "Accuracy with stopwords (1, 1) : 0.8171164648584242\n",
      "Accuracy without stopwords (2, 2) : 0.7350790451172993\n",
      "Accuracy with stopwords (2, 2) : 0.7719871132581011\n",
      "Accuracy without stopwords (3, 3) : 0.6919619139095072\n",
      "Accuracy with stopwords (3, 3) : 0.7388058766945059\n",
      "Accuracy without stopwords (4, 4) : 0.6874666918286406\n",
      "Accuracy with stopwords (4, 4) : 0.7074583299659418\n",
      "Accuracy without stopwords (5, 5) : 0.686638709325233\n",
      "Accuracy with stopwords (5, 5) : 0.6883538459296814\n"
     ]
    }
   ],
   "source": [
    "for n_gram in [(1, 1), (2, 2), (3, 3), (4, 4), (5, 5)]:\n",
    "    for stop_word in [True, False]:\n",
    "        X = data_df['text'].values.astype('U')\n",
    "        X = feature_extract(X, stop_word=stop_word, n_gram=n_gram)\n",
    "        \n",
    "        clf = LogisticRegression(C=c, solver=\"liblinear\", multi_class=\"ovr\", random_state=42)\n",
    "        scores = cross_val_score(clf, X, y, cv=10)\n",
    "        if stop_word:\n",
    "            print(\"Accuracy without stopwords\", n_gram, \":\" , scores.mean())\n",
    "        else:\n",
    "            print(\"Accuracy with stopwords\", n_gram, \":\" , scores.mean())"
   ]
  },
  {
   "cell_type": "code",
   "execution_count": null,
   "metadata": {},
   "outputs": [],
   "source": []
  }
 ],
 "metadata": {
  "kernelspec": {
   "display_name": "Python 3",
   "language": "python",
   "name": "python3"
  },
  "language_info": {
   "codemirror_mode": {
    "name": "ipython",
    "version": 3
   },
   "file_extension": ".py",
   "mimetype": "text/x-python",
   "name": "python",
   "nbconvert_exporter": "python",
   "pygments_lexer": "ipython3",
   "version": "3.7.4"
  }
 },
 "nbformat": 4,
 "nbformat_minor": 2
}
