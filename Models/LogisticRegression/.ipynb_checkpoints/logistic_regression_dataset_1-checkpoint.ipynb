{
 "cells": [
  {
   "cell_type": "code",
   "execution_count": 1,
   "metadata": {
    "colab": {
     "base_uri": "https://localhost:8080/",
     "height": 122
    },
    "colab_type": "code",
    "id": "M3FdSMZu_b9L",
    "outputId": "3582be12-1b4b-4d88-f201-b99050bc5faf"
   },
   "outputs": [
    {
     "name": "stdout",
     "output_type": "stream",
     "text": [
      "Go to this URL in a browser: https://accounts.google.com/o/oauth2/auth?client_id=947318989803-6bn6qk8qdgf4n4g3pfee6491hc0brc4i.apps.googleusercontent.com&redirect_uri=urn%3aietf%3awg%3aoauth%3a2.0%3aoob&response_type=code&scope=email%20https%3a%2f%2fwww.googleapis.com%2fauth%2fdocs.test%20https%3a%2f%2fwww.googleapis.com%2fauth%2fdrive%20https%3a%2f%2fwww.googleapis.com%2fauth%2fdrive.photos.readonly%20https%3a%2f%2fwww.googleapis.com%2fauth%2fpeopleapi.readonly\n",
      "\n",
      "Enter your authorization code:\n",
      "··········\n",
      "Mounted at /content/drive\n"
     ]
    }
   ],
   "source": [
    "from google.colab import drive\n",
    "drive.mount('/content/drive')"
   ]
  },
  {
   "cell_type": "code",
   "execution_count": 0,
   "metadata": {
    "colab": {},
    "colab_type": "code",
    "id": "1sIV-rC3_iZz"
   },
   "outputs": [],
   "source": [
    "__author__ = \"Gökhan Özeloğlu\"\n",
    "__date__ = \"05.01.2020\""
   ]
  },
  {
   "cell_type": "code",
   "execution_count": 0,
   "metadata": {
    "colab": {},
    "colab_type": "code",
    "id": "aUD5equ1_o95"
   },
   "outputs": [],
   "source": [
    "import pandas as pd\n",
    "from sklearn.linear_model import LogisticRegression\n",
    "import matplotlib.pyplot as plt\n",
    "from sklearn.feature_extraction.text import TfidfVectorizer\n",
    "from sklearn.metrics import classification_report\n",
    "import sklearn.metrics as metrics\n",
    "from sklearn.model_selection import cross_val_score\n",
    "\n",
    "%matplotlib inline"
   ]
  },
  {
   "cell_type": "code",
   "execution_count": 0,
   "metadata": {
    "colab": {},
    "colab_type": "code",
    "id": "zJj7Dd7d_w2t"
   },
   "outputs": [],
   "source": [
    "path = \"/content/drive/My Drive/ML_Term_Project/\"\n",
    "data_df = pd.read_csv(path + \"dataset_1.csv\")"
   ]
  },
  {
   "cell_type": "code",
   "execution_count": 5,
   "metadata": {
    "colab": {
     "base_uri": "https://localhost:8080/",
     "height": 204
    },
    "colab_type": "code",
    "id": "xNA4VSx6Atvc",
    "outputId": "4321076b-c7de-41a2-dfdb-98c5f3f821e8"
   },
   "outputs": [
    {
     "data": {
      "text/html": [
       "<div>\n",
       "<style scoped>\n",
       "    .dataframe tbody tr th:only-of-type {\n",
       "        vertical-align: middle;\n",
       "    }\n",
       "\n",
       "    .dataframe tbody tr th {\n",
       "        vertical-align: top;\n",
       "    }\n",
       "\n",
       "    .dataframe thead th {\n",
       "        text-align: right;\n",
       "    }\n",
       "</style>\n",
       "<table border=\"1\" class=\"dataframe\">\n",
       "  <thead>\n",
       "    <tr style=\"text-align: right;\">\n",
       "      <th></th>\n",
       "      <th>Unnamed: 0</th>\n",
       "      <th>Unnamed: 0.1</th>\n",
       "      <th>count</th>\n",
       "      <th>hate_speech</th>\n",
       "      <th>offensive_language</th>\n",
       "      <th>neither</th>\n",
       "      <th>class</th>\n",
       "      <th>tweet</th>\n",
       "    </tr>\n",
       "  </thead>\n",
       "  <tbody>\n",
       "    <tr>\n",
       "      <th>0</th>\n",
       "      <td>0</td>\n",
       "      <td>0</td>\n",
       "      <td>3</td>\n",
       "      <td>0</td>\n",
       "      <td>0</td>\n",
       "      <td>3</td>\n",
       "      <td>2</td>\n",
       "      <td>!!! As a woman you shouldn't complain about cl...</td>\n",
       "    </tr>\n",
       "    <tr>\n",
       "      <th>1</th>\n",
       "      <td>1</td>\n",
       "      <td>1</td>\n",
       "      <td>3</td>\n",
       "      <td>0</td>\n",
       "      <td>3</td>\n",
       "      <td>0</td>\n",
       "      <td>1</td>\n",
       "      <td>!!!!! boy dats cold...tyga dwn bad for cuffin ...</td>\n",
       "    </tr>\n",
       "    <tr>\n",
       "      <th>2</th>\n",
       "      <td>2</td>\n",
       "      <td>2</td>\n",
       "      <td>3</td>\n",
       "      <td>0</td>\n",
       "      <td>3</td>\n",
       "      <td>0</td>\n",
       "      <td>1</td>\n",
       "      <td>!!!!!!! Dawg!!!! You ever fuck a bitch and she...</td>\n",
       "    </tr>\n",
       "    <tr>\n",
       "      <th>3</th>\n",
       "      <td>3</td>\n",
       "      <td>3</td>\n",
       "      <td>3</td>\n",
       "      <td>0</td>\n",
       "      <td>2</td>\n",
       "      <td>1</td>\n",
       "      <td>1</td>\n",
       "      <td>!!!!!!!!! she look like a tranny</td>\n",
       "    </tr>\n",
       "    <tr>\n",
       "      <th>4</th>\n",
       "      <td>4</td>\n",
       "      <td>4</td>\n",
       "      <td>6</td>\n",
       "      <td>0</td>\n",
       "      <td>6</td>\n",
       "      <td>0</td>\n",
       "      <td>1</td>\n",
       "      <td>!!!!!!!!!!!!! The shit you hear about me might...</td>\n",
       "    </tr>\n",
       "  </tbody>\n",
       "</table>\n",
       "</div>"
      ],
      "text/plain": [
       "   Unnamed: 0  ...                                              tweet\n",
       "0           0  ...  !!! As a woman you shouldn't complain about cl...\n",
       "1           1  ...  !!!!! boy dats cold...tyga dwn bad for cuffin ...\n",
       "2           2  ...  !!!!!!! Dawg!!!! You ever fuck a bitch and she...\n",
       "3           3  ...                   !!!!!!!!! she look like a tranny\n",
       "4           4  ...  !!!!!!!!!!!!! The shit you hear about me might...\n",
       "\n",
       "[5 rows x 8 columns]"
      ]
     },
     "execution_count": 5,
     "metadata": {
      "tags": []
     },
     "output_type": "execute_result"
    }
   ],
   "source": [
    "data_df.head()"
   ]
  },
  {
   "cell_type": "code",
   "execution_count": 6,
   "metadata": {
    "colab": {
     "base_uri": "https://localhost:8080/",
     "height": 204
    },
    "colab_type": "code",
    "id": "um8O7guWAwAk",
    "outputId": "21d33d3d-a151-4f20-eff2-eb4bf25613ac"
   },
   "outputs": [
    {
     "data": {
      "text/html": [
       "<div>\n",
       "<style scoped>\n",
       "    .dataframe tbody tr th:only-of-type {\n",
       "        vertical-align: middle;\n",
       "    }\n",
       "\n",
       "    .dataframe tbody tr th {\n",
       "        vertical-align: top;\n",
       "    }\n",
       "\n",
       "    .dataframe thead th {\n",
       "        text-align: right;\n",
       "    }\n",
       "</style>\n",
       "<table border=\"1\" class=\"dataframe\">\n",
       "  <thead>\n",
       "    <tr style=\"text-align: right;\">\n",
       "      <th></th>\n",
       "      <th>class</th>\n",
       "      <th>tweet</th>\n",
       "    </tr>\n",
       "  </thead>\n",
       "  <tbody>\n",
       "    <tr>\n",
       "      <th>0</th>\n",
       "      <td>2</td>\n",
       "      <td>!!! As a woman you shouldn't complain about cl...</td>\n",
       "    </tr>\n",
       "    <tr>\n",
       "      <th>1</th>\n",
       "      <td>1</td>\n",
       "      <td>!!!!! boy dats cold...tyga dwn bad for cuffin ...</td>\n",
       "    </tr>\n",
       "    <tr>\n",
       "      <th>2</th>\n",
       "      <td>1</td>\n",
       "      <td>!!!!!!! Dawg!!!! You ever fuck a bitch and she...</td>\n",
       "    </tr>\n",
       "    <tr>\n",
       "      <th>3</th>\n",
       "      <td>1</td>\n",
       "      <td>!!!!!!!!! she look like a tranny</td>\n",
       "    </tr>\n",
       "    <tr>\n",
       "      <th>4</th>\n",
       "      <td>1</td>\n",
       "      <td>!!!!!!!!!!!!! The shit you hear about me might...</td>\n",
       "    </tr>\n",
       "  </tbody>\n",
       "</table>\n",
       "</div>"
      ],
      "text/plain": [
       "   class                                              tweet\n",
       "0      2  !!! As a woman you shouldn't complain about cl...\n",
       "1      1  !!!!! boy dats cold...tyga dwn bad for cuffin ...\n",
       "2      1  !!!!!!! Dawg!!!! You ever fuck a bitch and she...\n",
       "3      1                   !!!!!!!!! she look like a tranny\n",
       "4      1  !!!!!!!!!!!!! The shit you hear about me might..."
      ]
     },
     "execution_count": 6,
     "metadata": {
      "tags": []
     },
     "output_type": "execute_result"
    }
   ],
   "source": [
    "# Unneeded columns are dropped\n",
    "data_df = data_df.drop([\"Unnamed: 0\", \"Unnamed: 0.1\", \"count\", \"hate_speech\", \"offensive_language\", \"neither\"], axis=1)\n",
    "data_df.head()"
   ]
  },
  {
   "cell_type": "code",
   "execution_count": 7,
   "metadata": {
    "colab": {
     "base_uri": "https://localhost:8080/",
     "height": 419
    },
    "colab_type": "code",
    "id": "ZSczMqrPA8l-",
    "outputId": "0ad7e8e4-884e-49eb-af44-6f8a00ab761b"
   },
   "outputs": [
    {
     "data": {
      "text/html": [
       "<div>\n",
       "<style scoped>\n",
       "    .dataframe tbody tr th:only-of-type {\n",
       "        vertical-align: middle;\n",
       "    }\n",
       "\n",
       "    .dataframe tbody tr th {\n",
       "        vertical-align: top;\n",
       "    }\n",
       "\n",
       "    .dataframe thead th {\n",
       "        text-align: right;\n",
       "    }\n",
       "</style>\n",
       "<table border=\"1\" class=\"dataframe\">\n",
       "  <thead>\n",
       "    <tr style=\"text-align: right;\">\n",
       "      <th></th>\n",
       "      <th>class</th>\n",
       "      <th>tweet</th>\n",
       "    </tr>\n",
       "  </thead>\n",
       "  <tbody>\n",
       "    <tr>\n",
       "      <th>0</th>\n",
       "      <td>2</td>\n",
       "      <td>!!! As a woman you shouldn't complain about cl...</td>\n",
       "    </tr>\n",
       "    <tr>\n",
       "      <th>1</th>\n",
       "      <td>1</td>\n",
       "      <td>!!!!! boy dats cold...tyga dwn bad for cuffin ...</td>\n",
       "    </tr>\n",
       "    <tr>\n",
       "      <th>2</th>\n",
       "      <td>1</td>\n",
       "      <td>!!!!!!! Dawg!!!! You ever fuck a bitch and she...</td>\n",
       "    </tr>\n",
       "    <tr>\n",
       "      <th>3</th>\n",
       "      <td>1</td>\n",
       "      <td>!!!!!!!!! she look like a tranny</td>\n",
       "    </tr>\n",
       "    <tr>\n",
       "      <th>4</th>\n",
       "      <td>1</td>\n",
       "      <td>!!!!!!!!!!!!! The shit you hear about me might...</td>\n",
       "    </tr>\n",
       "    <tr>\n",
       "      <th>...</th>\n",
       "      <td>...</td>\n",
       "      <td>...</td>\n",
       "    </tr>\n",
       "    <tr>\n",
       "      <th>24778</th>\n",
       "      <td>1</td>\n",
       "      <td>you's a muthaf***in lie right! His TL is trash...</td>\n",
       "    </tr>\n",
       "    <tr>\n",
       "      <th>24779</th>\n",
       "      <td>2</td>\n",
       "      <td>you've gone and broke the wrong heart baby, an...</td>\n",
       "    </tr>\n",
       "    <tr>\n",
       "      <th>24780</th>\n",
       "      <td>1</td>\n",
       "      <td>young buck wanna eat!!.. dat nigguh like I ain...</td>\n",
       "    </tr>\n",
       "    <tr>\n",
       "      <th>24781</th>\n",
       "      <td>1</td>\n",
       "      <td>youu got wild bitches tellin you lies</td>\n",
       "    </tr>\n",
       "    <tr>\n",
       "      <th>24782</th>\n",
       "      <td>2</td>\n",
       "      <td>~~Ruffled | Ntac Eileen Dahlia - Beautiful col...</td>\n",
       "    </tr>\n",
       "  </tbody>\n",
       "</table>\n",
       "<p>24783 rows × 2 columns</p>\n",
       "</div>"
      ],
      "text/plain": [
       "       class                                              tweet\n",
       "0          2  !!! As a woman you shouldn't complain about cl...\n",
       "1          1  !!!!! boy dats cold...tyga dwn bad for cuffin ...\n",
       "2          1  !!!!!!! Dawg!!!! You ever fuck a bitch and she...\n",
       "3          1                   !!!!!!!!! she look like a tranny\n",
       "4          1  !!!!!!!!!!!!! The shit you hear about me might...\n",
       "...      ...                                                ...\n",
       "24778      1  you's a muthaf***in lie right! His TL is trash...\n",
       "24779      2  you've gone and broke the wrong heart baby, an...\n",
       "24780      1  young buck wanna eat!!.. dat nigguh like I ain...\n",
       "24781      1              youu got wild bitches tellin you lies\n",
       "24782      2  ~~Ruffled | Ntac Eileen Dahlia - Beautiful col...\n",
       "\n",
       "[24783 rows x 2 columns]"
      ]
     },
     "execution_count": 7,
     "metadata": {
      "tags": []
     },
     "output_type": "execute_result"
    }
   ],
   "source": [
    "data_df.fillna(\"\")"
   ]
  },
  {
   "cell_type": "code",
   "execution_count": 0,
   "metadata": {
    "colab": {},
    "colab_type": "code",
    "id": "jZ0qL_tPA-Ls"
   },
   "outputs": [],
   "source": [
    "def feature_extract(text, stop_word=True, n_gram=(1, 1)):\n",
    "\n",
    "    # If stop words want to be excluded.\n",
    "    if stop_word:\n",
    "    \n",
    "        tf_idf = TfidfVectorizer(ngram_range=n_gram, stop_words=\"english\")\n",
    "        tf_idf.fit_transform(text)\n",
    "\n",
    "        X = tf_idf.transform(text)\n",
    "        \n",
    "    # If stop words want to be included\n",
    "    if not stop_word:\n",
    "    \n",
    "        tf_idf = TfidfVectorizer(ngram_range=n_gram)\n",
    "        tf_idf.fit_transform(text)\n",
    "\n",
    "        X = tf_idf.transform(text)\n",
    "        \n",
    "    return X"
   ]
  },
  {
   "cell_type": "code",
   "execution_count": 0,
   "metadata": {
    "colab": {},
    "colab_type": "code",
    "id": "1O5QoBuYBCMN"
   },
   "outputs": [],
   "source": [
    "\"\"\"\n",
    "@:param range_list represents x-axis values. If your x-axis values are in (1, 20) range,\n",
    "plot's x-axis's in (1, 20) range.\n",
    "@:param value_list represents accuracy values\n",
    "@:param title_str is your plot's title. It must be in string type. \n",
    "@:param x_label_str is your x-axis title. For example, 'C values'\n",
    "@:param y_label_str is your y-axis title. For example, 'Accuracies'\n",
    "\"\"\"\n",
    "\n",
    "def draw_plot(range_list, value_list, title_str, x_label_str, y_label_str):\n",
    "\n",
    "    plt.plot(range_list, value_list, color=\"b\", linestyle=\"dashed\", marker=\"o\", markerfacecolor=\"r\")\n",
    "    plt.title(title_str)\n",
    "    plt.xlabel(x_label_str)\n",
    "    plt.ylabel(y_label_str)\n",
    "    plt.show()"
   ]
  },
  {
   "cell_type": "code",
   "execution_count": 0,
   "metadata": {
    "colab": {},
    "colab_type": "code",
    "id": "hQSEBM8gifET"
   },
   "outputs": [],
   "source": [
    "y = []\n",
    "for label in data_df[\"class\"]:\n",
    "    if label == 1 or label == 0:\n",
    "        y.append(1)\n",
    "    else:\n",
    "        y.append(0)"
   ]
  },
  {
   "cell_type": "code",
   "execution_count": 0,
   "metadata": {
    "colab": {},
    "colab_type": "code",
    "id": "Q1tJjpbFBE1B"
   },
   "outputs": [],
   "source": [
    "X = data_df['tweet'].values.astype('U')\n",
    "#y = data_df[\"class\"].values.astype('U')\n",
    "X = feature_extract(X)"
   ]
  },
  {
   "cell_type": "code",
   "execution_count": 18,
   "metadata": {
    "colab": {
     "base_uri": "https://localhost:8080/",
     "height": 34
    },
    "colab_type": "code",
    "id": "1-pJrmcXjSpr",
    "outputId": "b65791fc-ef28-4620-c2c6-c5c4245d3afc"
   },
   "outputs": [
    {
     "data": {
      "text/plain": [
       "(24783, 24783)"
      ]
     },
     "execution_count": 18,
     "metadata": {
      "tags": []
     },
     "output_type": "execute_result"
    }
   ],
   "source": [
    "len(data_df), len(y)"
   ]
  },
  {
   "cell_type": "code",
   "execution_count": 22,
   "metadata": {
    "colab": {
     "base_uri": "https://localhost:8080/",
     "height": 357
    },
    "colab_type": "code",
    "id": "PzCe_1f_BOgi",
    "outputId": "66593d87-3cac-44ed-ff8f-f71123a33045"
   },
   "outputs": [
    {
     "name": "stdout",
     "output_type": "stream",
     "text": [
      "Accuracy C: 1 :  0.935360124317878\n",
      "Accuracy C: 2 :  0.9423808742427513\n",
      "Accuracy C: 3 :  0.9449229866634369\n",
      "Accuracy C: 4 :  0.9453266030296135\n",
      "Accuracy C: 5 :  0.9451652476443773\n",
      "Accuracy C: 6 :  0.9450843908850486\n",
      "Accuracy C: 7 :  0.9447212598743082\n",
      "Accuracy C: 8 :  0.9448018724517585\n",
      "Accuracy C: 9 :  0.9445194516912198\n",
      "Accuracy C: 10 :  0.9444790477297434\n",
      "Accuracy C: 11 :  0.9441965781328291\n",
      "Accuracy C: 12 :  0.9437930919969878\n",
      "Accuracy C: 13 :  0.9436317366117517\n",
      "Accuracy C: 14 :  0.943510703794033\n",
      "Accuracy C: 15 :  0.943308977004904\n",
      "Accuracy C: 16 :  0.9431072176581916\n",
      "Accuracy C: 17 :  0.9429457646002042\n",
      "Accuracy C: 18 :  0.943066813696715\n",
      "Accuracy C: 19 :  0.9427439889746999\n",
      "Accuracy C: 20 :  0.9423808254063758\n"
     ]
    }
   ],
   "source": [
    "c_acc_list = []\n",
    "for c in range(1, 21):\n",
    "    clf = LogisticRegression(C=c, solver=\"liblinear\", multi_class=\"ovr\", random_state=42)\n",
    "    scores = cross_val_score(clf, X, y, cv=10)\n",
    "    c_acc_list.append(scores.mean())\n",
    "    print(\"Accuracy C:\", c, \": \", scores.mean())"
   ]
  },
  {
   "cell_type": "code",
   "execution_count": 23,
   "metadata": {
    "colab": {
     "base_uri": "https://localhost:8080/",
     "height": 295
    },
    "colab_type": "code",
    "id": "lRyYbgKkCRxV",
    "outputId": "442788ca-2cf9-460c-8c44-47973550ce17"
   },
   "outputs": [
    {
     "data": {
      "image/png": "[encoded data removed]",
      "text/plain": [
       "<Figure size 432x288 with 1 Axes>"
      ]
     },
     "metadata": {
      "tags": []
     },
     "output_type": "display_data"
    }
   ],
   "source": [
    "draw_plot(range(1, 21), c_acc_list, \"Different C Values in Logistic Regression\", \"c values\", \"Accuracies\")"
   ]
  },
  {
   "cell_type": "code",
   "execution_count": 24,
   "metadata": {
    "colab": {
     "base_uri": "https://localhost:8080/",
     "height": 34
    },
    "colab_type": "code",
    "id": "VTGQpvIgCT65",
    "outputId": "86b417ba-8a7e-48f8-9b44-7564e9a507e1"
   },
   "outputs": [
    {
     "name": "stdout",
     "output_type": "stream",
     "text": [
      "3\n"
     ]
    }
   ],
   "source": [
    "c_val = max(c_acc_list)\n",
    "c = c_acc_list.index(c_val)\n",
    "print(c)\n"
   ]
  },
  {
   "cell_type": "code",
   "execution_count": 26,
   "metadata": {
    "colab": {
     "base_uri": "https://localhost:8080/",
     "height": 187
    },
    "colab_type": "code",
    "id": "NJuS3YszCV6Z",
    "outputId": "a6da4488-2c20-407e-f3b1-dc740e45f367"
   },
   "outputs": [
    {
     "name": "stdout",
     "output_type": "stream",
     "text": [
      "Accuracy without stopwords (1, 1) : 0.8922663529417892\n",
      "Accuracy with stopwords (1, 1) : 0.8904909553404365\n",
      "Accuracy without stopwords (2, 2) : 0.7867091152444049\n",
      "Accuracy with stopwords (2, 2) : 0.7958282665593569\n",
      "Accuracy without stopwords (3, 3) : 0.7758545144834039\n",
      "Accuracy with stopwords (3, 3) : 0.7765404864949514\n",
      "Accuracy without stopwords (4, 4) : 0.7752895752895752\n",
      "Accuracy with stopwords (4, 4) : 0.7756123837327986\n",
      "Accuracy without stopwords (5, 5) : 0.7745632481529269\n",
      "Accuracy with stopwords (5, 5) : 0.7752088813181655\n"
     ]
    }
   ],
   "source": [
    "for n_gram in [(1, 1), (2, 2), (3, 3), (4, 4), (5, 5)]:\n",
    "    for stop_word in [True, False]:\n",
    "        X = data_df['tweet'].values.astype('U')\n",
    "        X = feature_extract(X, stop_word=stop_word, n_gram=n_gram)\n",
    "\n",
    "        clf = LogisticRegression(C=c, solver=\"liblinear\", multi_class=\"ovr\", random_state=42)\n",
    "        scores = cross_val_score(clf, X, y, cv=10)\n",
    "        if stop_word:\n",
    "            print(\"Accuracy without stopwords\", n_gram, \":\" , scores.mean())\n",
    "        else:\n",
    "            print(\"Accuracy with stopwords\", n_gram, \":\" , scores.mean())"
   ]
  }
 ],
 "metadata": {
  "accelerator": "TPU",
  "colab": {
   "collapsed_sections": [],
   "name": "logistic_regression_dataset_1.ipynb",
   "provenance": []
  },
  "kernelspec": {
   "display_name": "Python 3",
   "language": "python",
   "name": "python3"
  },
  "language_info": {
   "codemirror_mode": {
    "name": "ipython",
    "version": 3
   },
   "file_extension": ".py",
   "mimetype": "text/x-python",
   "name": "python",
   "nbconvert_exporter": "python",
   "pygments_lexer": "ipython3",
   "version": "3.7.4"
  }
 },
 "nbformat": 4,
 "nbformat_minor": 1
}
