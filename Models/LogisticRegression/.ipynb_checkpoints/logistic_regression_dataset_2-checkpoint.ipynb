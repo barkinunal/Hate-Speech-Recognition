{
 "cells": [
  {
   "cell_type": "code",
   "execution_count": 1,
   "metadata": {
    "colab": {
     "base_uri": "https://localhost:8080/",
     "height": 122
    },
    "colab_type": "code",
    "id": "DasL7Allyusr",
    "outputId": "25036842-4e62-422b-f1e4-91892af57435"
   },
   "outputs": [
    {
     "name": "stdout",
     "output_type": "stream",
     "text": [
      "Go to this URL in a browser: https://accounts.google.com/o/oauth2/auth?client_id=947318989803-6bn6qk8qdgf4n4g3pfee6491hc0brc4i.apps.googleusercontent.com&redirect_uri=urn%3aietf%3awg%3aoauth%3a2.0%3aoob&response_type=code&scope=email%20https%3a%2f%2fwww.googleapis.com%2fauth%2fdocs.test%20https%3a%2f%2fwww.googleapis.com%2fauth%2fdrive%20https%3a%2f%2fwww.googleapis.com%2fauth%2fdrive.photos.readonly%20https%3a%2f%2fwww.googleapis.com%2fauth%2fpeopleapi.readonly\n",
      "\n",
      "Enter your authorization code:\n",
      "··········\n",
      "Mounted at /content/drive\n"
     ]
    }
   ],
   "source": [
    "from google.colab import drive\n",
    "drive.mount('/content/drive')"
   ]
  },
  {
   "cell_type": "code",
   "execution_count": 0,
   "metadata": {
    "colab": {},
    "colab_type": "code",
    "id": "Uc2TcxIUlSCy"
   },
   "outputs": [],
   "source": [
    "__author__ : \"Gökhan Özeloğlu\"\n",
    "__date__ : \"29.12.2019\""
   ]
  },
  {
   "cell_type": "code",
   "execution_count": 0,
   "metadata": {
    "colab": {},
    "colab_type": "code",
    "id": "BV9iKeTy4YZt"
   },
   "outputs": [],
   "source": [
    "import pandas as pd\n",
    "from sklearn.model_selection import train_test_split\n",
    "from sklearn.linear_model import LogisticRegression\n",
    "import matplotlib.pyplot as plt\n",
    "from sklearn.feature_extraction.text import TfidfVectorizer\n",
    "from sklearn.metrics import classification_report\n",
    "import sklearn.metrics as metrics\n",
    "from sklearn.model_selection import cross_val_score\n",
    "\n",
    "%matplotlib inline"
   ]
  },
  {
   "cell_type": "code",
   "execution_count": 0,
   "metadata": {
    "colab": {},
    "colab_type": "code",
    "id": "s43srz4M4oGU"
   },
   "outputs": [],
   "source": [
    "path = \"/content/drive/My Drive/ML_Term_Project/\"\n",
    "data_df = pd.read_csv(path + \"dataset_2.csv\")"
   ]
  },
  {
   "cell_type": "code",
   "execution_count": 0,
   "metadata": {
    "colab": {},
    "colab_type": "code",
    "id": "qZuGZ3hGjpPO"
   },
   "outputs": [],
   "source": [
    "# Unneeded columns are dropped\n",
    "data_df = data_df.drop([\"Unnamed: 0\", \"Unnamed: 0.1\"], axis=1)"
   ]
  },
  {
   "cell_type": "code",
   "execution_count": 10,
   "metadata": {
    "colab": {
     "base_uri": "https://localhost:8080/",
     "height": 419
    },
    "colab_type": "code",
    "id": "ghpoFKDUf3rV",
    "outputId": "93a0fb71-a0f8-4791-9770-2e0f8776d7c2"
   },
   "outputs": [
    {
     "data": {
      "text/html": [
       "<div>\n",
       "<style scoped>\n",
       "    .dataframe tbody tr th:only-of-type {\n",
       "        vertical-align: middle;\n",
       "    }\n",
       "\n",
       "    .dataframe tbody tr th {\n",
       "        vertical-align: top;\n",
       "    }\n",
       "\n",
       "    .dataframe thead th {\n",
       "        text-align: right;\n",
       "    }\n",
       "</style>\n",
       "<table border=\"1\" class=\"dataframe\">\n",
       "  <thead>\n",
       "    <tr style=\"text-align: right;\">\n",
       "      <th></th>\n",
       "      <th>file_id</th>\n",
       "      <th>label</th>\n",
       "      <th>Tweet</th>\n",
       "    </tr>\n",
       "  </thead>\n",
       "  <tbody>\n",
       "    <tr>\n",
       "      <th>0</th>\n",
       "      <td>12834217_1</td>\n",
       "      <td>noHate</td>\n",
       "      <td>As of March 13th , 2014 , the booklet had been...</td>\n",
       "    </tr>\n",
       "    <tr>\n",
       "      <th>1</th>\n",
       "      <td>12834217_2</td>\n",
       "      <td>noHate</td>\n",
       "      <td>In order to help increase the booklets downloa...</td>\n",
       "    </tr>\n",
       "    <tr>\n",
       "      <th>2</th>\n",
       "      <td>12834217_3</td>\n",
       "      <td>noHate</td>\n",
       "      <td>( Simply copy and paste the following text int...</td>\n",
       "    </tr>\n",
       "    <tr>\n",
       "      <th>3</th>\n",
       "      <td>12834217_4</td>\n",
       "      <td>hate</td>\n",
       "      <td>Click below for a FREE download of a colorfull...</td>\n",
       "    </tr>\n",
       "    <tr>\n",
       "      <th>4</th>\n",
       "      <td>12834217_5</td>\n",
       "      <td>noHate</td>\n",
       "      <td>Click on the `` DOWNLOAD ( 7.42 MB ) '' green ...</td>\n",
       "    </tr>\n",
       "    <tr>\n",
       "      <th>...</th>\n",
       "      <td>...</td>\n",
       "      <td>...</td>\n",
       "      <td>...</td>\n",
       "    </tr>\n",
       "    <tr>\n",
       "      <th>10939</th>\n",
       "      <td>33676864_5</td>\n",
       "      <td>noHate</td>\n",
       "      <td>Billy - `` That guy would n't leave me alone ,...</td>\n",
       "    </tr>\n",
       "    <tr>\n",
       "      <th>10940</th>\n",
       "      <td>33677019_1</td>\n",
       "      <td>noHate</td>\n",
       "      <td>Wish we at least had a Marine Le Pen to vote f...</td>\n",
       "    </tr>\n",
       "    <tr>\n",
       "      <th>10941</th>\n",
       "      <td>33677019_2</td>\n",
       "      <td>noHate</td>\n",
       "      <td>Its like the choices are white genocide candid...</td>\n",
       "    </tr>\n",
       "    <tr>\n",
       "      <th>10942</th>\n",
       "      <td>33677053_1</td>\n",
       "      <td>hate</td>\n",
       "      <td>Why White people used to say that sex was a si...</td>\n",
       "    </tr>\n",
       "    <tr>\n",
       "      <th>10943</th>\n",
       "      <td>33677053_2</td>\n",
       "      <td>noHate</td>\n",
       "      <td>Now I get it !</td>\n",
       "    </tr>\n",
       "  </tbody>\n",
       "</table>\n",
       "<p>10944 rows × 3 columns</p>\n",
       "</div>"
      ],
      "text/plain": [
       "          file_id   label                                              Tweet\n",
       "0      12834217_1  noHate  As of March 13th , 2014 , the booklet had been...\n",
       "1      12834217_2  noHate  In order to help increase the booklets downloa...\n",
       "2      12834217_3  noHate  ( Simply copy and paste the following text int...\n",
       "3      12834217_4    hate  Click below for a FREE download of a colorfull...\n",
       "4      12834217_5  noHate  Click on the `` DOWNLOAD ( 7.42 MB ) '' green ...\n",
       "...           ...     ...                                                ...\n",
       "10939  33676864_5  noHate  Billy - `` That guy would n't leave me alone ,...\n",
       "10940  33677019_1  noHate  Wish we at least had a Marine Le Pen to vote f...\n",
       "10941  33677019_2  noHate  Its like the choices are white genocide candid...\n",
       "10942  33677053_1    hate  Why White people used to say that sex was a si...\n",
       "10943  33677053_2  noHate                                     Now I get it !\n",
       "\n",
       "[10944 rows x 3 columns]"
      ]
     },
     "execution_count": 10,
     "metadata": {
      "tags": []
     },
     "output_type": "execute_result"
    }
   ],
   "source": [
    "data_df.fillna(\"\")"
   ]
  },
  {
   "cell_type": "code",
   "execution_count": 0,
   "metadata": {
    "colab": {},
    "colab_type": "code",
    "id": "EAmod5OfZHtY"
   },
   "outputs": [],
   "source": [
    "\n",
    "def feature_extract(text, stop_word=True, n_gram=(1, 1)):\n",
    "\n",
    "    # If stop words want to be excluded.\n",
    "    if stop_word:\n",
    "    \n",
    "        tf_idf = TfidfVectorizer(ngram_range=n_gram, stop_words=\"english\")\n",
    "        tf_idf.fit_transform(text)\n",
    "\n",
    "        X = tf_idf.transform(text)\n",
    "        \n",
    "    # If stop words want to be included\n",
    "    if not stop_word:\n",
    "    \n",
    "        tf_idf = TfidfVectorizer(ngram_range=n_gram)\n",
    "        tf_idf.fit_transform(text)\n",
    "\n",
    "        X = tf_idf.transform(text)\n",
    "        \n",
    "    return X"
   ]
  },
  {
   "cell_type": "code",
   "execution_count": 0,
   "metadata": {
    "colab": {},
    "colab_type": "code",
    "id": "m41DOXBw4bY5"
   },
   "outputs": [],
   "source": [
    "\"\"\"\n",
    "@:param range_list represents x-axis values. If your x-axis values are in (1, 20) range,\n",
    "plot's x-axis's in (1, 20) range.\n",
    "@:param value_list represents accuracy values\n",
    "@:param title_str is your plot's title. It must be in string type. \n",
    "@:param x_label_str is your x-axis title. For example, 'C values'\n",
    "@:param y_label_str is your y-axis title. For example, 'Accuracies'\n",
    "\"\"\"\n",
    "\n",
    "def draw_plot(range_list, value_list, title_str, x_label_str, y_label_str):\n",
    "\n",
    "    plt.plot(range_list, value_list, color=\"b\", linestyle=\"dashed\", marker=\"o\", markerfacecolor=\"r\")\n",
    "    plt.title(title_str)\n",
    "    plt.xlabel(x_label_str)\n",
    "    plt.ylabel(y_label_str)\n",
    "    plt.show()"
   ]
  },
  {
   "cell_type": "code",
   "execution_count": 0,
   "metadata": {
    "colab": {},
    "colab_type": "code",
    "id": "Dn2mWx7v3rjd"
   },
   "outputs": [],
   "source": [
    "X = data_df['Tweet'].values.astype('U')\n",
    "temp_y = data_df[\"label\"].values.astype('U')\n",
    "X = feature_extract(X)\n",
    "y = []\n",
    "for label in temp_y:\n",
    "    if label == \"hate\":\n",
    "        y.append(1)\n",
    "    else:\n",
    "        y.append(0)"
   ]
  },
  {
   "cell_type": "code",
   "execution_count": 22,
   "metadata": {
    "colab": {
     "base_uri": "https://localhost:8080/",
     "height": 340
    },
    "colab_type": "code",
    "id": "5KQDlxH03f0Q",
    "outputId": "e5fbe839-9fb0-4407-a6fd-b22f502f4bee"
   },
   "outputs": [
    {
     "name": "stdout",
     "output_type": "stream",
     "text": [
      "Accuracy C: 1 :  0.8916302757816856\n",
      "Accuracy C: 2 :  0.8929094828713717\n",
      "Accuracy C: 3 :  0.8950116937383348\n",
      "Accuracy C: 4 :  0.8963818073367775\n",
      "Accuracy C: 5 :  0.8964731315376909\n",
      "Accuracy C: 6 :  0.8961996602571884\n",
      "Accuracy C: 7 :  0.8964735493825966\n",
      "Accuracy C: 8 :  0.8963824759191766\n",
      "Accuracy C: 9 :  0.8961082528844415\n",
      "Accuracy C: 10 :  0.8958345308664459\n",
      "Accuracy C: 11 :  0.8952861678160609\n",
      "Accuracy C: 12 :  0.8947377212883442\n",
      "Accuracy C: 13 :  0.8945548221490242\n",
      "Accuracy C: 14 :  0.894280431701379\n",
      "Accuracy C: 15 :  0.8946458956124443\n",
      "Accuracy C: 16 :  0.8944629964731249\n",
      "Accuracy C: 17 :  0.894371254427306\n",
      "Accuracy C: 18 :  0.8940056234088279\n",
      "Accuracy C: 19 :  0.8937314002213439\n"
     ]
    }
   ],
   "source": [
    "c_acc_list = []\n",
    "for c in range(1, 20):\n",
    "    clf = LogisticRegression(C=c, solver=\"liblinear\", multi_class=\"ovr\", random_state=42)\n",
    "    scores = cross_val_score(clf, X, y, cv=10)\n",
    "    c_acc_list.append(scores.mean())\n",
    "    print(\"Accuracy C:\", c, \": \", scores.mean())"
   ]
  },
  {
   "cell_type": "code",
   "execution_count": 23,
   "metadata": {
    "colab": {
     "base_uri": "https://localhost:8080/",
     "height": 295
    },
    "colab_type": "code",
    "id": "9LpCZYKz4ewK",
    "outputId": "b0484878-b8c5-4b61-a476-ea02e4ae1d01"
   },
   "outputs": [
    {
     "data": {
      "image/png": "[encoded data removed]",
      "text/plain": [
       "<Figure size 432x288 with 1 Axes>"
      ]
     },
     "metadata": {
      "tags": []
     },
     "output_type": "display_data"
    }
   ],
   "source": [
    "draw_plot(range(1, 20), c_acc_list, \"Different C Values in Logistic Regression\", \"c values\", \"Accuracies\")"
   ]
  },
  {
   "cell_type": "code",
   "execution_count": 24,
   "metadata": {
    "colab": {
     "base_uri": "https://localhost:8080/",
     "height": 34
    },
    "colab_type": "code",
    "id": "jUZbx7m94swK",
    "outputId": "9779ca75-0e3e-4e06-fd9e-d0b159adbcd2"
   },
   "outputs": [
    {
     "name": "stdout",
     "output_type": "stream",
     "text": [
      "6\n"
     ]
    }
   ],
   "source": [
    "c_val = max(c_acc_list)\n",
    "c = c_acc_list.index(c_val)\n",
    "print(c)"
   ]
  },
  {
   "cell_type": "code",
   "execution_count": 25,
   "metadata": {
    "colab": {
     "base_uri": "https://localhost:8080/",
     "height": 187
    },
    "colab_type": "code",
    "id": "aCXo4z144-NO",
    "outputId": "a62c77c5-fc70-4251-94c2-cfec18c2846e"
   },
   "outputs": [
    {
     "name": "stdout",
     "output_type": "stream",
     "text": [
      "Accuracy without stopwords (1, 1) : 0.8961996602571884\n",
      "Accuracy with stopwords (1, 1) : 0.8997622221907049\n",
      "Accuracy without stopwords (2, 2) : 0.891173488280703\n",
      "Accuracy with stopwords (2, 2) : 0.891630526977426\n",
      "Accuracy without stopwords (3, 3) : 0.8913562201598613\n",
      "Accuracy with stopwords (3, 3) : 0.8913562201598613\n",
      "Accuracy without stopwords (4, 4) : 0.8913562201598613\n",
      "Accuracy with stopwords (4, 4) : 0.8913562201598613\n",
      "Accuracy without stopwords (5, 5) : 0.8913562201598613\n",
      "Accuracy with stopwords (5, 5) : 0.8913562201598613\n"
     ]
    }
   ],
   "source": [
    "with_stop_word_acc = []\n",
    "without_stop_word_acc = []\n",
    "for i in range(1, 6):\n",
    "    for stop_word in [True, False]:\n",
    "        X = data_df['Tweet'].values.astype('U')\n",
    "        temp_y = data_df[\"label\"].values.astype('U')\n",
    "        X = feature_extract(X, stop_word=stop_word, n_gram=(i, i))\n",
    "        y = []\n",
    "        for label in temp_y:\n",
    "            if label == \"hate\":\n",
    "                y.append(1)\n",
    "            else:\n",
    "                y.append(0)\n",
    "\n",
    "        clf = LogisticRegression(C=c, solver=\"liblinear\", multi_class=\"ovr\", random_state=42)\n",
    "        scores = cross_val_score(clf, X, y, cv=10)\n",
    "        if stop_word:\n",
    "            print(\"Accuracy without stopwords\", (i, i), \":\" , scores.mean())\n",
    "            without_stop_word_acc.append(scores.mean())\n",
    "        else:\n",
    "            print(\"Accuracy with stopwords\", (i, i), \":\" , scores.mean())\n",
    "            with_stop_word_acc.append(scores.mean())"
   ]
  },
  {
   "cell_type": "code",
   "execution_count": 26,
   "metadata": {
    "colab": {
     "base_uri": "https://localhost:8080/",
     "height": 295
    },
    "colab_type": "code",
    "id": "Dxi2Y1AvXrZp",
    "outputId": "00922af5-d159-4467-e475-cae7b7da63fd"
   },
   "outputs": [
    {
     "data": {
      "image/png": "[encoded data removed]",
      "text/plain": [
       "<Figure size 432x288 with 1 Axes>"
      ]
     },
     "metadata": {
      "tags": []
     },
     "output_type": "display_data"
    }
   ],
   "source": [
    "range_list = [\"1-gram\", \"2-gram\", \"3-gram\", \"4-gram\", \"5-gram\"]\n",
    "\n",
    "draw_plot(range_list, with_stop_word_acc, \"Logistic Regression with Stop Words\", \"n-grams\", \"Accuracies\")"
   ]
  },
  {
   "cell_type": "code",
   "execution_count": 27,
   "metadata": {
    "colab": {
     "base_uri": "https://localhost:8080/",
     "height": 295
    },
    "colab_type": "code",
    "id": "HiIi20rpYTxx",
    "outputId": "c54a416b-52dc-41d5-d5aa-76700cff9e19"
   },
   "outputs": [
    {
     "data": {
      "image/png": "[encoded data removed]",
      "text/plain": [
       "<Figure size 432x288 with 1 Axes>"
      ]
     },
     "metadata": {
      "tags": []
     },
     "output_type": "display_data"
    }
   ],
   "source": [
    "draw_plot(range_list, without_stop_word_acc, \"Logistic Regression without Stop Words\", \"n-grams\", \"Accuracies\")"
   ]
  }
 ],
 "metadata": {
  "accelerator": "TPU",
  "colab": {
   "collapsed_sections": [],
   "machine_shape": "hm",
   "name": "logistic_regression_dataset_2.ipynb",
   "provenance": []
  },
  "kernelspec": {
   "display_name": "Python 3",
   "language": "python",
   "name": "python3"
  },
  "language_info": {
   "codemirror_mode": {
    "name": "ipython",
    "version": 3
   },
   "file_extension": ".py",
   "mimetype": "text/x-python",
   "name": "python",
   "nbconvert_exporter": "python",
   "pygments_lexer": "ipython3",
   "version": "3.7.4"
  }
 },
 "nbformat": 4,
 "nbformat_minor": 1
}
