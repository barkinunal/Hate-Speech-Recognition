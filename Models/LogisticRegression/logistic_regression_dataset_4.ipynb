{
 "cells": [
  {
   "cell_type": "code",
   "execution_count": 20,
   "metadata": {},
   "outputs": [],
   "source": [
    "import pandas as pd\n",
    "from sklearn.model_selection import train_test_split\n",
    "from sklearn.linear_model import LogisticRegression\n",
    "import matplotlib.pyplot as plt\n",
    "from sklearn.feature_extraction.text import TfidfVectorizer\n",
    "from sklearn.metrics import classification_report\n",
    "import sklearn.metrics as metrics\n",
    "from sklearn.model_selection import cross_val_score\n",
    "\n",
    "%matplotlib inline"
   ]
  },
  {
   "cell_type": "code",
   "execution_count": 21,
   "metadata": {},
   "outputs": [
    {
     "data": {
      "text/html": [
       "<div>\n",
       "<style scoped>\n",
       "    .dataframe tbody tr th:only-of-type {\n",
       "        vertical-align: middle;\n",
       "    }\n",
       "\n",
       "    .dataframe tbody tr th {\n",
       "        vertical-align: top;\n",
       "    }\n",
       "\n",
       "    .dataframe thead th {\n",
       "        text-align: right;\n",
       "    }\n",
       "</style>\n",
       "<table border=\"1\" class=\"dataframe\">\n",
       "  <thead>\n",
       "    <tr style=\"text-align: right;\">\n",
       "      <th></th>\n",
       "      <th>text</th>\n",
       "      <th>label</th>\n",
       "    </tr>\n",
       "  </thead>\n",
       "  <tbody>\n",
       "    <tr>\n",
       "      <td>0</td>\n",
       "      <td>Horse face hoe stop playing before I show the...</td>\n",
       "      <td>1</td>\n",
       "    </tr>\n",
       "    <tr>\n",
       "      <td>1</td>\n",
       "      <td>Alex Brosas another idiot</td>\n",
       "      <td>1</td>\n",
       "    </tr>\n",
       "    <tr>\n",
       "      <td>2</td>\n",
       "      <td>as Nancy Reagan would say   just say FUCKING ...</td>\n",
       "      <td>1</td>\n",
       "    </tr>\n",
       "    <tr>\n",
       "      <td>3</td>\n",
       "      <td>Not being homophobic here     but uhhhhhhhhhh...</td>\n",
       "      <td>1</td>\n",
       "    </tr>\n",
       "    <tr>\n",
       "      <td>4</td>\n",
       "      <td>The Nazi death gas so horrific even Hitler fe...</td>\n",
       "      <td>0</td>\n",
       "    </tr>\n",
       "    <tr>\n",
       "      <td>...</td>\n",
       "      <td>...</td>\n",
       "      <td>...</td>\n",
       "    </tr>\n",
       "    <tr>\n",
       "      <td>99794</td>\n",
       "      <td>Throat Slammed Slut Gets Her Ass Fucked https:...</td>\n",
       "      <td>1</td>\n",
       "    </tr>\n",
       "    <tr>\n",
       "      <td>99795</td>\n",
       "      <td>RT @TheCristianoGuy: This is everything. Isco ...</td>\n",
       "      <td>1</td>\n",
       "    </tr>\n",
       "    <tr>\n",
       "      <td>99796</td>\n",
       "      <td>RT @spoiledbabbby: ion wish a heartbreak on an...</td>\n",
       "      <td>0</td>\n",
       "    </tr>\n",
       "    <tr>\n",
       "      <td>99797</td>\n",
       "      <td>MY DAD JUST APRIL FOOLED ME BY SAYING BTS WAS ...</td>\n",
       "      <td>1</td>\n",
       "    </tr>\n",
       "    <tr>\n",
       "      <td>99798</td>\n",
       "      <td>K you know my work schedule is fucked up when ...</td>\n",
       "      <td>1</td>\n",
       "    </tr>\n",
       "  </tbody>\n",
       "</table>\n",
       "<p>29698 rows × 2 columns</p>\n",
       "</div>"
      ],
      "text/plain": [
       "                                                    text  label\n",
       "0       Horse face hoe stop playing before I show the...      1\n",
       "1                             Alex Brosas another idiot       1\n",
       "2       as Nancy Reagan would say   just say FUCKING ...      1\n",
       "3       Not being homophobic here     but uhhhhhhhhhh...      1\n",
       "4       The Nazi death gas so horrific even Hitler fe...      0\n",
       "...                                                  ...    ...\n",
       "99794  Throat Slammed Slut Gets Her Ass Fucked https:...      1\n",
       "99795  RT @TheCristianoGuy: This is everything. Isco ...      1\n",
       "99796  RT @spoiledbabbby: ion wish a heartbreak on an...      0\n",
       "99797  MY DAD JUST APRIL FOOLED ME BY SAYING BTS WAS ...      1\n",
       "99798  K you know my work schedule is fucked up when ...      1\n",
       "\n",
       "[29698 rows x 2 columns]"
      ]
     },
     "execution_count": 21,
     "metadata": {},
     "output_type": "execute_result"
    }
   ],
   "source": [
    "dataset = pd.read_csv(\"dataset_4.csv\", index_col = 0)\n",
    "dataset"
   ]
  },
  {
   "cell_type": "code",
   "execution_count": 22,
   "metadata": {},
   "outputs": [],
   "source": [
    "def feature_extract(text, stop_word=True, n_gram=(1, 1)):\n",
    "\n",
    "    # If stop words want to be excluded.\n",
    "    if stop_word:\n",
    "    \n",
    "        tf_idf = TfidfVectorizer(ngram_range=n_gram, stop_words=\"english\")\n",
    "        tf_idf.fit_transform(text)\n",
    "\n",
    "        X = tf_idf.transform(text)\n",
    "        \n",
    "    # If stop words want to be included\n",
    "    if not stop_word:\n",
    "    \n",
    "        tf_idf = TfidfVectorizer(ngram_range=n_gram)\n",
    "        tf_idf.fit_transform(text)\n",
    "\n",
    "        X = tf_idf.transform(text)\n",
    "        \n",
    "    return X"
   ]
  },
  {
   "cell_type": "code",
   "execution_count": 23,
   "metadata": {},
   "outputs": [],
   "source": [
    "def draw_plot(range_list, value_list, title_str, x_label_str, y_label_str):\n",
    "\n",
    "    plt.plot(range_list, value_list, color=\"b\", linestyle=\"dashed\", marker=\"o\", markerfacecolor=\"r\")\n",
    "    plt.title(title_str)\n",
    "    plt.xlabel(x_label_str)\n",
    "    plt.ylabel(y_label_str)\n",
    "    plt.show()"
   ]
  },
  {
   "cell_type": "code",
   "execution_count": 24,
   "metadata": {},
   "outputs": [],
   "source": [
    "X = dataset['text'].values.astype('U')\n",
    "temp_y = dataset[\"label\"].values.astype('U')\n",
    "X = feature_extract(X)\n",
    "y = []\n",
    "for label in temp_y:\n",
    "    if label == \"1\":\n",
    "        y.append(1)\n",
    "    else:\n",
    "        y.append(0)"
   ]
  },
  {
   "cell_type": "code",
   "execution_count": 25,
   "metadata": {},
   "outputs": [
    {
     "name": "stdout",
     "output_type": "stream",
     "text": [
      "Accuracy C: 1 :  0.7859050194316929\n",
      "Accuracy C: 2 :  0.7825719464648672\n",
      "Accuracy C: 3 :  0.7787334488242071\n",
      "Accuracy C: 4 :  0.7766123838397877\n",
      "Accuracy C: 5 :  0.7736159432275553\n",
      "Accuracy C: 6 :  0.7717977838766775\n",
      "Accuracy C: 7 :  0.7708550455004644\n",
      "Accuracy C: 8 :  0.7699797378929291\n",
      "Accuracy C: 9 :  0.7689023647136193\n",
      "Accuracy C: 10 :  0.7678250368811613\n",
      "Accuracy C: 11 :  0.7668823891986519\n",
      "Accuracy C: 12 :  0.7654682929710453\n",
      "Accuracy C: 13 :  0.7645930533837878\n",
      "Accuracy C: 14 :  0.7642563983557685\n",
      "Accuracy C: 15 :  0.7636839283614971\n",
      "Accuracy C: 16 :  0.7632127065506589\n",
      "Accuracy C: 17 :  0.7626067365695944\n",
      "Accuracy C: 18 :  0.761529295370007\n",
      "Accuracy C: 19 :  0.7610915735459618\n"
     ]
    }
   ],
   "source": [
    "c_acc_list = []\n",
    "for c in range(1, 20):\n",
    "    clf = LogisticRegression(C=c, solver=\"liblinear\", multi_class=\"ovr\", random_state=42)\n",
    "    scores = cross_val_score(clf, X, y, cv=10)\n",
    "    c_acc_list.append(scores.mean())\n",
    "    print(\"Accuracy C:\", c, \": \", scores.mean())"
   ]
  },
  {
   "cell_type": "code",
   "execution_count": 27,
   "metadata": {},
   "outputs": [
    {
     "data": {
      "image/png": "[encoded data removed]",
      "text/plain": [
       "<Figure size 432x288 with 1 Axes>"
      ]
     },
     "metadata": {
      "needs_background": "light"
     },
     "output_type": "display_data"
    }
   ],
   "source": [
    "draw_plot(range(1, 20), c_acc_list, \"Different C Values in Logistic Regression\", \"c values\", \"Accuracies\")"
   ]
  },
  {
   "cell_type": "code",
   "execution_count": 28,
   "metadata": {},
   "outputs": [
    {
     "name": "stdout",
     "output_type": "stream",
     "text": [
      "1\n"
     ]
    }
   ],
   "source": [
    "c_val = max(c_acc_list)\n",
    "c = c_acc_list.index(c_val)+1\n",
    "print(c)"
   ]
  },
  {
   "cell_type": "code",
   "execution_count": 30,
   "metadata": {},
   "outputs": [
    {
     "name": "stdout",
     "output_type": "stream",
     "text": [
      "Accuracy without stopwords (1, 1) : 0.7859050194316929\n",
      "Accuracy with stopwords (1, 1) : 0.7840201321883404\n",
      "Accuracy without stopwords (2, 2) : 0.732604998651498\n",
      "Accuracy with stopwords (2, 2) : 0.7481623244977638\n",
      "Accuracy without stopwords (3, 3) : 0.6696718781158247\n",
      "Accuracy with stopwords (3, 3) : 0.6845592722465137\n",
      "Accuracy without stopwords (4, 4) : 0.6642844227102022\n",
      "Accuracy with stopwords (4, 4) : 0.6715949814185607\n",
      "Accuracy without stopwords (5, 5) : 0.6608164882060207\n",
      "Accuracy with stopwords (5, 5) : 0.666776096177952\n"
     ]
    }
   ],
   "source": [
    "with_stop_word_acc = []\n",
    "without_stop_word_acc = []\n",
    "for i in range(1, 6):\n",
    "    for stop_word in [True, False]:\n",
    "        X = dataset['text'].values.astype('U')\n",
    "        temp_y = dataset[\"label\"].values.astype('U')\n",
    "        X = feature_extract(X, stop_word=stop_word, n_gram=(i, i))\n",
    "        y = []\n",
    "        for label in temp_y:\n",
    "            if label == \"1\":\n",
    "                y.append(1)\n",
    "            else:\n",
    "                y.append(0)\n",
    "\n",
    "        clf = LogisticRegression(C=c, solver=\"liblinear\", multi_class=\"ovr\", random_state=42)\n",
    "        scores = cross_val_score(clf, X, y, cv=10)\n",
    "        if stop_word:\n",
    "            print(\"Accuracy without stopwords\", (i, i), \":\" , scores.mean())\n",
    "            without_stop_word_acc.append(scores.mean())\n",
    "        else:\n",
    "            print(\"Accuracy with stopwords\", (i, i), \":\" , scores.mean())\n",
    "            with_stop_word_acc.append(scores.mean())"
   ]
  },
  {
   "cell_type": "code",
   "execution_count": null,
   "metadata": {},
   "outputs": [],
   "source": []
  }
 ],
 "metadata": {
  "kernelspec": {
   "display_name": "Python 3",
   "language": "python",
   "name": "python3"
  },
  "language_info": {
   "codemirror_mode": {
    "name": "ipython",
    "version": 3
   },
   "file_extension": ".py",
   "mimetype": "text/x-python",
   "name": "python",
   "nbconvert_exporter": "python",
   "pygments_lexer": "ipython3",
   "version": "3.7.4"
  }
 },
 "nbformat": 4,
 "nbformat_minor": 2
}
