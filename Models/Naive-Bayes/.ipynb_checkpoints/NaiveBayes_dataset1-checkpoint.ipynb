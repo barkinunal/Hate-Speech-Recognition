{
 "cells": [
  {
   "cell_type": "code",
   "execution_count": 3,
   "metadata": {
    "colab": {
     "base_uri": "https://localhost:8080/",
     "height": 122
    },
    "colab_type": "code",
    "id": "4oIWSfItk5k9",
    "outputId": "5595359d-8d28-4d4b-99fc-4e4f45e1c503"
   },
   "outputs": [
    {
     "name": "stdout",
     "output_type": "stream",
     "text": [
      "Go to this URL in a browser: https://accounts.google.com/o/oauth2/auth?client_id=947318989803-6bn6qk8qdgf4n4g3pfee6491hc0brc4i.apps.googleusercontent.com&redirect_uri=urn%3aietf%3awg%3aoauth%3a2.0%3aoob&response_type=code&scope=email%20https%3a%2f%2fwww.googleapis.com%2fauth%2fdocs.test%20https%3a%2f%2fwww.googleapis.com%2fauth%2fdrive%20https%3a%2f%2fwww.googleapis.com%2fauth%2fdrive.photos.readonly%20https%3a%2f%2fwww.googleapis.com%2fauth%2fpeopleapi.readonly\n",
      "\n",
      "Enter your authorization code:\n",
      "··········\n",
      "Mounted at /content/drive\n"
     ]
    }
   ],
   "source": [
    "from google.colab import drive\n",
    "drive.mount('/content/drive')"
   ]
  },
  {
   "cell_type": "code",
   "execution_count": 0,
   "metadata": {
    "colab": {},
    "colab_type": "code",
    "id": "ESQ_5W6Rlg4c"
   },
   "outputs": [],
   "source": [
    "import numpy as np\n",
    "import pandas as pd\n",
    "import matplotlib.pyplot as plt\n",
    "from sklearn.model_selection import train_test_split\n",
    "from sklearn.naive_bayes import MultinomialNB\n",
    "from sklearn.feature_extraction.text import CountVectorizer\n",
    "from sklearn.feature_extraction.text import TfidfTransformer\n",
    "from sklearn.feature_extraction.text import TfidfVectorizer\n",
    "from sklearn.naive_bayes import MultinomialNB\n",
    "from sklearn.metrics import roc_auc_score\n",
    "from sklearn.model_selection import cross_val_score\n",
    "\n",
    "%matplotlib inline"
   ]
  },
  {
   "cell_type": "code",
   "execution_count": 0,
   "metadata": {
    "colab": {},
    "colab_type": "code",
    "id": "7Pr7PyNOmLOP"
   },
   "outputs": [],
   "source": [
    "path = \"/content/drive/My Drive/ML_Term_Project/\"\n",
    "data = pd.read_csv(path + \"labeled_data_cleared.csv\")\n",
    "data_df = pd.DataFrame(data)"
   ]
  },
  {
   "cell_type": "code",
   "execution_count": 6,
   "metadata": {
    "colab": {
     "base_uri": "https://localhost:8080/",
     "height": 204
    },
    "colab_type": "code",
    "id": "5j3jN4x1nEr9",
    "outputId": "5b7b6292-1bf3-4e82-f8e4-1f72bd361cb3"
   },
   "outputs": [
    {
     "data": {
      "text/html": [
       "<div>\n",
       "<style scoped>\n",
       "    .dataframe tbody tr th:only-of-type {\n",
       "        vertical-align: middle;\n",
       "    }\n",
       "\n",
       "    .dataframe tbody tr th {\n",
       "        vertical-align: top;\n",
       "    }\n",
       "\n",
       "    .dataframe thead th {\n",
       "        text-align: right;\n",
       "    }\n",
       "</style>\n",
       "<table border=\"1\" class=\"dataframe\">\n",
       "  <thead>\n",
       "    <tr style=\"text-align: right;\">\n",
       "      <th></th>\n",
       "      <th>Unnamed: 0</th>\n",
       "      <th>count</th>\n",
       "      <th>hate_speech</th>\n",
       "      <th>offensive_language</th>\n",
       "      <th>neither</th>\n",
       "      <th>class</th>\n",
       "      <th>tweet</th>\n",
       "    </tr>\n",
       "  </thead>\n",
       "  <tbody>\n",
       "    <tr>\n",
       "      <th>0</th>\n",
       "      <td>0</td>\n",
       "      <td>3</td>\n",
       "      <td>0</td>\n",
       "      <td>0</td>\n",
       "      <td>3</td>\n",
       "      <td>2</td>\n",
       "      <td>!!! RT As a woman you shouldn't complain about...</td>\n",
       "    </tr>\n",
       "    <tr>\n",
       "      <th>1</th>\n",
       "      <td>1</td>\n",
       "      <td>3</td>\n",
       "      <td>0</td>\n",
       "      <td>3</td>\n",
       "      <td>0</td>\n",
       "      <td>1</td>\n",
       "      <td>!!!!! RT boy dats cold...tyga dwn bad for cuff...</td>\n",
       "    </tr>\n",
       "    <tr>\n",
       "      <th>2</th>\n",
       "      <td>2</td>\n",
       "      <td>3</td>\n",
       "      <td>0</td>\n",
       "      <td>3</td>\n",
       "      <td>0</td>\n",
       "      <td>1</td>\n",
       "      <td>!!!!!!! RT Dawg!!!! RT You ever fuck a bitch a...</td>\n",
       "    </tr>\n",
       "    <tr>\n",
       "      <th>3</th>\n",
       "      <td>3</td>\n",
       "      <td>3</td>\n",
       "      <td>0</td>\n",
       "      <td>2</td>\n",
       "      <td>1</td>\n",
       "      <td>1</td>\n",
       "      <td>!!!!!!!!! RT she look like a tranny</td>\n",
       "    </tr>\n",
       "    <tr>\n",
       "      <th>4</th>\n",
       "      <td>4</td>\n",
       "      <td>6</td>\n",
       "      <td>0</td>\n",
       "      <td>6</td>\n",
       "      <td>0</td>\n",
       "      <td>1</td>\n",
       "      <td>!!!!!!!!!!!!! RT The shit you hear about me mi...</td>\n",
       "    </tr>\n",
       "  </tbody>\n",
       "</table>\n",
       "</div>"
      ],
      "text/plain": [
       "   Unnamed: 0  count  ...  class                                              tweet\n",
       "0           0      3  ...      2  !!! RT As a woman you shouldn't complain about...\n",
       "1           1      3  ...      1  !!!!! RT boy dats cold...tyga dwn bad for cuff...\n",
       "2           2      3  ...      1  !!!!!!! RT Dawg!!!! RT You ever fuck a bitch a...\n",
       "3           3      3  ...      1                !!!!!!!!! RT she look like a tranny\n",
       "4           4      6  ...      1  !!!!!!!!!!!!! RT The shit you hear about me mi...\n",
       "\n",
       "[5 rows x 7 columns]"
      ]
     },
     "execution_count": 6,
     "metadata": {
      "tags": []
     },
     "output_type": "execute_result"
    }
   ],
   "source": [
    "data_df.head()"
   ]
  },
  {
   "cell_type": "code",
   "execution_count": 8,
   "metadata": {
    "colab": {
     "base_uri": "https://localhost:8080/",
     "height": 221
    },
    "colab_type": "code",
    "id": "ODVv2xxF-sWj",
    "outputId": "5c275f3a-b804-4f19-dd47-f7c5c8bb57aa"
   },
   "outputs": [
    {
     "name": "stdout",
     "output_type": "stream",
     "text": [
      "<class 'pandas.core.frame.DataFrame'>\n",
      "RangeIndex: 24783 entries, 0 to 24782\n",
      "Data columns (total 7 columns):\n",
      "Unnamed: 0            24783 non-null int64\n",
      "count                 24783 non-null int64\n",
      "hate_speech           24783 non-null int64\n",
      "offensive_language    24783 non-null int64\n",
      "neither               24783 non-null int64\n",
      "class                 24783 non-null int64\n",
      "tweet                 24763 non-null object\n",
      "dtypes: int64(6), object(1)\n",
      "memory usage: 1.3+ MB\n"
     ]
    }
   ],
   "source": [
    "data_df.info()"
   ]
  },
  {
   "cell_type": "code",
   "execution_count": 0,
   "metadata": {
    "colab": {},
    "colab_type": "code",
    "id": "EapfZV7BnI-7"
   },
   "outputs": [],
   "source": [
    "# Some useless columns are dropped\n",
    "data_df = data_df.drop([\"count\", \"hate_speech\", \"offensive_language\", \"neither\"], axis=1)"
   ]
  },
  {
   "cell_type": "code",
   "execution_count": 0,
   "metadata": {
    "colab": {},
    "colab_type": "code",
    "id": "TZHfSCmgogOd"
   },
   "outputs": [],
   "source": [
    "# Unnamed column is changed to ID\n",
    "data_df = data_df.rename(columns={\"Unnamed: 0\": \"ID\", \"class\":\"Class\"})"
   ]
  },
  {
   "cell_type": "code",
   "execution_count": 11,
   "metadata": {
    "colab": {
     "base_uri": "https://localhost:8080/",
     "height": 153
    },
    "colab_type": "code",
    "id": "Hf6695dsoz_y",
    "outputId": "7c09b609-ce12-48e4-bb79-423bcebf5813"
   },
   "outputs": [
    {
     "name": "stdout",
     "output_type": "stream",
     "text": [
      "<class 'pandas.core.frame.DataFrame'>\n",
      "RangeIndex: 24783 entries, 0 to 24782\n",
      "Data columns (total 3 columns):\n",
      "ID       24783 non-null int64\n",
      "Class    24783 non-null int64\n",
      "tweet    24763 non-null object\n",
      "dtypes: int64(2), object(1)\n",
      "memory usage: 581.0+ KB\n"
     ]
    }
   ],
   "source": [
    "data_df.info()"
   ]
  },
  {
   "cell_type": "code",
   "execution_count": 0,
   "metadata": {
    "colab": {},
    "colab_type": "code",
    "id": "3GAhKub9nI9b"
   },
   "outputs": [],
   "source": [
    "X = data_df.drop([\"Class\"], axis=1)\n",
    "y = data_df.drop([\"tweet\"], axis=1)\n"
   ]
  },
  {
   "cell_type": "code",
   "execution_count": 13,
   "metadata": {
    "colab": {
     "base_uri": "https://localhost:8080/",
     "height": 204
    },
    "colab_type": "code",
    "id": "JDSR_FfYK4_c",
    "outputId": "4f39a33d-3c36-4330-959d-1285ecff54ef"
   },
   "outputs": [
    {
     "data": {
      "text/html": [
       "<div>\n",
       "<style scoped>\n",
       "    .dataframe tbody tr th:only-of-type {\n",
       "        vertical-align: middle;\n",
       "    }\n",
       "\n",
       "    .dataframe tbody tr th {\n",
       "        vertical-align: top;\n",
       "    }\n",
       "\n",
       "    .dataframe thead th {\n",
       "        text-align: right;\n",
       "    }\n",
       "</style>\n",
       "<table border=\"1\" class=\"dataframe\">\n",
       "  <thead>\n",
       "    <tr style=\"text-align: right;\">\n",
       "      <th></th>\n",
       "      <th>ID</th>\n",
       "      <th>tweet</th>\n",
       "    </tr>\n",
       "  </thead>\n",
       "  <tbody>\n",
       "    <tr>\n",
       "      <th>0</th>\n",
       "      <td>0</td>\n",
       "      <td>!!! RT As a woman you shouldn't complain about...</td>\n",
       "    </tr>\n",
       "    <tr>\n",
       "      <th>1</th>\n",
       "      <td>1</td>\n",
       "      <td>!!!!! RT boy dats cold...tyga dwn bad for cuff...</td>\n",
       "    </tr>\n",
       "    <tr>\n",
       "      <th>2</th>\n",
       "      <td>2</td>\n",
       "      <td>!!!!!!! RT Dawg!!!! RT You ever fuck a bitch a...</td>\n",
       "    </tr>\n",
       "    <tr>\n",
       "      <th>3</th>\n",
       "      <td>3</td>\n",
       "      <td>!!!!!!!!! RT she look like a tranny</td>\n",
       "    </tr>\n",
       "    <tr>\n",
       "      <th>4</th>\n",
       "      <td>4</td>\n",
       "      <td>!!!!!!!!!!!!! RT The shit you hear about me mi...</td>\n",
       "    </tr>\n",
       "  </tbody>\n",
       "</table>\n",
       "</div>"
      ],
      "text/plain": [
       "   ID                                              tweet\n",
       "0   0  !!! RT As a woman you shouldn't complain about...\n",
       "1   1  !!!!! RT boy dats cold...tyga dwn bad for cuff...\n",
       "2   2  !!!!!!! RT Dawg!!!! RT You ever fuck a bitch a...\n",
       "3   3                !!!!!!!!! RT she look like a tranny\n",
       "4   4  !!!!!!!!!!!!! RT The shit you hear about me mi..."
      ]
     },
     "execution_count": 13,
     "metadata": {
      "tags": []
     },
     "output_type": "execute_result"
    }
   ],
   "source": [
    "X.head()"
   ]
  },
  {
   "cell_type": "code",
   "execution_count": 14,
   "metadata": {
    "colab": {
     "base_uri": "https://localhost:8080/",
     "height": 204
    },
    "colab_type": "code",
    "id": "07JTrlHjK68I",
    "outputId": "0792759a-339b-450d-89b9-3315671aa38d"
   },
   "outputs": [
    {
     "data": {
      "text/html": [
       "<div>\n",
       "<style scoped>\n",
       "    .dataframe tbody tr th:only-of-type {\n",
       "        vertical-align: middle;\n",
       "    }\n",
       "\n",
       "    .dataframe tbody tr th {\n",
       "        vertical-align: top;\n",
       "    }\n",
       "\n",
       "    .dataframe thead th {\n",
       "        text-align: right;\n",
       "    }\n",
       "</style>\n",
       "<table border=\"1\" class=\"dataframe\">\n",
       "  <thead>\n",
       "    <tr style=\"text-align: right;\">\n",
       "      <th></th>\n",
       "      <th>ID</th>\n",
       "      <th>Class</th>\n",
       "    </tr>\n",
       "  </thead>\n",
       "  <tbody>\n",
       "    <tr>\n",
       "      <th>0</th>\n",
       "      <td>0</td>\n",
       "      <td>2</td>\n",
       "    </tr>\n",
       "    <tr>\n",
       "      <th>1</th>\n",
       "      <td>1</td>\n",
       "      <td>1</td>\n",
       "    </tr>\n",
       "    <tr>\n",
       "      <th>2</th>\n",
       "      <td>2</td>\n",
       "      <td>1</td>\n",
       "    </tr>\n",
       "    <tr>\n",
       "      <th>3</th>\n",
       "      <td>3</td>\n",
       "      <td>1</td>\n",
       "    </tr>\n",
       "    <tr>\n",
       "      <th>4</th>\n",
       "      <td>4</td>\n",
       "      <td>1</td>\n",
       "    </tr>\n",
       "  </tbody>\n",
       "</table>\n",
       "</div>"
      ],
      "text/plain": [
       "   ID  Class\n",
       "0   0      2\n",
       "1   1      1\n",
       "2   2      1\n",
       "3   3      1\n",
       "4   4      1"
      ]
     },
     "execution_count": 14,
     "metadata": {
      "tags": []
     },
     "output_type": "execute_result"
    }
   ],
   "source": [
    "y.head()"
   ]
  },
  {
   "cell_type": "code",
   "execution_count": 0,
   "metadata": {
    "colab": {},
    "colab_type": "code",
    "id": "3T2V3DHLLV1j"
   },
   "outputs": [],
   "source": [
    "data_df.tweet = data_df.tweet.fillna(\"\")"
   ]
  },
  {
   "cell_type": "code",
   "execution_count": 0,
   "metadata": {
    "colab": {},
    "colab_type": "code",
    "id": "UbJ2FdTNorHf"
   },
   "outputs": [],
   "source": [
    "\"\"\"\n",
    "@:param documents represents corpus data\n",
    "@:param stop_word means stop words are included or not. Default value is True\n",
    "If you want to include stop words you should give False as a parameter\n",
    "@:param n_gram indicate ngram range of TfidfVectorizer. Default value is \n",
    "(1, 1). Its mean unigram. \n",
    "(2, 2) --> bigram\n",
    "(3, 3) --> 3-gram\n",
    "(4, 4) --> 4-gram\n",
    "@:return a numpy array\n",
    "@:details min_df is determined as 0.0005. It ignores vocabulary if it has a\n",
    "document frequency strictly lower than 0.0005. This value is a threshold value.\n",
    "\"\"\"\n",
    "def bag_word(documents, stop_word=True, n_gram=(1,1)):\n",
    "\n",
    "    # If stop words want to be excluded.\n",
    "    if stop_word:\n",
    "        if n_gram == (1,1):\n",
    "            tfidfconverter = TfidfVectorizer(ngram_range=n_gram, stop_words='english')\n",
    "        else:\n",
    "            tfidfconverter = TfidfVectorizer(ngram_range=n_gram, min_df=0.0005, stop_words='english')\n",
    "    \n",
    "    # If stop words want to be included\n",
    "    if not stop_word:\n",
    "        if n_gram == (1, 1):\n",
    "            tfidfconverter = TfidfVectorizer(ngram_range=n_gram)\n",
    "        else:\n",
    "            tfidfconverter = TfidfVectorizer(ngram_range=n_gram, min_df=0.0005)\n",
    "\n",
    "    X = tfidfconverter.fit_transform(documents).toarray()\n",
    "\n",
    "    return X"
   ]
  },
  {
   "cell_type": "code",
   "execution_count": 0,
   "metadata": {
    "colab": {},
    "colab_type": "code",
    "id": "7AiYhkIiwvmY"
   },
   "outputs": [],
   "source": [
    "\"\"\"\n",
    "@:param prediction is numpy array which stores predictions\n",
    "@:param y_test true labels of test data\n",
    "@:return accuracy value\n",
    "\"\"\"\n",
    "def get_accuracy(prediction, y_test):\n",
    "    correct = 0\n",
    "    total = 0\n",
    "    for i in range(len(prediction)):\n",
    "        if prediction[i] == y_test.iloc[i]:\n",
    "            correct += 1\n",
    "        total += 1\n",
    "\n",
    "    return correct / total"
   ]
  },
  {
   "cell_type": "code",
   "execution_count": 0,
   "metadata": {
    "colab": {},
    "colab_type": "code",
    "id": "Q2kEaKGdefd-"
   },
   "outputs": [],
   "source": [
    "\n",
    "\"\"\"\n",
    "@:param range_list represents x-axis values. If your x-axis values are in (1, 20) range,\n",
    "plot's x-axis's in (1, 20) range.\n",
    "@:param value_list represents accuracy values\n",
    "@:param title_str is your plot's title. It must be in string type. \n",
    "@:param x_label_str is your x-axis title. For example, 'C values'\n",
    "@:param y_label_str is your y-axis title. For example, 'Accuracies'\n",
    "\"\"\"\n",
    "\n",
    "def draw_plot(range_list, value_list, title_str, x_label_str, y_label_str):\n",
    "\n",
    "    plt.plot(range_list, value_list, color=\"b\", linestyle=\"dashed\", marker=\"o\", markerfacecolor=\"r\")\n",
    "    plt.title(title_str)\n",
    "    plt.xlabel(x_label_str)\n",
    "    plt.ylabel(y_label_str)\n",
    "    plt.show()"
   ]
  },
  {
   "cell_type": "code",
   "execution_count": 21,
   "metadata": {
    "colab": {
     "base_uri": "https://localhost:8080/",
     "height": 221
    },
    "colab_type": "code",
    "id": "ghoe9eQTenPd",
    "outputId": "45267e57-a410-4957-f96c-c2ec6d4bee8c"
   },
   "outputs": [
    {
     "name": "stdout",
     "output_type": "stream",
     "text": [
      "MultinomialNB  1 - gram without stopwords :  0.8102738223026611\n",
      "MultinomialNB  1 - gram with stopwords :  0.8005494743415312\n",
      "MultinomialNB  2 - gram without stopwords :  0.786184710242388\n",
      "MultinomialNB  2 - gram with stopwords :  0.8034549619548355\n",
      "MultinomialNB  3 - gram without stopwords :  0.7750875717609844\n",
      "MultinomialNB  3 - gram with stopwords :  0.7760561435997813\n",
      "MultinomialNB  4 - gram without stopwords :  0.7748858775294394\n",
      "MultinomialNB  4 - gram with stopwords :  0.7751281385103799\n",
      "MultinomialNB  5 - gram without stopwords :  0.7743211336811135\n",
      "MultinomialNB  5 - gram with stopwords :  0.7750875717609844\n",
      "MultinomialNB  6 - gram without stopwords :  0.7743211336811135\n",
      "MultinomialNB  6 - gram with stopwords :  0.7748858775294394\n"
     ]
    }
   ],
   "source": [
    "acc_list = []\n",
    "for i in range(1, 7):\n",
    "    for exp in [True, False]:\n",
    "        X = data_df['tweet'].values.astype('U')\n",
    "        y = data_df[\"Class\"].values.astype('U')\n",
    "        X = bag_word(X, stop_word=exp, n_gram=(i, i))\n",
    "        clfrNB = MultinomialNB()\n",
    "        scores = cross_val_score(clfrNB, X, y,  cv=10)\n",
    "        acc = scores.mean()\n",
    "        acc_list.append(acc)\n",
    "        if exp:\n",
    "            print(\"MultinomialNB \", i, \"- gram without stopwords : \", acc) \n",
    "        else:\n",
    "            print(\"MultinomialNB \", i, \"- gram with stopwords : \", acc)"
   ]
  },
  {
   "cell_type": "markdown",
   "metadata": {
    "colab_type": "text",
    "id": "rLNb7uyShBZL"
   },
   "source": [
    "# Below cells are previous implementation. Not important\n"
   ]
  },
  {
   "cell_type": "code",
   "execution_count": 20,
   "metadata": {
    "colab": {
     "base_uri": "https://localhost:8080/",
     "height": 34
    },
    "colab_type": "code",
    "id": "_6Nt4BxOe727",
    "outputId": "df449195-4055-436d-85a3-657ef1b5742b"
   },
   "outputs": [
    {
     "name": "stdout",
     "output_type": "stream",
     "text": [
      "0.8102738223026611\n"
     ]
    }
   ],
   "source": [
    "clfrNB = MultinomialNB()\n",
    "scores = cross_val_score(clfrNB, X, y,  cv=10)\n",
    "print(scores.mean())"
   ]
  },
  {
   "cell_type": "code",
   "execution_count": 0,
   "metadata": {
    "colab": {
     "base_uri": "https://localhost:8080/",
     "height": 153
    },
    "colab_type": "code",
    "id": "6MlYLuJnsU7A",
    "outputId": "e19a4906-f42e-44f8-d0bd-87078cb9eb6a"
   },
   "outputs": [
    {
     "name": "stdout",
     "output_type": "stream",
     "text": [
      "Accuracy with stopwords 1-gram   - Multinomial Naive Bayes :  0.7956960322797579\n",
      "Accuracy without stopwords 1-gram   - Multinomial Naive Bayes :  0.7966375252185609\n",
      "Accuracy with stopwords 2-gram   - Multinomial Naive Bayes :  0.7908540685944856\n",
      "Accuracy without stopwords 2-gram   - Multinomial Naive Bayes :  0.7877605917955616\n",
      "Accuracy with stopwords 3-gram   - Multinomial Naive Bayes :  0.7691997310020174\n",
      "Accuracy without stopwords 3-gram   - Multinomial Naive Bayes :  0.7678547410894419\n",
      "Accuracy with stopwords 4-gram   - Multinomial Naive Bayes :  0.7764626765299261\n",
      "Accuracy without stopwords 4-gram   - Multinomial Naive Bayes :  0.7689307330195023\n"
     ]
    }
   ],
   "source": [
    "for i in range(1, 5):\n",
    "    for exp in [\"with stopwords \",\"without stopwords \"]:\n",
    "        X = bag_word(data_df.tweet, stop_word=True, n_gram=(i,i))\n",
    "        X_train, X_test, y_train, y_test = train_test_split(X, data_df[\"Class\"], test_size=0.3)\n",
    "        clfrNB = MultinomialNB()\n",
    "        clfrNB.fit(X_train, y_train)\n",
    "        preds = clfrNB.predict(X_test)\n",
    "        preds = preds.reshape(-1,1)\n",
    "        preds = preds.reshape(1, -1)[0]\n",
    "        acc = get_accuracy(preds, y_test)\n",
    "        print(\"Accuracy\", exp + str(i) + \"-gram \", \" - Multinomial Naive Bayes : \", acc)"
   ]
  },
  {
   "cell_type": "code",
   "execution_count": 0,
   "metadata": {
    "colab": {
     "base_uri": "https://localhost:8080/",
     "height": 34
    },
    "colab_type": "code",
    "id": "7EtViOFWEABV",
    "outputId": "a76927a9-5ff9-47c1-ba0a-14187f9fa7a2"
   },
   "outputs": [
    {
     "name": "stdout",
     "output_type": "stream",
     "text": [
      "Accuracy without stopwords 6-gram - Multinomial Naive Bayes :  0.7729657027572293\n"
     ]
    }
   ],
   "source": [
    "X = bag_word(data_df.tweet, stop_word=True, n_gram=(6,6))\n",
    "X_train, X_test, y_train, y_test = train_test_split(X, data_df[\"Class\"], test_size=0.3)\n",
    "clfrNB = MultinomialNB()\n",
    "clfrNB.fit(X_train, y_train)\n",
    "preds = clfrNB.predict(X_test)\n",
    "preds = preds.reshape(-1,1)\n",
    "preds = preds.reshape(1, -1)[0]\n",
    "acc = get_accuracy(preds, y_test)\n",
    "print(\"Accuracy without stopwords 6-gram - Multinomial Naive Bayes : \", acc)"
   ]
  },
  {
   "cell_type": "code",
   "execution_count": 0,
   "metadata": {
    "colab": {
     "base_uri": "https://localhost:8080/",
     "height": 34
    },
    "colab_type": "code",
    "id": "5eDJFWvIEMrK",
    "outputId": "7cf6d899-4620-4da9-8f81-d0914755f8c8"
   },
   "outputs": [
    {
     "name": "stdout",
     "output_type": "stream",
     "text": [
      "Accuracy with stopwords 5-gram - Multinomial Naive Bayes :  0.7736381977135172\n"
     ]
    }
   ],
   "source": [
    "X = bag_word(data_df.tweet, stop_word=False, n_gram=(6,6))\n",
    "X_train, X_test, y_train, y_test = train_test_split(X, data_df[\"Class\"], test_size=0.3)\n",
    "clfrNB = MultinomialNB()\n",
    "clfrNB.fit(X_train, y_train)\n",
    "preds = clfrNB.predict(X_test)\n",
    "preds = preds.reshape(-1,1)\n",
    "preds = preds.reshape(1, -1)[0]\n",
    "acc = get_accuracy(preds, y_test)\n",
    "print(\"Accuracy with stopwords 5-gram - Multinomial Naive Bayes : \", acc)"
   ]
  },
  {
   "cell_type": "code",
   "execution_count": 0,
   "metadata": {
    "colab": {
     "base_uri": "https://localhost:8080/",
     "height": 34
    },
    "colab_type": "code",
    "id": "XDSUNKEHKF3a",
    "outputId": "8701d0d0-d6f2-437a-b9cf-61103d756722"
   },
   "outputs": [
    {
     "data": {
      "text/plain": [
       "(17348, 7435)"
      ]
     },
     "execution_count": 9,
     "metadata": {
      "tags": []
     },
     "output_type": "execute_result"
    }
   ],
   "source": [
    "X_train, X_test, y_train, y_test = train_test_split(data_df[\"tweet\"], data_df[\"class\"], test_size=0.3)\n",
    "len(X_train), len(X_test)"
   ]
  },
  {
   "cell_type": "code",
   "execution_count": 0,
   "metadata": {
    "colab": {},
    "colab_type": "code",
    "id": "CdC0lSncao4q"
   },
   "outputs": [],
   "source": [
    "def get_label_counts(data):\n",
    "    hate = 0\n",
    "    offensive = 0\n",
    "    neither = 0\n",
    "\n",
    "    for i in range(len(data_df)):\n",
    "        if data_df[\"class\"].iloc[i] == 0:\n",
    "            hate += 1\n",
    "        elif data_df[\"class\"].iloc[i] == 1:\n",
    "            offensive += 1\n",
    "        elif data_df[\"class\"].iloc[i] == 2:\n",
    "            neither += 1\n",
    "\n",
    "    return hate, offensive, neither\n",
    "        "
   ]
  },
  {
   "cell_type": "code",
   "execution_count": 0,
   "metadata": {
    "colab": {
     "base_uri": "https://localhost:8080/",
     "height": 102
    },
    "colab_type": "code",
    "id": "C6DE4DKBbL8u",
    "outputId": "4e4016f8-51ff-4b68-e122-aab61330f679"
   },
   "outputs": [
    {
     "name": "stdout",
     "output_type": "stream",
     "text": [
      "Hate label :  1430\n",
      "Offensive label :  19190\n",
      "Neither label :  4163\n",
      "Total :  24783\n",
      "Total :  24783\n"
     ]
    }
   ],
   "source": [
    "hate_count, offensive_count, neither_count = get_label_counts(data_df)\n",
    "print(\"Hate label : \", hate_count)\n",
    "print(\"Offensive label : \", offensive_count)\n",
    "print(\"Neither label : \", neither_count)\n",
    "print(\"Total : \", hate_count + offensive_count + neither_count)\n",
    "print(\"Total : \", len(data_df))"
   ]
  },
  {
   "cell_type": "markdown",
   "metadata": {
    "colab_type": "text",
    "id": "3bNM1wnMCdGP"
   },
   "source": [
    "| Models | Stopword | Accuracy |\n",
    "| ------ | -------  | -------  |\n",
    "| 1-gram | Included | 0.8078009414929388 | \n",
    "| 1-gram | Not included | 0.798789509078682  |\n",
    "| 2-gram | Included | 0.7861466039004708 |\n",
    "| 2-gram | Not included | 0.789778076664425 |\n",
    "| 3-gram | Included | 0.7732347007397444 |\n",
    "| 3-gram | Not included | 0.7786146603900471 |\n",
    "| 4-gram | Included | 0.7748486886348352 |\n",
    "| 4-gram | Not included | 0.7674512441156691 |\n"
   ]
  }
 ],
 "metadata": {
  "accelerator": "TPU",
  "colab": {
   "collapsed_sections": [],
   "machine_shape": "hm",
   "name": "NaiveBayes.ipynb",
   "provenance": []
  },
  "kernelspec": {
   "display_name": "Python 3",
   "language": "python",
   "name": "python3"
  },
  "language_info": {
   "codemirror_mode": {
    "name": "ipython",
    "version": 3
   },
   "file_extension": ".py",
   "mimetype": "text/x-python",
   "name": "python",
   "nbconvert_exporter": "python",
   "pygments_lexer": "ipython3",
   "version": "3.7.4"
  }
 },
 "nbformat": 4,
 "nbformat_minor": 1
}
