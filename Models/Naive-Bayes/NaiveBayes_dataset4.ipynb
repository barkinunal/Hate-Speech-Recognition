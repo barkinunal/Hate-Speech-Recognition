{
 "cells": [
  {
   "cell_type": "code",
   "execution_count": 1,
   "metadata": {
    "colab": {
     "base_uri": "https://localhost:8080/",
     "height": 122
    },
    "colab_type": "code",
    "id": "6BzfmTa4ZMBX",
    "outputId": "948ab020-77e1-4db7-f74f-d98495801089"
   },
   "outputs": [
    {
     "name": "stdout",
     "output_type": "stream",
     "text": [
      "Go to this URL in a browser: https://accounts.google.com/o/oauth2/auth?client_id=947318989803-6bn6qk8qdgf4n4g3pfee6491hc0brc4i.apps.googleusercontent.com&redirect_uri=urn%3aietf%3awg%3aoauth%3a2.0%3aoob&response_type=code&scope=email%20https%3a%2f%2fwww.googleapis.com%2fauth%2fdocs.test%20https%3a%2f%2fwww.googleapis.com%2fauth%2fdrive%20https%3a%2f%2fwww.googleapis.com%2fauth%2fdrive.photos.readonly%20https%3a%2f%2fwww.googleapis.com%2fauth%2fpeopleapi.readonly\n",
      "\n",
      "Enter your authorization code:\n",
      "··········\n",
      "Mounted at /content/drive\n"
     ]
    }
   ],
   "source": [
    "from google.colab import drive\n",
    "drive.mount('/content/drive')"
   ]
  },
  {
   "cell_type": "code",
   "execution_count": 0,
   "metadata": {
    "colab": {},
    "colab_type": "code",
    "id": "70pBbdzXaqyT"
   },
   "outputs": [],
   "source": [
    "__author__ = \"Barkın Ünal\""
   ]
  },
  {
   "cell_type": "code",
   "execution_count": 0,
   "metadata": {
    "colab": {},
    "colab_type": "code",
    "id": "ImT10IYlZmNY"
   },
   "outputs": [],
   "source": [
    "import numpy as np\n",
    "import pandas as pd\n",
    "import matplotlib.pyplot as plt\n",
    "from sklearn.model_selection import train_test_split\n",
    "from sklearn.naive_bayes import MultinomialNB\n",
    "from sklearn.feature_extraction.text import CountVectorizer\n",
    "from sklearn.feature_extraction.text import TfidfTransformer\n",
    "from sklearn.feature_extraction.text import TfidfVectorizer\n",
    "from sklearn.naive_bayes import MultinomialNB\n",
    "from sklearn.metrics import roc_auc_score\n",
    "from sklearn.model_selection import cross_val_score\n",
    "from sklearn.metrics import classification_report, accuracy_score, make_scorer\n",
    "\n",
    "def classification_report_with_accuracy_score(y_true, y_pred):\n",
    "\n",
    "    print(classification_report(y_true, y_pred)) # print classification report\n",
    "    return accuracy_score(y_true, y_pred) # return accuracy score\n",
    "\n",
    "%matplotlib inline"
   ]
  },
  {
   "cell_type": "code",
   "execution_count": 33,
   "metadata": {
    "colab": {
     "base_uri": "https://localhost:8080/",
     "height": 419
    },
    "colab_type": "code",
    "id": "v7BT1MnCZzro",
    "outputId": "075b50d3-1d4a-4ea9-e2d1-d2d836290c4e"
   },
   "outputs": [
    {
     "data": {
      "text/html": [
       "<div>\n",
       "<style scoped>\n",
       "    .dataframe tbody tr th:only-of-type {\n",
       "        vertical-align: middle;\n",
       "    }\n",
       "\n",
       "    .dataframe tbody tr th {\n",
       "        vertical-align: top;\n",
       "    }\n",
       "\n",
       "    .dataframe thead th {\n",
       "        text-align: right;\n",
       "    }\n",
       "</style>\n",
       "<table border=\"1\" class=\"dataframe\">\n",
       "  <thead>\n",
       "    <tr style=\"text-align: right;\">\n",
       "      <th></th>\n",
       "      <th>Unnamed: 0.1</th>\n",
       "      <th>tweet</th>\n",
       "      <th>label</th>\n",
       "    </tr>\n",
       "  </thead>\n",
       "  <tbody>\n",
       "    <tr>\n",
       "      <td>14848</td>\n",
       "      <td>14848</td>\n",
       "      <td>im in miami u fucking gringo</td>\n",
       "      <td>0</td>\n",
       "    </tr>\n",
       "    <tr>\n",
       "      <td>13255</td>\n",
       "      <td>13255</td>\n",
       "      <td>you know you fucking up if george bush calling...</td>\n",
       "      <td>0</td>\n",
       "    </tr>\n",
       "    <tr>\n",
       "      <td>13254</td>\n",
       "      <td>13254</td>\n",
       "      <td>today i fucked with a ps4 controller    snapch...</td>\n",
       "      <td>0</td>\n",
       "    </tr>\n",
       "    <tr>\n",
       "      <td>13253</td>\n",
       "      <td>13253</td>\n",
       "      <td>i fucking lost it</td>\n",
       "      <td>0</td>\n",
       "    </tr>\n",
       "    <tr>\n",
       "      <td>13252</td>\n",
       "      <td>13252</td>\n",
       "      <td>fucking stoke fan calling us bin dippers lmfao...</td>\n",
       "      <td>0</td>\n",
       "    </tr>\n",
       "    <tr>\n",
       "      <td>...</td>\n",
       "      <td>...</td>\n",
       "      <td>...</td>\n",
       "      <td>...</td>\n",
       "    </tr>\n",
       "    <tr>\n",
       "      <td>7215</td>\n",
       "      <td>7215</td>\n",
       "      <td>im letting u know now  we not protesting when ...</td>\n",
       "      <td>1</td>\n",
       "    </tr>\n",
       "    <tr>\n",
       "      <td>7214</td>\n",
       "      <td>7214</td>\n",
       "      <td>i really hate driving with a passion now shits...</td>\n",
       "      <td>1</td>\n",
       "    </tr>\n",
       "    <tr>\n",
       "      <td>7213</td>\n",
       "      <td>7213</td>\n",
       "      <td>im letting u know now  we not protesting when ...</td>\n",
       "      <td>1</td>\n",
       "    </tr>\n",
       "    <tr>\n",
       "      <td>7220</td>\n",
       "      <td>7220</td>\n",
       "      <td>what idiot called it  devoutness  instead of  ...</td>\n",
       "      <td>1</td>\n",
       "    </tr>\n",
       "    <tr>\n",
       "      <td>29697</td>\n",
       "      <td>29697</td>\n",
       "      <td>k you know my work schedule is fucked up when ...</td>\n",
       "      <td>1</td>\n",
       "    </tr>\n",
       "  </tbody>\n",
       "</table>\n",
       "<p>29698 rows × 3 columns</p>\n",
       "</div>"
      ],
      "text/plain": [
       "       Unnamed: 0.1                                              tweet  label\n",
       "14848         14848                       im in miami u fucking gringo      0\n",
       "13255         13255  you know you fucking up if george bush calling...      0\n",
       "13254         13254  today i fucked with a ps4 controller    snapch...      0\n",
       "13253         13253                                  i fucking lost it      0\n",
       "13252         13252  fucking stoke fan calling us bin dippers lmfao...      0\n",
       "...             ...                                                ...    ...\n",
       "7215           7215  im letting u know now  we not protesting when ...      1\n",
       "7214           7214  i really hate driving with a passion now shits...      1\n",
       "7213           7213  im letting u know now  we not protesting when ...      1\n",
       "7220           7220  what idiot called it  devoutness  instead of  ...      1\n",
       "29697         29697  k you know my work schedule is fucked up when ...      1\n",
       "\n",
       "[29698 rows x 3 columns]"
      ]
     },
     "execution_count": 33,
     "metadata": {},
     "output_type": "execute_result"
    }
   ],
   "source": [
    "\n",
    "data = pd.read_csv(\"dataset_4.csv\", index_col = 0)\n",
    "data = data.rename({\"0\": \"text\"}, axis=1)\n",
    "data1=data.sort_values(\"label\")\n",
    "data1"
   ]
  },
  {
   "cell_type": "code",
   "execution_count": 39,
   "metadata": {
    "colab": {},
    "colab_type": "code",
    "id": "qrDZiZbFaB-b"
   },
   "outputs": [],
   "source": [
    "def bag_word(documents, stop_word=True,n_gram=(1,1)):\n",
    "\n",
    "    # If stop words want to be excluded.\n",
    "    if stop_word:\n",
    "        if n_gram == (1,1):\n",
    "            tfidfconverter = TfidfVectorizer(ngram_range=n_gram, stop_words='english', min_df=0.0005)\n",
    "        else:\n",
    "            tfidfconverter = TfidfVectorizer(ngram_range=n_gram, stop_words='english', min_df=0.0005)\n",
    "    \n",
    "    # If stop words want to be included\n",
    "    if not stop_word:\n",
    "        if n_gram == (1, 1):\n",
    "            tfidfconverter = TfidfVectorizer(ngram_range=n_gram, min_df=0.0005)\n",
    "        else:\n",
    "            tfidfconverter = TfidfVectorizer(ngram_range=n_gram, min_df=0.0005)\n",
    "\n",
    "    X = tfidfconverter.fit_transform(documents).toarray()\n",
    "\n",
    "    return X"
   ]
  },
  {
   "cell_type": "code",
   "execution_count": 35,
   "metadata": {
    "colab": {},
    "colab_type": "code",
    "id": "udkoW-VEa19R"
   },
   "outputs": [],
   "source": [
    "def get_accuracy(prediction, y_test):\n",
    "    correct = 0\n",
    "    total = 0\n",
    "    for i in range(len(prediction)):\n",
    "        if prediction[i] == y_test.iloc[i]:\n",
    "            correct += 1\n",
    "        total += 1\n",
    "\n",
    "    return correct / total"
   ]
  },
  {
   "cell_type": "code",
   "execution_count": 36,
   "metadata": {
    "colab": {},
    "colab_type": "code",
    "id": "zI89cDtMa4Ve"
   },
   "outputs": [],
   "source": [
    "def draw_plot(range_list, value_list, title_str, x_label_str, y_label_str):\n",
    "\n",
    "    plt.plot(range_list, value_list, color=\"b\", linestyle=\"dashed\", marker=\"o\", markerfacecolor=\"r\")\n",
    "    plt.title(title_str)\n",
    "    plt.xlabel(x_label_str)\n",
    "    plt.ylabel(y_label_str)\n",
    "    plt.show()"
   ]
  },
  {
   "cell_type": "code",
   "execution_count": 44,
   "metadata": {
    "colab": {
     "base_uri": "https://localhost:8080/",
     "height": 1000
    },
    "colab_type": "code",
    "id": "L4VY7K5Ta5xk",
    "outputId": "49410265-b27d-4fef-df49-b9892138ee0e"
   },
   "outputs": [
    {
     "name": "stdout",
     "output_type": "stream",
     "text": [
      "MultinomialNB  1 - gram without stopwords :  0.7342927404565\n",
      "MultinomialNB  1 - gram with stopwords :  0.7102215318415958\n",
      "MultinomialNB  2 - gram without stopwords :  0.6943183455563883\n",
      "MultinomialNB  2 - gram with stopwords :  0.7273548988600822\n",
      "MultinomialNB  3 - gram without stopwords :  0.634081186055979\n",
      "MultinomialNB  3 - gram with stopwords :  0.6537127338154535\n",
      "MultinomialNB  4 - gram without stopwords :  0.6247879609550001\n",
      "MultinomialNB  4 - gram with stopwords :  0.6345524985605209\n",
      "MultinomialNB  5 - gram without stopwords :  0.6197709553187265\n",
      "MultinomialNB  5 - gram with stopwords :  0.6300404187827112\n",
      "MultinomialNB  6 - gram without stopwords :  0.6164377916581971\n",
      "MultinomialNB  6 - gram with stopwords :  0.6277506975196065\n"
     ]
    }
   ],
   "source": [
    "acc_list_wo_stop = []\n",
    "acc_list_w_stop = []\n",
    "for i in range(1, 7):\n",
    "    for exp in [True, False]:\n",
    "        X = data['tweet'].values.astype('U')\n",
    "        y = data[\"label\"].values.astype('int32')\n",
    "        X = bag_word(X, stop_word=exp, n_gram=(i, i))\n",
    "        clfrNB = MultinomialNB()\n",
    "        scores = cross_val_score(clfrNB, X, y,  cv=10)\n",
    "        acc = scores.mean()\n",
    "        if exp:\n",
    "            print(\"MultinomialNB \", i, \"- gram without stopwords : \", acc) \n",
    "            acc_list_wo_stop.append(acc)\n",
    "        else:\n",
    "            print(\"MultinomialNB \", i, \"- gram with stopwords : \", acc)\n",
    "            acc_list_w_stop.append(acc)\n"
   ]
  },
  {
   "cell_type": "code",
   "execution_count": 50,
   "metadata": {},
   "outputs": [],
   "source": [
    "n_range_list = [\"1-gram\",\"2-gram\",\"3-gram\",\"4-gram\",\"5-gram\",\"6-gram\",]"
   ]
  },
  {
   "cell_type": "code",
   "execution_count": 51,
   "metadata": {
    "colab": {},
    "colab_type": "code",
    "id": "Ei6F-UxMa7-T"
   },
   "outputs": [
    {
     "data": {
      "image/png": "[encoded data removed]",
      "text/plain": [
       "<Figure size 432x288 with 1 Axes>"
      ]
     },
     "metadata": {
      "needs_background": "light"
     },
     "output_type": "display_data"
    }
   ],
   "source": [
    "draw_plot(n_range_list, acc_list_wo_stop, \"Different n-gram Values in Naïve Bayes Without Stop Words\", \"n-grams\", \"Accuracies\")"
   ]
  },
  {
   "cell_type": "code",
   "execution_count": 52,
   "metadata": {},
   "outputs": [
    {
     "data": {
      "image/png": "[encoded data removed]",
      "text/plain": [
       "<Figure size 432x288 with 1 Axes>"
      ]
     },
     "metadata": {
      "needs_background": "light"
     },
     "output_type": "display_data"
    }
   ],
   "source": [
    "draw_plot(n_range_list, acc_list_w_stop, \"Different n-gram Values in Naïve Bayes With Stop Words\", \"n-grams\", \"Accuracies\")"
   ]
  },
  {
   "cell_type": "code",
   "execution_count": null,
   "metadata": {},
   "outputs": [],
   "source": []
  }
 ],
 "metadata": {
  "accelerator": "TPU",
  "colab": {
   "machine_shape": "hm",
   "name": "NaiveBayes_dataset4.ipynb",
   "provenance": []
  },
  "kernelspec": {
   "display_name": "Python 3",
   "language": "python",
   "name": "python3"
  },
  "language_info": {
   "codemirror_mode": {
    "name": "ipython",
    "version": 3
   },
   "file_extension": ".py",
   "mimetype": "text/x-python",
   "name": "python",
   "nbconvert_exporter": "python",
   "pygments_lexer": "ipython3",
   "version": "3.7.4"
  }
 },
 "nbformat": 4,
 "nbformat_minor": 1
}
