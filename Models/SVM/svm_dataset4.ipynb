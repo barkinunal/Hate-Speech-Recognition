{
 "cells": [
  {
   "cell_type": "code",
   "execution_count": 7,
   "metadata": {},
   "outputs": [],
   "source": [
    "import numpy as np\n",
    "import pandas as pd\n",
    "import matplotlib.pyplot as plt\n",
    "from sklearn.model_selection import train_test_split\n",
    "from sklearn.feature_extraction.text import CountVectorizer\n",
    "from sklearn.feature_extraction.text import TfidfTransformer\n",
    "from sklearn.feature_extraction.text import TfidfVectorizer\n",
    "from sklearn import svm\n",
    "from sklearn.metrics import roc_auc_score\n",
    "from sklearn import metrics\n",
    "from tqdm import tqdm\n",
    "from sklearn.model_selection import cross_val_score\n",
    "\n",
    "%matplotlib inline"
   ]
  },
  {
   "cell_type": "code",
   "execution_count": 8,
   "metadata": {},
   "outputs": [
    {
     "data": {
      "text/html": [
       "<div>\n",
       "<style scoped>\n",
       "    .dataframe tbody tr th:only-of-type {\n",
       "        vertical-align: middle;\n",
       "    }\n",
       "\n",
       "    .dataframe tbody tr th {\n",
       "        vertical-align: top;\n",
       "    }\n",
       "\n",
       "    .dataframe thead th {\n",
       "        text-align: right;\n",
       "    }\n",
       "</style>\n",
       "<table border=\"1\" class=\"dataframe\">\n",
       "  <thead>\n",
       "    <tr style=\"text-align: right;\">\n",
       "      <th></th>\n",
       "      <th>text</th>\n",
       "      <th>label</th>\n",
       "    </tr>\n",
       "  </thead>\n",
       "  <tbody>\n",
       "    <tr>\n",
       "      <td>0</td>\n",
       "      <td>Horse face hoe stop playing before I show the...</td>\n",
       "      <td>1</td>\n",
       "    </tr>\n",
       "    <tr>\n",
       "      <td>1</td>\n",
       "      <td>Alex Brosas another idiot</td>\n",
       "      <td>1</td>\n",
       "    </tr>\n",
       "    <tr>\n",
       "      <td>2</td>\n",
       "      <td>as Nancy Reagan would say   just say FUCKING ...</td>\n",
       "      <td>1</td>\n",
       "    </tr>\n",
       "    <tr>\n",
       "      <td>3</td>\n",
       "      <td>Not being homophobic here     but uhhhhhhhhhh...</td>\n",
       "      <td>1</td>\n",
       "    </tr>\n",
       "    <tr>\n",
       "      <td>4</td>\n",
       "      <td>The Nazi death gas so horrific even Hitler fe...</td>\n",
       "      <td>0</td>\n",
       "    </tr>\n",
       "    <tr>\n",
       "      <td>...</td>\n",
       "      <td>...</td>\n",
       "      <td>...</td>\n",
       "    </tr>\n",
       "    <tr>\n",
       "      <td>99794</td>\n",
       "      <td>Throat Slammed Slut Gets Her Ass Fucked https:...</td>\n",
       "      <td>1</td>\n",
       "    </tr>\n",
       "    <tr>\n",
       "      <td>99795</td>\n",
       "      <td>RT @TheCristianoGuy: This is everything. Isco ...</td>\n",
       "      <td>1</td>\n",
       "    </tr>\n",
       "    <tr>\n",
       "      <td>99796</td>\n",
       "      <td>RT @spoiledbabbby: ion wish a heartbreak on an...</td>\n",
       "      <td>0</td>\n",
       "    </tr>\n",
       "    <tr>\n",
       "      <td>99797</td>\n",
       "      <td>MY DAD JUST APRIL FOOLED ME BY SAYING BTS WAS ...</td>\n",
       "      <td>1</td>\n",
       "    </tr>\n",
       "    <tr>\n",
       "      <td>99798</td>\n",
       "      <td>K you know my work schedule is fucked up when ...</td>\n",
       "      <td>1</td>\n",
       "    </tr>\n",
       "  </tbody>\n",
       "</table>\n",
       "<p>29698 rows × 2 columns</p>\n",
       "</div>"
      ],
      "text/plain": [
       "                                                    text  label\n",
       "0       Horse face hoe stop playing before I show the...      1\n",
       "1                             Alex Brosas another idiot       1\n",
       "2       as Nancy Reagan would say   just say FUCKING ...      1\n",
       "3       Not being homophobic here     but uhhhhhhhhhh...      1\n",
       "4       The Nazi death gas so horrific even Hitler fe...      0\n",
       "...                                                  ...    ...\n",
       "99794  Throat Slammed Slut Gets Her Ass Fucked https:...      1\n",
       "99795  RT @TheCristianoGuy: This is everything. Isco ...      1\n",
       "99796  RT @spoiledbabbby: ion wish a heartbreak on an...      0\n",
       "99797  MY DAD JUST APRIL FOOLED ME BY SAYING BTS WAS ...      1\n",
       "99798  K you know my work schedule is fucked up when ...      1\n",
       "\n",
       "[29698 rows x 2 columns]"
      ]
     },
     "execution_count": 8,
     "metadata": {},
     "output_type": "execute_result"
    }
   ],
   "source": [
    "data = pd.read_csv(\"dataset_4.csv\", index_col = 0)\n",
    "data"
   ]
  },
  {
   "cell_type": "code",
   "execution_count": 9,
   "metadata": {},
   "outputs": [],
   "source": [
    "def draw_plot(range_list, value_list, title_str, x_label_str, y_label_str):\n",
    "\n",
    "    plt.plot(range_list, value_list, color=\"b\", linestyle=\"dashed\", marker=\"o\", markerfacecolor=\"r\")\n",
    "    plt.title(title_str)\n",
    "    plt.xlabel(x_label_str)\n",
    "    plt.ylabel(y_label_str)\n",
    "    plt.show()"
   ]
  },
  {
   "cell_type": "code",
   "execution_count": 10,
   "metadata": {},
   "outputs": [],
   "source": [
    "def feature_extract(train_text, stop_word=True, n_gram=(1, 1)):\n",
    "    # If stop words want to be excluded.\n",
    "    if stop_word:\n",
    "    \n",
    "        tf_idf = TfidfVectorizer(ngram_range=n_gram, stop_words=\"english\")\n",
    "        tf_idf.fit_transform(train_text)\n",
    "\n",
    "        train_feature_set = tf_idf.transform(train_text)\n",
    "        \n",
    "    # If stop words want to be included\n",
    "    if not stop_word:\n",
    "    \n",
    "        tf_idf = TfidfVectorizer(ngram_range=n_gram)\n",
    "        tf_idf.fit_transform(train_text)\n",
    "\n",
    "        train_feature_set = tf_idf.transform(train_text)\n",
    "        \n",
    "    return train_feature_set"
   ]
  },
  {
   "cell_type": "code",
   "execution_count": 11,
   "metadata": {},
   "outputs": [],
   "source": [
    "X = data['text'].values.astype('U')\n",
    "temp_y = data[\"label\"].values.astype('U')\n",
    "X = feature_extract(X)\n",
    "y = []\n",
    "for label in temp_y:\n",
    "    if label == \"1\":\n",
    "        y.append(1)\n",
    "    else:\n",
    "        y.append(0)"
   ]
  },
  {
   "cell_type": "code",
   "execution_count": 12,
   "metadata": {},
   "outputs": [
    {
     "name": "stderr",
     "output_type": "stream",
     "text": [
      "\n",
      "  0%|          | 0/17 [00:00<?, ?it/s]\u001b[A\n",
      "  6%|▌         | 1/17 [02:34<41:13, 154.58s/it]\u001b[A\n",
      " 12%|█▏        | 2/17 [06:51<46:19, 185.28s/it]\u001b[A\n",
      " 18%|█▊        | 3/17 [12:59<56:02, 240.19s/it]\u001b[A\n",
      " 24%|██▎       | 4/17 [20:39<1:06:18, 306.05s/it]\u001b[A\n",
      " 29%|██▉       | 5/17 [30:05<1:16:47, 383.92s/it]\u001b[A\n",
      " 35%|███▌      | 6/17 [41:22<1:26:31, 471.98s/it]\u001b[A\n",
      " 41%|████      | 7/17 [54:31<1:34:29, 566.97s/it]\u001b[A\n",
      " 47%|████▋     | 8/17 [1:09:10<1:39:06, 660.72s/it]\u001b[A\n",
      " 53%|█████▎    | 9/17 [1:26:03<1:42:10, 766.32s/it]\u001b[A\n",
      " 59%|█████▉    | 10/17 [1:45:31<1:43:28, 886.97s/it]\u001b[A\n",
      " 65%|██████▍   | 11/17 [2:07:25<1:41:30, 1015.05s/it]\u001b[A\n",
      " 71%|███████   | 12/17 [2:29:46<1:32:43, 1112.74s/it]\u001b[A\n",
      " 76%|███████▋  | 13/17 [2:53:31<1:20:25, 1206.41s/it]\u001b[A\n",
      " 82%|████████▏ | 14/17 [3:18:58<1:05:07, 1302.48s/it]\u001b[A\n",
      " 88%|████████▊ | 15/17 [3:46:14<46:45, 1402.65s/it]  \u001b[A\n",
      " 94%|█████████▍| 16/17 [4:15:55<25:16, 1516.31s/it]\u001b[A\n",
      "100%|██████████| 17/17 [4:50:26<00:00, 1025.10s/it]\u001b[A\n"
     ]
    }
   ],
   "source": [
    "clf = svm.SVC(gamma=\"scale\")\n",
    "cv_score_list = []\n",
    "for c in tqdm(range(3, 20)):\n",
    "    scores = cross_val_score(clf, X, y, cv=c)\n",
    "    cv_score_list.append(scores.mean())"
   ]
  },
  {
   "cell_type": "code",
   "execution_count": 13,
   "metadata": {},
   "outputs": [
    {
     "data": {
      "image/png": "[encoded data removed]",
      "text/plain": [
       "<Figure size 432x288 with 1 Axes>"
      ]
     },
     "metadata": {
      "needs_background": "light"
     },
     "output_type": "display_data"
    }
   ],
   "source": [
    "for i in range(len(cv_score_list)):\n",
    "    cv_score_list[i] = cv_score_list[i].mean()\n",
    "draw_plot(range(3, 20), cv_score_list, \"Cross-validation\", \"k values - (3-20)\", \"Accuracy values\" )"
   ]
  },
  {
   "cell_type": "code",
   "execution_count": null,
   "metadata": {},
   "outputs": [],
   "source": [
    "c_acc_list = []\n",
    "for c in range(1, 21):\n",
    "    clf = svm.SVC(C=c, kernel=\"rbf\", gamma=\"scale\", random_state=42)\n",
    "    scores = cross_val_score(clf, X, y, cv=10)\n",
    "    c_acc_list.append(scores.mean())\n",
    "    print(\"Accuracy C:\", c, \": \", scores.mean())"
   ]
  },
  {
   "cell_type": "code",
   "execution_count": null,
   "metadata": {},
   "outputs": [],
   "source": [
    "draw_plot(range(1, 21), c_acc_list, \"Different C Values in SVM Model\", \"c values\", \"Accuracies\")"
   ]
  },
  {
   "cell_type": "code",
   "execution_count": null,
   "metadata": {},
   "outputs": [],
   "source": [
    "c_val = max(c_acc_list)\n",
    "c = c_acc_list.index(c_val)\n",
    "c += 1\n",
    "print(c)"
   ]
  },
  {
   "cell_type": "code",
   "execution_count": null,
   "metadata": {},
   "outputs": [],
   "source": [
    "kernel_acc_list = []\n",
    "for ker in [\"linear\", \"poly\", \"rbf\", \"sigmoid\"]:\n",
    "    clf = svm.SVC(kernel=ker, gamma=\"scale\", random_state=42)\n",
    "    scores = cross_val_score(clf, X, y, cv=10)\n",
    "    kernel_acc_list.append(scores.mean())\n",
    "    print(\"Accuracy\", ker, \": \", scores.mean())"
   ]
  },
  {
   "cell_type": "code",
   "execution_count": null,
   "metadata": {},
   "outputs": [],
   "source": [
    "for c in range(1, 100, 5):\n",
    "    #for gam in [\"auto\", \"scale\"]:\n",
    "    X_train, X_test = feature_extract(train_text, test_text)\n",
    "    clf = svm.SVC(C=c, kernel=\"linear\", gamma=\"scale\", random_state=42) \n",
    "    clf.fit(X_train, y_train)\n",
    "    y_pred = clf.predict(X_test)\n",
    "    print(\"Accuracy C =\", c, \"linear: \", metrics.accuracy_score(y_test, y_pred))"
   ]
  },
  {
   "cell_type": "code",
   "execution_count": null,
   "metadata": {},
   "outputs": [],
   "source": [
    "X = data['text'].values.astype('U')\n",
    "temp_y = data[\"label\"].values.astype('U')\n",
    "X = feature_extract(X, stop_word=False)\n",
    "y = []\n",
    "for label in temp_y:\n",
    "    if label == \"1\":\n",
    "        y.append(1)\n",
    "    else:\n",
    "        y.append(0)"
   ]
  },
  {
   "cell_type": "code",
   "execution_count": null,
   "metadata": {},
   "outputs": [],
   "source": []
  }
 ],
 "metadata": {
  "kernelspec": {
   "display_name": "Python 3",
   "language": "python",
   "name": "python3"
  },
  "language_info": {
   "codemirror_mode": {
    "name": "ipython",
    "version": 3
   },
   "file_extension": ".py",
   "mimetype": "text/x-python",
   "name": "python",
   "nbconvert_exporter": "python",
   "pygments_lexer": "ipython3",
   "version": "3.7.4"
  }
 },
 "nbformat": 4,
 "nbformat_minor": 2
}
