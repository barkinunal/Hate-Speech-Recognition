{
  "nbformat": 4,
  "nbformat_minor": 0,
  "metadata": {
    "kernelspec": {
      "display_name": "Python 3",
      "language": "python",
      "name": "python3"
    },
    "language_info": {
      "codemirror_mode": {
        "name": "ipython",
        "version": 3
      },
      "file_extension": ".py",
      "mimetype": "text/x-python",
      "name": "python",
      "nbconvert_exporter": "python",
      "pygments_lexer": "ipython3",
      "version": "3.7.4"
    },
    "colab": {
      "name": "svm_dataset3.ipynb",
      "provenance": [],
      "collapsed_sections": []
    }
  },
  "cells": [
    {
      "cell_type": "code",
      "metadata": {
        "id": "PkA1zr16W-TY",
        "colab_type": "code",
        "colab": {
          "base_uri": "https://localhost:8080/",
          "height": 122
        },
        "outputId": "287f5d49-332b-4c17-b541-58dc67391d24"
      },
      "source": [
        "from google.colab import drive\n",
        "drive.mount('/content/drive')"
      ],
      "execution_count": 1,
      "outputs": [
        {
          "output_type": "stream",
          "text": [
            "Go to this URL in a browser: https://accounts.google.com/o/oauth2/auth?client_id=947318989803-6bn6qk8qdgf4n4g3pfee6491hc0brc4i.apps.googleusercontent.com&redirect_uri=urn%3aietf%3awg%3aoauth%3a2.0%3aoob&response_type=code&scope=email%20https%3a%2f%2fwww.googleapis.com%2fauth%2fdocs.test%20https%3a%2f%2fwww.googleapis.com%2fauth%2fdrive%20https%3a%2f%2fwww.googleapis.com%2fauth%2fdrive.photos.readonly%20https%3a%2f%2fwww.googleapis.com%2fauth%2fpeopleapi.readonly\n",
            "\n",
            "Enter your authorization code:\n",
            "··········\n",
            "Mounted at /content/drive\n"
          ],
          "name": "stdout"
        }
      ]
    },
    {
      "cell_type": "code",
      "metadata": {
        "id": "8NkhBDw9W9f7",
        "colab_type": "code",
        "colab": {}
      },
      "source": [
        "import numpy as np\n",
        "import pandas as pd\n",
        "import matplotlib.pyplot as plt\n",
        "from sklearn.model_selection import train_test_split\n",
        "from sklearn.feature_extraction.text import CountVectorizer\n",
        "from sklearn.feature_extraction.text import TfidfTransformer\n",
        "from sklearn.feature_extraction.text import TfidfVectorizer\n",
        "from sklearn import svm\n",
        "from sklearn.metrics import roc_auc_score\n",
        "from sklearn import metrics\n",
        "from tqdm import tqdm\n",
        "from sklearn.model_selection import cross_val_score\n",
        "\n",
        "%matplotlib inline"
      ],
      "execution_count": 0,
      "outputs": []
    },
    {
      "cell_type": "code",
      "metadata": {
        "id": "-tcnce6qW9gA",
        "colab_type": "code",
        "colab": {}
      },
      "source": [
        "path = \"/content/drive/My Drive/ML_Term_Project/\"\n",
        "data_df = pd.read_csv(path + \"dataset_3.csv\")"
      ],
      "execution_count": 0,
      "outputs": []
    },
    {
      "cell_type": "code",
      "metadata": {
        "id": "ASoK_jfvW9gD",
        "colab_type": "code",
        "colab": {
          "base_uri": "https://localhost:8080/",
          "height": 204
        },
        "outputId": "93e21627-3d78-41d9-eabd-9349a5a8c22c"
      },
      "source": [
        "data_df.head()"
      ],
      "execution_count": 5,
      "outputs": [
        {
          "output_type": "execute_result",
          "data": {
            "text/html": [
              "<div>\n",
              "<style scoped>\n",
              "    .dataframe tbody tr th:only-of-type {\n",
              "        vertical-align: middle;\n",
              "    }\n",
              "\n",
              "    .dataframe tbody tr th {\n",
              "        vertical-align: top;\n",
              "    }\n",
              "\n",
              "    .dataframe thead th {\n",
              "        text-align: right;\n",
              "    }\n",
              "</style>\n",
              "<table border=\"1\" class=\"dataframe\">\n",
              "  <thead>\n",
              "    <tr style=\"text-align: right;\">\n",
              "      <th></th>\n",
              "      <th>Unnamed: 0</th>\n",
              "      <th>index</th>\n",
              "      <th>text</th>\n",
              "      <th>class</th>\n",
              "      <th>norm</th>\n",
              "    </tr>\n",
              "  </thead>\n",
              "  <tbody>\n",
              "    <tr>\n",
              "      <th>0</th>\n",
              "      <td>0</td>\n",
              "      <td>0</td>\n",
              "      <td>TIL I'm the district attorney.</td>\n",
              "      <td>none</td>\n",
              "      <td>2</td>\n",
              "    </tr>\n",
              "    <tr>\n",
              "      <th>1</th>\n",
              "      <td>1</td>\n",
              "      <td>1</td>\n",
              "      <td>Aw there's nothing to cry about Lynn xx</td>\n",
              "      <td>none</td>\n",
              "      <td>2</td>\n",
              "    </tr>\n",
              "    <tr>\n",
              "      <th>2</th>\n",
              "      <td>2</td>\n",
              "      <td>2</td>\n",
              "      <td>Call me sexist, but shouldn't everyone on the ...</td>\n",
              "      <td>sexism</td>\n",
              "      <td>1</td>\n",
              "    </tr>\n",
              "    <tr>\n",
              "      <th>3</th>\n",
              "      <td>3</td>\n",
              "      <td>3</td>\n",
              "      <td>\"We fought so hard in this entire comp it woul...</td>\n",
              "      <td>none</td>\n",
              "      <td>2</td>\n",
              "    </tr>\n",
              "    <tr>\n",
              "      <th>4</th>\n",
              "      <td>4</td>\n",
              "      <td>4</td>\n",
              "      <td>This season is going to go on forever</td>\n",
              "      <td>none</td>\n",
              "      <td>2</td>\n",
              "    </tr>\n",
              "  </tbody>\n",
              "</table>\n",
              "</div>"
            ],
            "text/plain": [
              "   Unnamed: 0  index  ...   class norm\n",
              "0           0      0  ...    none    2\n",
              "1           1      1  ...    none    2\n",
              "2           2      2  ...  sexism    1\n",
              "3           3      3  ...    none    2\n",
              "4           4      4  ...    none    2\n",
              "\n",
              "[5 rows x 5 columns]"
            ]
          },
          "metadata": {
            "tags": []
          },
          "execution_count": 5
        }
      ]
    },
    {
      "cell_type": "code",
      "metadata": {
        "id": "ePLGvDt5W9gG",
        "colab_type": "code",
        "colab": {}
      },
      "source": [
        "data_df = data_df.drop([\"Unnamed: 0\", \"index\"], axis=1)"
      ],
      "execution_count": 0,
      "outputs": []
    },
    {
      "cell_type": "code",
      "metadata": {
        "id": "DKqd1cjaW9gI",
        "colab_type": "code",
        "colab": {
          "base_uri": "https://localhost:8080/",
          "height": 204
        },
        "outputId": "b7863aa5-7507-4ca0-8c25-8f867555bb1e"
      },
      "source": [
        "data_df.head()"
      ],
      "execution_count": 7,
      "outputs": [
        {
          "output_type": "execute_result",
          "data": {
            "text/html": [
              "<div>\n",
              "<style scoped>\n",
              "    .dataframe tbody tr th:only-of-type {\n",
              "        vertical-align: middle;\n",
              "    }\n",
              "\n",
              "    .dataframe tbody tr th {\n",
              "        vertical-align: top;\n",
              "    }\n",
              "\n",
              "    .dataframe thead th {\n",
              "        text-align: right;\n",
              "    }\n",
              "</style>\n",
              "<table border=\"1\" class=\"dataframe\">\n",
              "  <thead>\n",
              "    <tr style=\"text-align: right;\">\n",
              "      <th></th>\n",
              "      <th>text</th>\n",
              "      <th>class</th>\n",
              "      <th>norm</th>\n",
              "    </tr>\n",
              "  </thead>\n",
              "  <tbody>\n",
              "    <tr>\n",
              "      <th>0</th>\n",
              "      <td>TIL I'm the district attorney.</td>\n",
              "      <td>none</td>\n",
              "      <td>2</td>\n",
              "    </tr>\n",
              "    <tr>\n",
              "      <th>1</th>\n",
              "      <td>Aw there's nothing to cry about Lynn xx</td>\n",
              "      <td>none</td>\n",
              "      <td>2</td>\n",
              "    </tr>\n",
              "    <tr>\n",
              "      <th>2</th>\n",
              "      <td>Call me sexist, but shouldn't everyone on the ...</td>\n",
              "      <td>sexism</td>\n",
              "      <td>1</td>\n",
              "    </tr>\n",
              "    <tr>\n",
              "      <th>3</th>\n",
              "      <td>\"We fought so hard in this entire comp it woul...</td>\n",
              "      <td>none</td>\n",
              "      <td>2</td>\n",
              "    </tr>\n",
              "    <tr>\n",
              "      <th>4</th>\n",
              "      <td>This season is going to go on forever</td>\n",
              "      <td>none</td>\n",
              "      <td>2</td>\n",
              "    </tr>\n",
              "  </tbody>\n",
              "</table>\n",
              "</div>"
            ],
            "text/plain": [
              "                                                text   class  norm\n",
              "0                     TIL I'm the district attorney.    none     2\n",
              "1            Aw there's nothing to cry about Lynn xx    none     2\n",
              "2  Call me sexist, but shouldn't everyone on the ...  sexism     1\n",
              "3  \"We fought so hard in this entire comp it woul...    none     2\n",
              "4              This season is going to go on forever    none     2"
            ]
          },
          "metadata": {
            "tags": []
          },
          "execution_count": 7
        }
      ]
    },
    {
      "cell_type": "code",
      "metadata": {
        "id": "tqM3hlnpW9gL",
        "colab_type": "code",
        "colab": {}
      },
      "source": [
        "\"\"\"\n",
        "@:param range_list represents x-axis values. If your x-axis values are in (1, 20) range,\n",
        "plot's x-axis's in (1, 20) range.\n",
        "@:param value_list represents accuracy values\n",
        "@:param title_str is your plot's title. It must be in string type. \n",
        "@:param x_label_str is your x-axis title. For example, 'C values'\n",
        "@:param y_label_str is your y-axis title. For example, 'Accuracies'\n",
        "\"\"\"\n",
        "\n",
        "def draw_plot(range_list, value_list, title_str, x_label_str, y_label_str):\n",
        "\n",
        "    plt.plot(range_list, value_list, color=\"b\", linestyle=\"dashed\", marker=\"o\", markerfacecolor=\"r\")\n",
        "    plt.title(title_str)\n",
        "    plt.xlabel(x_label_str)\n",
        "    plt.ylabel(y_label_str)\n",
        "    plt.show()"
      ],
      "execution_count": 0,
      "outputs": []
    },
    {
      "cell_type": "code",
      "metadata": {
        "id": "xsX3ColuW9gN",
        "colab_type": "code",
        "colab": {}
      },
      "source": [
        "def feature_extract(train_text, stop_word=True, n_gram=(1, 1)):\n",
        "    # If stop words want to be excluded.\n",
        "    if stop_word:\n",
        "    \n",
        "        tf_idf = TfidfVectorizer(ngram_range=n_gram, stop_words=\"english\")\n",
        "        tf_idf.fit_transform(train_text)\n",
        "\n",
        "        train_feature_set = tf_idf.transform(train_text)\n",
        "        \n",
        "    # If stop words want to be included\n",
        "    if not stop_word:\n",
        "    \n",
        "        tf_idf = TfidfVectorizer(ngram_range=n_gram)\n",
        "        tf_idf.fit_transform(train_text)\n",
        "\n",
        "        train_feature_set = tf_idf.transform(train_text)\n",
        "        \n",
        "    return train_feature_set"
      ],
      "execution_count": 0,
      "outputs": []
    },
    {
      "cell_type": "code",
      "metadata": {
        "id": "_T8ChZXNW9gP",
        "colab_type": "code",
        "colab": {}
      },
      "source": [
        "X = data_df['text'].values.astype('U')\n",
        "y = data_df[\"norm\"].values.astype('int32')\n",
        "X = feature_extract(X)"
      ],
      "execution_count": 0,
      "outputs": []
    },
    {
      "cell_type": "code",
      "metadata": {
        "id": "AGCT_W-BW9gR",
        "colab_type": "code",
        "colab": {
          "base_uri": "https://localhost:8080/",
          "height": 510
        },
        "outputId": "fda90857-8254-4fc8-9f79-8b9c21ebac94"
      },
      "source": [
        "c_acc_list = []\n",
        "for c in range(1, 20):\n",
        "    clf = svm.LinearSVC(C=c, multi_class=\"ovr\")\n",
        "    scores = cross_val_score(clf, X, y, cv=10)\n",
        "    c_acc_list.append(scores.mean())\n",
        "    print(\"Accuracy C:\", c, \": \", scores.mean())"
      ],
      "execution_count": 11,
      "outputs": [
        {
          "output_type": "stream",
          "text": [
            "Accuracy C: 1 :  0.813804499604108\n",
            "Accuracy C: 2 :  0.8041634125228836\n",
            "Accuracy C: 3 :  0.7974199490470233\n",
            "Accuracy C: 4 :  0.7916236865274823\n",
            "Accuracy C: 5 :  0.7883113715181641\n",
            "Accuracy C: 6 :  0.7849989864003913\n",
            "Accuracy C: 7 :  0.7822188308983894\n",
            "Accuracy C: 8 :  0.7787291060309595\n",
            "Accuracy C: 9 :  0.7765997682430792\n",
            "Accuracy C: 10 :  0.7742340240841311\n",
            "Accuracy C: 11 :  0.7721046862962508\n",
            "Accuracy C: 12 :  0.7705671345517209\n",
            "Accuracy C: 13 :  0.7691476459829925\n",
            "Accuracy C: 14 :  0.7677874340295553\n"
          ],
          "name": "stdout"
        },
        {
          "output_type": "stream",
          "text": [
            "/usr/local/lib/python3.6/dist-packages/sklearn/svm/base.py:929: ConvergenceWarning: Liblinear failed to converge, increase the number of iterations.\n",
            "  \"the number of iterations.\", ConvergenceWarning)\n"
          ],
          "name": "stderr"
        },
        {
          "output_type": "stream",
          "text": [
            "Accuracy C: 15 :  0.766722800086254\n"
          ],
          "name": "stdout"
        },
        {
          "output_type": "stream",
          "text": [
            "/usr/local/lib/python3.6/dist-packages/sklearn/svm/base.py:929: ConvergenceWarning: Liblinear failed to converge, increase the number of iterations.\n",
            "  \"the number of iterations.\", ConvergenceWarning)\n"
          ],
          "name": "stderr"
        },
        {
          "output_type": "stream",
          "text": [
            "Accuracy C: 16 :  0.7650667650952904\n"
          ],
          "name": "stdout"
        },
        {
          "output_type": "stream",
          "text": [
            "/usr/local/lib/python3.6/dist-packages/sklearn/svm/base.py:929: ConvergenceWarning: Liblinear failed to converge, increase the number of iterations.\n",
            "  \"the number of iterations.\", ConvergenceWarning)\n"
          ],
          "name": "stderr"
        },
        {
          "output_type": "stream",
          "text": [
            "Accuracy C: 17 :  0.7643571258700195\n"
          ],
          "name": "stdout"
        },
        {
          "output_type": "stream",
          "text": [
            "/usr/local/lib/python3.6/dist-packages/sklearn/svm/base.py:929: ConvergenceWarning: Liblinear failed to converge, increase the number of iterations.\n",
            "  \"the number of iterations.\", ConvergenceWarning)\n"
          ],
          "name": "stderr"
        },
        {
          "output_type": "stream",
          "text": [
            "Accuracy C: 18 :  0.7634110452816067\n"
          ],
          "name": "stdout"
        },
        {
          "output_type": "stream",
          "text": [
            "/usr/local/lib/python3.6/dist-packages/sklearn/svm/base.py:929: ConvergenceWarning: Liblinear failed to converge, increase the number of iterations.\n",
            "  \"the number of iterations.\", ConvergenceWarning)\n"
          ],
          "name": "stderr"
        },
        {
          "output_type": "stream",
          "text": [
            "Accuracy C: 19 :  0.7627606126046079\n"
          ],
          "name": "stdout"
        }
      ]
    },
    {
      "cell_type": "code",
      "metadata": {
        "scrolled": true,
        "id": "Ese77sDfW9gT",
        "colab_type": "code",
        "colab": {
          "base_uri": "https://localhost:8080/",
          "height": 295
        },
        "outputId": "324800ee-b94b-4de7-f43a-a09136aa97fb"
      },
      "source": [
        "draw_plot(range(1, 20), c_acc_list, \"Different C Values in SVM Model\", \"c values\", \"Accuracies\")"
      ],
      "execution_count": 12,
      "outputs": [
        {
          "output_type": "display_data",
          "data": {
            "image/png": "[encoded data removed]",
            "text/plain": [
              "<Figure size 432x288 with 1 Axes>"
            ]
          },
          "metadata": {
            "tags": []
          }
        }
      ]
    },
    {
      "cell_type": "code",
      "metadata": {
        "id": "k0nZrRbMXYPg",
        "colab_type": "code",
        "colab": {
          "base_uri": "https://localhost:8080/",
          "height": 51
        },
        "outputId": "8f32bf65-3c24-4273-9f1a-d17b2e5aed9c"
      },
      "source": [
        "c_val = max(c_acc_list)\n",
        "c = c_acc_list.index(c_val)\n",
        "print(c)\n",
        "c += 1\n",
        "print(c)\n"
      ],
      "execution_count": 13,
      "outputs": [
        {
          "output_type": "stream",
          "text": [
            "0\n",
            "1\n"
          ],
          "name": "stdout"
        }
      ]
    },
    {
      "cell_type": "code",
      "metadata": {
        "id": "1iWciRfzW9gV",
        "colab_type": "code",
        "colab": {
          "base_uri": "https://localhost:8080/",
          "height": 187
        },
        "outputId": "786917cc-741c-40da-923f-2327c969b4a6"
      },
      "source": [
        "acc_with_stop = []\n",
        "acc_wout_stop = []\n",
        "for i in range(1, 6):\n",
        "    for stop_word in [True, False]:\n",
        "        X = data_df['text'].values.astype('U')\n",
        "        y = data_df[\"norm\"].values.astype('int32')\n",
        "        X = feature_extract(X, stop_word=stop_word, n_gram=(i, i))\n",
        "\n",
        "        clf = svm.LinearSVC(C=c, multi_class=\"ovr\")\n",
        "        scores = cross_val_score(clf, X, y, cv=10)\n",
        "        if stop_word:\n",
        "            acc_wout_stop.append(scores.mean())\n",
        "            print(\"Accuracy without stopwords\", (i, i), \":\" , scores.mean())\n",
        "        else:\n",
        "            acc_with_stop.append(scores.mean())\n",
        "            print(\"Accuracy with stopwords\", (i, i), \":\" , scores.mean())"
      ],
      "execution_count": 14,
      "outputs": [
        {
          "output_type": "stream",
          "text": [
            "Accuracy without stopwords (1, 1) : 0.813804499604108\n",
            "Accuracy with stopwords (1, 1) : 0.8188309010827283\n",
            "Accuracy without stopwords (2, 2) : 0.739870475521427\n",
            "Accuracy with stopwords (2, 2) : 0.7752992882576868\n",
            "Accuracy without stopwords (3, 3) : 0.6949191292660075\n",
            "Accuracy with stopwords (3, 3) : 0.7392786897266881\n",
            "Accuracy without stopwords (4, 4) : 0.6893003817465422\n",
            "Accuracy with stopwords (4, 4) : 0.7124265049644172\n",
            "Accuracy without stopwords (5, 5) : 0.6873484886431068\n",
            "Accuracy with stopwords (5, 5) : 0.6905421454041843\n"
          ],
          "name": "stdout"
        }
      ]
    },
    {
      "cell_type": "code",
      "metadata": {
        "id": "lguMCRjFYfqw",
        "colab_type": "code",
        "colab": {
          "base_uri": "https://localhost:8080/",
          "height": 295
        },
        "outputId": "105b266e-e434-4e66-ea40-736dcb4d9fe7"
      },
      "source": [
        "n_grams = [\"1-gram\", \"2-gram\", \"3-gram\", \"4-gram\", \"5-gram\"]\n",
        "draw_plot(n_grams, acc_with_stop, \"SVM - Dataset-1 with Stop words\", \"n-grams\", \"Accuracy Values\")"
      ],
      "execution_count": 15,
      "outputs": [
        {
          "output_type": "display_data",
          "data": {
            "image/png": "[encoded data removed]",
            "text/plain": [
              "<Figure size 432x288 with 1 Axes>"
            ]
          },
          "metadata": {
            "tags": []
          }
        }
      ]
    },
    {
      "cell_type": "code",
      "metadata": {
        "id": "0DAkuLMJYjCQ",
        "colab_type": "code",
        "colab": {
          "base_uri": "https://localhost:8080/",
          "height": 295
        },
        "outputId": "b94b3466-5275-4d24-b3d6-1f26c68db130"
      },
      "source": [
        "draw_plot(n_grams, acc_wout_stop, \"SVM - Dataset-1 without Stop words\", \"n-grams\", \"Accuracy Values\")"
      ],
      "execution_count": 16,
      "outputs": [
        {
          "output_type": "display_data",
          "data": {
            "image/png": "[encoded data removed]",
            "text/plain": [
              "<Figure size 432x288 with 1 Axes>"
            ]
          },
          "metadata": {
            "tags": []
          }
        }
      ]
    }
  ]
}