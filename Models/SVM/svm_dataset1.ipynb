{
  "nbformat": 4,
  "nbformat_minor": 0,
  "metadata": {
    "kernelspec": {
      "name": "python3",
      "display_name": "Python 3"
    },
    "language_info": {
      "codemirror_mode": {
        "name": "ipython",
        "version": 3
      },
      "file_extension": ".py",
      "mimetype": "text/x-python",
      "name": "python",
      "nbconvert_exporter": "python",
      "pygments_lexer": "ipython3",
      "version": "3.7.4"
    },
    "colab": {
      "name": "svm_dataset1.ipynb",
      "provenance": [],
      "collapsed_sections": []
    },
    "accelerator": "TPU"
  },
  "cells": [
    {
      "cell_type": "code",
      "metadata": {
        "id": "r62J4qEiP7md",
        "colab_type": "code",
        "outputId": "526e3a04-f47b-46d8-b405-ac385a4461f0",
        "colab": {
          "base_uri": "https://localhost:8080/",
          "height": 122
        }
      },
      "source": [
        "from google.colab import drive\n",
        "drive.mount('/content/drive')"
      ],
      "execution_count": 0,
      "outputs": [
        {
          "output_type": "stream",
          "text": [
            "Go to this URL in a browser: https://accounts.google.com/o/oauth2/auth?client_id=947318989803-6bn6qk8qdgf4n4g3pfee6491hc0brc4i.apps.googleusercontent.com&redirect_uri=urn%3aietf%3awg%3aoauth%3a2.0%3aoob&response_type=code&scope=email%20https%3a%2f%2fwww.googleapis.com%2fauth%2fdocs.test%20https%3a%2f%2fwww.googleapis.com%2fauth%2fdrive%20https%3a%2f%2fwww.googleapis.com%2fauth%2fdrive.photos.readonly%20https%3a%2f%2fwww.googleapis.com%2fauth%2fpeopleapi.readonly\n",
            "\n",
            "Enter your authorization code:\n",
            "··········\n",
            "Mounted at /content/drive\n"
          ],
          "name": "stdout"
        }
      ]
    },
    {
      "cell_type": "code",
      "metadata": {
        "id": "3cimMy1bP5_O",
        "colab_type": "code",
        "colab": {}
      },
      "source": [
        "import numpy as np\n",
        "import pandas as pd\n",
        "import matplotlib.pyplot as plt\n",
        "from sklearn.model_selection import train_test_split\n",
        "from sklearn.feature_extraction.text import CountVectorizer\n",
        "from sklearn.feature_extraction.text import TfidfTransformer\n",
        "from sklearn.feature_extraction.text import TfidfVectorizer\n",
        "from sklearn import svm\n",
        "from sklearn.metrics import roc_auc_score\n",
        "from sklearn import metrics\n",
        "from tqdm import tqdm\n",
        "from sklearn.model_selection import cross_val_score\n",
        "\n",
        "%matplotlib inline"
      ],
      "execution_count": 0,
      "outputs": []
    },
    {
      "cell_type": "code",
      "metadata": {
        "id": "a1avAM2zP5_T",
        "colab_type": "code",
        "colab": {}
      },
      "source": [
        "path = \"/content/drive/My Drive/ML_Term_Project/\"\n",
        "data_df = pd.read_csv(path + \"dataset_1.csv\")\n",
        "###data_df = pd.read_csv(\"dataset_1.csv\")"
      ],
      "execution_count": 0,
      "outputs": []
    },
    {
      "cell_type": "code",
      "metadata": {
        "scrolled": true,
        "id": "M0-BnCp3P5_V",
        "colab_type": "code",
        "outputId": "8d5e6972-b8fd-4de9-e672-745a2f078ac0",
        "colab": {
          "base_uri": "https://localhost:8080/",
          "height": 204
        }
      },
      "source": [
        "data_df.head()"
      ],
      "execution_count": 0,
      "outputs": [
        {
          "output_type": "execute_result",
          "data": {
            "text/html": [
              "<div>\n",
              "<style scoped>\n",
              "    .dataframe tbody tr th:only-of-type {\n",
              "        vertical-align: middle;\n",
              "    }\n",
              "\n",
              "    .dataframe tbody tr th {\n",
              "        vertical-align: top;\n",
              "    }\n",
              "\n",
              "    .dataframe thead th {\n",
              "        text-align: right;\n",
              "    }\n",
              "</style>\n",
              "<table border=\"1\" class=\"dataframe\">\n",
              "  <thead>\n",
              "    <tr style=\"text-align: right;\">\n",
              "      <th></th>\n",
              "      <th>Unnamed: 0</th>\n",
              "      <th>Unnamed: 0.1</th>\n",
              "      <th>count</th>\n",
              "      <th>hate_speech</th>\n",
              "      <th>offensive_language</th>\n",
              "      <th>neither</th>\n",
              "      <th>class</th>\n",
              "      <th>tweet</th>\n",
              "    </tr>\n",
              "  </thead>\n",
              "  <tbody>\n",
              "    <tr>\n",
              "      <th>0</th>\n",
              "      <td>0</td>\n",
              "      <td>0</td>\n",
              "      <td>3</td>\n",
              "      <td>0</td>\n",
              "      <td>0</td>\n",
              "      <td>3</td>\n",
              "      <td>2</td>\n",
              "      <td>!!! As a woman you shouldn't complain about cl...</td>\n",
              "    </tr>\n",
              "    <tr>\n",
              "      <th>1</th>\n",
              "      <td>1</td>\n",
              "      <td>1</td>\n",
              "      <td>3</td>\n",
              "      <td>0</td>\n",
              "      <td>3</td>\n",
              "      <td>0</td>\n",
              "      <td>1</td>\n",
              "      <td>!!!!! boy dats cold...tyga dwn bad for cuffin ...</td>\n",
              "    </tr>\n",
              "    <tr>\n",
              "      <th>2</th>\n",
              "      <td>2</td>\n",
              "      <td>2</td>\n",
              "      <td>3</td>\n",
              "      <td>0</td>\n",
              "      <td>3</td>\n",
              "      <td>0</td>\n",
              "      <td>1</td>\n",
              "      <td>!!!!!!! Dawg!!!! You ever fuck a bitch and she...</td>\n",
              "    </tr>\n",
              "    <tr>\n",
              "      <th>3</th>\n",
              "      <td>3</td>\n",
              "      <td>3</td>\n",
              "      <td>3</td>\n",
              "      <td>0</td>\n",
              "      <td>2</td>\n",
              "      <td>1</td>\n",
              "      <td>1</td>\n",
              "      <td>!!!!!!!!! she look like a tranny</td>\n",
              "    </tr>\n",
              "    <tr>\n",
              "      <th>4</th>\n",
              "      <td>4</td>\n",
              "      <td>4</td>\n",
              "      <td>6</td>\n",
              "      <td>0</td>\n",
              "      <td>6</td>\n",
              "      <td>0</td>\n",
              "      <td>1</td>\n",
              "      <td>!!!!!!!!!!!!! The shit you hear about me might...</td>\n",
              "    </tr>\n",
              "  </tbody>\n",
              "</table>\n",
              "</div>"
            ],
            "text/plain": [
              "   Unnamed: 0  ...                                              tweet\n",
              "0           0  ...  !!! As a woman you shouldn't complain about cl...\n",
              "1           1  ...  !!!!! boy dats cold...tyga dwn bad for cuffin ...\n",
              "2           2  ...  !!!!!!! Dawg!!!! You ever fuck a bitch and she...\n",
              "3           3  ...                   !!!!!!!!! she look like a tranny\n",
              "4           4  ...  !!!!!!!!!!!!! The shit you hear about me might...\n",
              "\n",
              "[5 rows x 8 columns]"
            ]
          },
          "metadata": {
            "tags": []
          },
          "execution_count": 4
        }
      ]
    },
    {
      "cell_type": "code",
      "metadata": {
        "id": "aaVG7dSfP5_Y",
        "colab_type": "code",
        "colab": {}
      },
      "source": [
        "data_df = data_df.drop([\"Unnamed: 0\", \"Unnamed: 0.1\"], axis=1)"
      ],
      "execution_count": 0,
      "outputs": []
    },
    {
      "cell_type": "code",
      "metadata": {
        "id": "RG-N-kdIP5_a",
        "colab_type": "code",
        "colab": {}
      },
      "source": [
        "\"\"\"\n",
        "@:param range_list represents x-axis values. If your x-axis values are in (1, 20) range,\n",
        "plot's x-axis's in (1, 20) range.\n",
        "@:param value_list represents accuracy values\n",
        "@:param title_str is your plot's title. It must be in string type. \n",
        "@:param x_label_str is your x-axis title. For example, 'C values'\n",
        "@:param y_label_str is your y-axis title. For example, 'Accuracies'\n",
        "\"\"\"\n",
        "\n",
        "def draw_plot(range_list, value_list, title_str, x_label_str, y_label_str):\n",
        "\n",
        "    plt.plot(range_list, value_list, color=\"b\", linestyle=\"dashed\", marker=\"o\", markerfacecolor=\"r\")\n",
        "    plt.title(title_str)\n",
        "    plt.xlabel(x_label_str)\n",
        "    plt.ylabel(y_label_str)\n",
        "    plt.show()"
      ],
      "execution_count": 0,
      "outputs": []
    },
    {
      "cell_type": "code",
      "metadata": {
        "id": "p-FQegQ5P5_c",
        "colab_type": "code",
        "colab": {}
      },
      "source": [
        "def feature_extract(train_text, stop_word=True, n_gram=(1, 1)):\n",
        "    # If stop words want to be excluded.\n",
        "    if stop_word:\n",
        "    \n",
        "        tf_idf = TfidfVectorizer(ngram_range=n_gram, stop_words=\"english\")\n",
        "        tf_idf.fit_transform(train_text)\n",
        "\n",
        "        train_feature_set = tf_idf.transform(train_text)\n",
        "        \n",
        "    # If stop words want to be included\n",
        "    if not stop_word:\n",
        "    \n",
        "        tf_idf = TfidfVectorizer(ngram_range=n_gram)\n",
        "        tf_idf.fit_transform(train_text)\n",
        "\n",
        "        train_feature_set = tf_idf.transform(train_text)\n",
        "        \n",
        "    return train_feature_set"
      ],
      "execution_count": 0,
      "outputs": []
    },
    {
      "cell_type": "code",
      "metadata": {
        "id": "gSnkwEW1P5_f",
        "colab_type": "code",
        "colab": {}
      },
      "source": [
        "X = data_df['tweet'].values.astype('U')\n",
        "y = data_df[\"class\"].values.astype('int32')\n",
        "X = feature_extract(X)"
      ],
      "execution_count": 0,
      "outputs": []
    },
    {
      "cell_type": "code",
      "metadata": {
        "id": "wJtkRvuVP5_h",
        "colab_type": "code",
        "outputId": "42fa5545-e155-46e8-d2f0-ce74fae578cb",
        "colab": {
          "base_uri": "https://localhost:8080/",
          "height": 561
        }
      },
      "source": [
        "c_acc_list = []\n",
        "for c in range(1, 21):\n",
        "    clf = svm.LinearSVC(C=c, multi_class=\"ovr\")\n",
        "    scores = cross_val_score(clf, X, y, cv=10)\n",
        "    c_acc_list.append(scores.mean())\n",
        "    print(\"Accuracy C:\", c, \": \", scores.mean())"
      ],
      "execution_count": 0,
      "outputs": [
        {
          "output_type": "stream",
          "text": [
            "Accuracy C: 1 :  0.8887559942581446\n",
            "Accuracy C: 2 :  0.8818965346033396\n",
            "Accuracy C: 3 :  0.876973697704788\n",
            "Accuracy C: 4 :  0.8741087280045032\n",
            "Accuracy C: 5 :  0.8713244522756286\n",
            "Accuracy C: 6 :  0.8691052948072933\n",
            "Accuracy C: 7 :  0.8666438438004338\n",
            "Accuracy C: 8 :  0.864868332247538\n",
            "Accuracy C: 9 :  0.8633349351664557\n",
            "Accuracy C: 10 :  0.8620436851147704\n",
            "Accuracy C: 11 :  0.8608331778708708\n",
            "Accuracy C: 12 :  0.8598243811373081\n",
            "Accuracy C: 13 :  0.8587752781150201\n",
            "Accuracy C: 14 :  0.8577260611411889\n"
          ],
          "name": "stdout"
        },
        {
          "output_type": "stream",
          "text": [
            "/usr/local/lib/python3.6/dist-packages/sklearn/svm/base.py:929: ConvergenceWarning: Liblinear failed to converge, increase the number of iterations.\n",
            "  \"the number of iterations.\", ConvergenceWarning)\n"
          ],
          "name": "stderr"
        },
        {
          "output_type": "stream",
          "text": [
            "Accuracy C: 15 :  0.8569593788794396\n"
          ],
          "name": "stdout"
        },
        {
          "output_type": "stream",
          "text": [
            "/usr/local/lib/python3.6/dist-packages/sklearn/svm/base.py:929: ConvergenceWarning: Liblinear failed to converge, increase the number of iterations.\n",
            "  \"the number of iterations.\", ConvergenceWarning)\n"
          ],
          "name": "stderr"
        },
        {
          "output_type": "stream",
          "text": [
            "Accuracy C: 16 :  0.8564751987721884\n"
          ],
          "name": "stdout"
        },
        {
          "output_type": "stream",
          "text": [
            "/usr/local/lib/python3.6/dist-packages/sklearn/svm/base.py:929: ConvergenceWarning: Liblinear failed to converge, increase the number of iterations.\n",
            "  \"the number of iterations.\", ConvergenceWarning)\n"
          ],
          "name": "stderr"
        },
        {
          "output_type": "stream",
          "text": [
            "Accuracy C: 17 :  0.855547193682787\n"
          ],
          "name": "stdout"
        },
        {
          "output_type": "stream",
          "text": [
            "/usr/local/lib/python3.6/dist-packages/sklearn/svm/base.py:929: ConvergenceWarning: Liblinear failed to converge, increase the number of iterations.\n",
            "  \"the number of iterations.\", ConvergenceWarning)\n"
          ],
          "name": "stderr"
        },
        {
          "output_type": "stream",
          "text": [
            "Accuracy C: 18 :  0.854901609353924\n"
          ],
          "name": "stdout"
        },
        {
          "output_type": "stream",
          "text": [
            "/usr/local/lib/python3.6/dist-packages/sklearn/svm/base.py:929: ConvergenceWarning: Liblinear failed to converge, increase the number of iterations.\n",
            "  \"the number of iterations.\", ConvergenceWarning)\n"
          ],
          "name": "stderr"
        },
        {
          "output_type": "stream",
          "text": [
            "Accuracy C: 19 :  0.854054216841973\n"
          ],
          "name": "stdout"
        },
        {
          "output_type": "stream",
          "text": [
            "/usr/local/lib/python3.6/dist-packages/sklearn/svm/base.py:929: ConvergenceWarning: Liblinear failed to converge, increase the number of iterations.\n",
            "  \"the number of iterations.\", ConvergenceWarning)\n"
          ],
          "name": "stderr"
        },
        {
          "output_type": "stream",
          "text": [
            "Accuracy C: 20 :  0.8532472771278741\n"
          ],
          "name": "stdout"
        }
      ]
    },
    {
      "cell_type": "code",
      "metadata": {
        "id": "zMoKs_vwP5_j",
        "colab_type": "code",
        "outputId": "fb229b52-f541-49f6-c568-887c1f113a71",
        "colab": {
          "base_uri": "https://localhost:8080/",
          "height": 295
        }
      },
      "source": [
        "draw_plot(range(1, 21), c_acc_list, \"Different C Values in SVM Model\", \"c values\", \"Accuracies\")"
      ],
      "execution_count": 0,
      "outputs": [
        {
          "output_type": "display_data",
          "data": {
            "image/png": "[encoded data removed]",
            "text/plain": [
              "<Figure size 432x288 with 1 Axes>"
            ]
          },
          "metadata": {
            "tags": []
          }
        }
      ]
    },
    {
      "cell_type": "code",
      "metadata": {
        "id": "YCKrIk3FRWY2",
        "colab_type": "code",
        "outputId": "93afb4f8-02a2-4772-9d32-a2571f599641",
        "colab": {
          "base_uri": "https://localhost:8080/",
          "height": 51
        }
      },
      "source": [
        "c_val = max(c_acc_list)\n",
        "c = c_acc_list.index(c_val)\n",
        "print(c)\n",
        "c += 1\n",
        "print(c)"
      ],
      "execution_count": 0,
      "outputs": [
        {
          "output_type": "stream",
          "text": [
            "0\n",
            "1\n"
          ],
          "name": "stdout"
        }
      ]
    },
    {
      "cell_type": "code",
      "metadata": {
        "id": "lKbkLn9SCpJO",
        "colab_type": "code",
        "outputId": "b9bdd560-b5d1-4542-9a54-9e5cda94bbf0",
        "colab": {
          "base_uri": "https://localhost:8080/",
          "height": 85
        }
      },
      "source": [
        "acc_with_stop = []\n",
        "acc_wout_stop = []\n",
        "for kernel_func in ['linear', 'poly', 'rbf', 'sigmoid']:\n",
        "    \n",
        "    X = data_df['tweet'].values.astype('U')\n",
        "    y = data_df[\"class\"].values.astype('int32')\n",
        "    X = feature_extract(X)\n",
        "\n",
        "    clf = svm.SVC(C=1, kernel=kernel_func)\n",
        "    scores = cross_val_score(clf, X, y, cv=10)\n",
        "    print(\"Accuracy\", kernel_func, \":\" , scores.mean())"
      ],
      "execution_count": 0,
      "outputs": [
        {
          "output_type": "stream",
          "text": [
            "Accuracy linear : 0.900417551012036\n",
            "Accuracy poly : 0.7905422498136893\n",
            "Accuracy rbf : 0.8969871049177904\n",
            "Accuracy sigmoid : 0.9000946286172697\n"
          ],
          "name": "stdout"
        }
      ]
    },
    {
      "cell_type": "code",
      "metadata": {
        "id": "eGNd1nX2P5_l",
        "colab_type": "code",
        "outputId": "24919cf6-a60d-4e21-f837-c6605157d006",
        "colab": {
          "base_uri": "https://localhost:8080/",
          "height": 187
        }
      },
      "source": [
        "acc_with_stop = []\n",
        "acc_wout_stop = []\n",
        "for i in range(1, 6):\n",
        "    for stop_word in [True, False]:\n",
        "        X = data_df['tweet'].values.astype('U')\n",
        "        y = data_df[\"class\"].values.astype('int32')\n",
        "        X = feature_extract(X, stop_word=stop_word, n_gram=(i, i))\n",
        "\n",
        "        clf = svm.LinearSVC(C=c, multi_class=\"ovr\")\n",
        "        scores = cross_val_score(clf, X, y, cv=10)\n",
        "        if stop_word:\n",
        "            acc_wout_stop.append(scores.mean())\n",
        "            print(\"Accuracy without stopwords\", (i, i), \":\" , scores.mean())\n",
        "        else:\n",
        "            acc_with_stop.append(scores.mean())\n",
        "            print(\"Accuracy with stopwords\", (i, i), \":\" , scores.mean())"
      ],
      "execution_count": 0,
      "outputs": [
        {
          "output_type": "stream",
          "text": [
            "Accuracy without stopwords (1, 1) : 0.8887559942581446\n",
            "Accuracy with stopwords (1, 1) : 0.8889175287100913\n",
            "Accuracy without stopwords (2, 2) : 0.7961916254731837\n",
            "Accuracy with stopwords (2, 2) : 0.8089826373661436\n",
            "Accuracy without stopwords (3, 3) : 0.7774282015744196\n",
            "Accuracy with stopwords (3, 3) : 0.7800912654188646\n",
            "Accuracy without stopwords (4, 4) : 0.7760562249937408\n",
            "Accuracy with stopwords (4, 4) : 0.7766615518702541\n",
            "Accuracy without stopwords (5, 5) : 0.7752088487605816\n",
            "Accuracy with stopwords (5, 5) : 0.7762580494556209\n"
          ],
          "name": "stdout"
        }
      ]
    },
    {
      "cell_type": "code",
      "metadata": {
        "id": "l40gf9b2SDqO",
        "colab_type": "code",
        "outputId": "d8068dbf-5cab-475e-ccd7-828e188d539f",
        "colab": {
          "base_uri": "https://localhost:8080/",
          "height": 295
        }
      },
      "source": [
        "n_grams = [\"1-gram\", \"2-gram\", \"3-gram\", \"4-gram\", \"5-gram\"]\n",
        "draw_plot(n_grams, acc_with_stop, \"SVM - Dataset-1 with Stop words\", \"n-grams\", \"Accuracy Values\")"
      ],
      "execution_count": 0,
      "outputs": [
        {
          "output_type": "display_data",
          "data": {
            "image/png": "[encoded data removed]",
            "text/plain": [
              "<Figure size 432x288 with 1 Axes>"
            ]
          },
          "metadata": {
            "tags": []
          }
        }
      ]
    },
    {
      "cell_type": "code",
      "metadata": {
        "id": "APDofMZxS-y-",
        "colab_type": "code",
        "outputId": "a705654c-620a-4601-cfd3-8f941fc47bec",
        "colab": {
          "base_uri": "https://localhost:8080/",
          "height": 295
        }
      },
      "source": [
        "draw_plot(n_grams, acc_wout_stop, \"SVM - Dataset-1 without Stop words\", \"n-grams\", \"Accuracy Values\")"
      ],
      "execution_count": 0,
      "outputs": [
        {
          "output_type": "display_data",
          "data": {
            "image/png": "[encoded data removed]",
            "text/plain": [
              "<Figure size 432x288 with 1 Axes>"
            ]
          },
          "metadata": {
            "tags": []
          }
        }
      ]
    }
  ]
}