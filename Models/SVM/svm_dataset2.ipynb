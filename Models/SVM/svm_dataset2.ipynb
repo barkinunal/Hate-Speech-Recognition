{
  "nbformat": 4,
  "nbformat_minor": 0,
  "metadata": {
    "accelerator": "TPU",
    "colab": {
      "name": "svm_dataset2.ipynb",
      "provenance": [],
      "collapsed_sections": []
    },
    "kernelspec": {
      "name": "python3",
      "display_name": "Python 3"
    },
    "language_info": {
      "codemirror_mode": {
        "name": "ipython",
        "version": 3
      },
      "file_extension": ".py",
      "mimetype": "text/x-python",
      "name": "python",
      "nbconvert_exporter": "python",
      "pygments_lexer": "ipython3",
      "version": "3.7.4"
    }
  },
  "cells": [
    {
      "cell_type": "code",
      "metadata": {
        "colab_type": "code",
        "id": "mA2Oypjcu8WE",
        "outputId": "b2fff093-b42d-4498-ce61-97cec1fea568",
        "colab": {
          "base_uri": "https://localhost:8080/",
          "height": 122
        }
      },
      "source": [
        "from google.colab import drive\n",
        "drive.mount('/content/drive')"
      ],
      "execution_count": 1,
      "outputs": [
        {
          "output_type": "stream",
          "text": [
            "Go to this URL in a browser: https://accounts.google.com/o/oauth2/auth?client_id=947318989803-6bn6qk8qdgf4n4g3pfee6491hc0brc4i.apps.googleusercontent.com&redirect_uri=urn%3aietf%3awg%3aoauth%3a2.0%3aoob&response_type=code&scope=email%20https%3a%2f%2fwww.googleapis.com%2fauth%2fdocs.test%20https%3a%2f%2fwww.googleapis.com%2fauth%2fdrive%20https%3a%2f%2fwww.googleapis.com%2fauth%2fdrive.photos.readonly%20https%3a%2f%2fwww.googleapis.com%2fauth%2fpeopleapi.readonly\n",
            "\n",
            "Enter your authorization code:\n",
            "··········\n",
            "Mounted at /content/drive\n"
          ],
          "name": "stdout"
        }
      ]
    },
    {
      "cell_type": "code",
      "metadata": {
        "colab_type": "code",
        "id": "McLWwX6I1sYI",
        "colab": {}
      },
      "source": [
        "__author__ = \"Gökhan Özeloğlu\""
      ],
      "execution_count": 0,
      "outputs": []
    },
    {
      "cell_type": "code",
      "metadata": {
        "colab_type": "code",
        "id": "M3WQUzx5vdbF",
        "colab": {}
      },
      "source": [
        "import numpy as np\n",
        "import pandas as pd\n",
        "import matplotlib.pyplot as plt\n",
        "from sklearn.model_selection import train_test_split\n",
        "from sklearn.feature_extraction.text import CountVectorizer\n",
        "from sklearn.feature_extraction.text import TfidfTransformer\n",
        "from sklearn.feature_extraction.text import TfidfVectorizer\n",
        "from sklearn import svm\n",
        "from sklearn.metrics import roc_auc_score\n",
        "from sklearn import metrics\n",
        "from tqdm import tqdm\n",
        "from sklearn.model_selection import cross_val_score\n",
        "\n",
        "%matplotlib inline"
      ],
      "execution_count": 0,
      "outputs": []
    },
    {
      "cell_type": "code",
      "metadata": {
        "colab_type": "code",
        "id": "IMnrMeXQwJGW",
        "colab": {}
      },
      "source": [
        "path = \"/content/drive/My Drive/ML_Term_Project/\"\n",
        "data = pd.read_csv(path + \"dataset_2.csv\")\n",
        "data_df = pd.DataFrame(data)"
      ],
      "execution_count": 0,
      "outputs": []
    },
    {
      "cell_type": "code",
      "metadata": {
        "colab_type": "code",
        "id": "nVgx57Ddvojv",
        "outputId": "66009c29-a240-4245-eb9e-acbccc69ae39",
        "colab": {
          "base_uri": "https://localhost:8080/",
          "height": 204
        }
      },
      "source": [
        "data_df.head()"
      ],
      "execution_count": 4,
      "outputs": [
        {
          "output_type": "execute_result",
          "data": {
            "text/html": [
              "<div>\n",
              "<style scoped>\n",
              "    .dataframe tbody tr th:only-of-type {\n",
              "        vertical-align: middle;\n",
              "    }\n",
              "\n",
              "    .dataframe tbody tr th {\n",
              "        vertical-align: top;\n",
              "    }\n",
              "\n",
              "    .dataframe thead th {\n",
              "        text-align: right;\n",
              "    }\n",
              "</style>\n",
              "<table border=\"1\" class=\"dataframe\">\n",
              "  <thead>\n",
              "    <tr style=\"text-align: right;\">\n",
              "      <th></th>\n",
              "      <th>Unnamed: 0</th>\n",
              "      <th>Unnamed: 0.1</th>\n",
              "      <th>file_id</th>\n",
              "      <th>label</th>\n",
              "      <th>Tweet</th>\n",
              "    </tr>\n",
              "  </thead>\n",
              "  <tbody>\n",
              "    <tr>\n",
              "      <th>0</th>\n",
              "      <td>0</td>\n",
              "      <td>0</td>\n",
              "      <td>12834217_1</td>\n",
              "      <td>noHate</td>\n",
              "      <td>As of March 13th , 2014 , the booklet had been...</td>\n",
              "    </tr>\n",
              "    <tr>\n",
              "      <th>1</th>\n",
              "      <td>1</td>\n",
              "      <td>1</td>\n",
              "      <td>12834217_2</td>\n",
              "      <td>noHate</td>\n",
              "      <td>In order to help increase the booklets downloa...</td>\n",
              "    </tr>\n",
              "    <tr>\n",
              "      <th>2</th>\n",
              "      <td>2</td>\n",
              "      <td>2</td>\n",
              "      <td>12834217_3</td>\n",
              "      <td>noHate</td>\n",
              "      <td>( Simply copy and paste the following text int...</td>\n",
              "    </tr>\n",
              "    <tr>\n",
              "      <th>3</th>\n",
              "      <td>3</td>\n",
              "      <td>3</td>\n",
              "      <td>12834217_4</td>\n",
              "      <td>hate</td>\n",
              "      <td>Click below for a FREE download of a colorfull...</td>\n",
              "    </tr>\n",
              "    <tr>\n",
              "      <th>4</th>\n",
              "      <td>4</td>\n",
              "      <td>4</td>\n",
              "      <td>12834217_5</td>\n",
              "      <td>noHate</td>\n",
              "      <td>Click on the `` DOWNLOAD ( 7.42 MB ) '' green ...</td>\n",
              "    </tr>\n",
              "  </tbody>\n",
              "</table>\n",
              "</div>"
            ],
            "text/plain": [
              "   Unnamed: 0  ...                                              Tweet\n",
              "0           0  ...  As of March 13th , 2014 , the booklet had been...\n",
              "1           1  ...  In order to help increase the booklets downloa...\n",
              "2           2  ...  ( Simply copy and paste the following text int...\n",
              "3           3  ...  Click below for a FREE download of a colorfull...\n",
              "4           4  ...  Click on the `` DOWNLOAD ( 7.42 MB ) '' green ...\n",
              "\n",
              "[5 rows x 5 columns]"
            ]
          },
          "metadata": {
            "tags": []
          },
          "execution_count": 4
        }
      ]
    },
    {
      "cell_type": "code",
      "metadata": {
        "colab_type": "code",
        "id": "0wnBOhEmwwIH",
        "colab": {}
      },
      "source": [
        "data_df = data_df.drop([\"Unnamed: 0\", \"Unnamed: 0.1\"], axis=1)"
      ],
      "execution_count": 0,
      "outputs": []
    },
    {
      "cell_type": "code",
      "metadata": {
        "colab_type": "code",
        "id": "RJBv6vv_w4Xz",
        "outputId": "d9a6d015-90e7-4944-f64a-05d832991d0b",
        "colab": {
          "base_uri": "https://localhost:8080/",
          "height": 204
        }
      },
      "source": [
        "data_df.head()"
      ],
      "execution_count": 6,
      "outputs": [
        {
          "output_type": "execute_result",
          "data": {
            "text/html": [
              "<div>\n",
              "<style scoped>\n",
              "    .dataframe tbody tr th:only-of-type {\n",
              "        vertical-align: middle;\n",
              "    }\n",
              "\n",
              "    .dataframe tbody tr th {\n",
              "        vertical-align: top;\n",
              "    }\n",
              "\n",
              "    .dataframe thead th {\n",
              "        text-align: right;\n",
              "    }\n",
              "</style>\n",
              "<table border=\"1\" class=\"dataframe\">\n",
              "  <thead>\n",
              "    <tr style=\"text-align: right;\">\n",
              "      <th></th>\n",
              "      <th>file_id</th>\n",
              "      <th>label</th>\n",
              "      <th>Tweet</th>\n",
              "    </tr>\n",
              "  </thead>\n",
              "  <tbody>\n",
              "    <tr>\n",
              "      <th>0</th>\n",
              "      <td>12834217_1</td>\n",
              "      <td>noHate</td>\n",
              "      <td>As of March 13th , 2014 , the booklet had been...</td>\n",
              "    </tr>\n",
              "    <tr>\n",
              "      <th>1</th>\n",
              "      <td>12834217_2</td>\n",
              "      <td>noHate</td>\n",
              "      <td>In order to help increase the booklets downloa...</td>\n",
              "    </tr>\n",
              "    <tr>\n",
              "      <th>2</th>\n",
              "      <td>12834217_3</td>\n",
              "      <td>noHate</td>\n",
              "      <td>( Simply copy and paste the following text int...</td>\n",
              "    </tr>\n",
              "    <tr>\n",
              "      <th>3</th>\n",
              "      <td>12834217_4</td>\n",
              "      <td>hate</td>\n",
              "      <td>Click below for a FREE download of a colorfull...</td>\n",
              "    </tr>\n",
              "    <tr>\n",
              "      <th>4</th>\n",
              "      <td>12834217_5</td>\n",
              "      <td>noHate</td>\n",
              "      <td>Click on the `` DOWNLOAD ( 7.42 MB ) '' green ...</td>\n",
              "    </tr>\n",
              "  </tbody>\n",
              "</table>\n",
              "</div>"
            ],
            "text/plain": [
              "      file_id   label                                              Tweet\n",
              "0  12834217_1  noHate  As of March 13th , 2014 , the booklet had been...\n",
              "1  12834217_2  noHate  In order to help increase the booklets downloa...\n",
              "2  12834217_3  noHate  ( Simply copy and paste the following text int...\n",
              "3  12834217_4    hate  Click below for a FREE download of a colorfull...\n",
              "4  12834217_5  noHate  Click on the `` DOWNLOAD ( 7.42 MB ) '' green ..."
            ]
          },
          "metadata": {
            "tags": []
          },
          "execution_count": 6
        }
      ]
    },
    {
      "cell_type": "code",
      "metadata": {
        "colab_type": "code",
        "id": "1cUG6f4lw63S",
        "colab": {}
      },
      "source": [
        "X = data_df.drop([\"label\"], axis=1)\n",
        "y = data_df.drop([\"Tweet\"], axis=1)"
      ],
      "execution_count": 0,
      "outputs": []
    },
    {
      "cell_type": "code",
      "metadata": {
        "colab_type": "code",
        "id": "x16g13BN8kjE",
        "colab": {}
      },
      "source": [
        "\"\"\"\n",
        "@:param range_list represents x-axis values. If your x-axis values are in (1, 20) range,\n",
        "plot's x-axis's in (1, 20) range.\n",
        "@:param value_list represents accuracy values\n",
        "@:param title_str is your plot's title. It must be in string type. \n",
        "@:param x_label_str is your x-axis title. For example, 'C values'\n",
        "@:param y_label_str is your y-axis title. For example, 'Accuracies'\n",
        "\"\"\"\n",
        "\n",
        "def draw_plot(range_list, value_list, title_str, x_label_str, y_label_str):\n",
        "\n",
        "    plt.plot(range_list, value_list, color=\"b\", linestyle=\"dashed\", marker=\"o\", markerfacecolor=\"r\")\n",
        "    plt.title(title_str)\n",
        "    plt.xlabel(x_label_str)\n",
        "    plt.ylabel(y_label_str)\n",
        "    plt.show()"
      ],
      "execution_count": 0,
      "outputs": []
    },
    {
      "cell_type": "code",
      "metadata": {
        "colab_type": "code",
        "id": "I0KkMku_3UDB",
        "colab": {}
      },
      "source": [
        "def feature_extract(train_text, stop_word=True, n_gram=(1, 1)):\n",
        "    # If stop words want to be excluded.\n",
        "    if stop_word:\n",
        "    \n",
        "        tf_idf = TfidfVectorizer(ngram_range=n_gram, stop_words=\"english\")\n",
        "        tf_idf.fit_transform(train_text)\n",
        "\n",
        "        train_feature_set = tf_idf.transform(train_text)\n",
        "        \n",
        "    # If stop words want to be included\n",
        "    if not stop_word:\n",
        "    \n",
        "        tf_idf = TfidfVectorizer(ngram_range=n_gram)\n",
        "        tf_idf.fit_transform(train_text)\n",
        "\n",
        "        train_feature_set = tf_idf.transform(train_text)\n",
        "        \n",
        "    return train_feature_set"
      ],
      "execution_count": 0,
      "outputs": []
    },
    {
      "cell_type": "code",
      "metadata": {
        "colab_type": "code",
        "id": "gFSpUHMavF4H",
        "colab": {}
      },
      "source": [
        "X = data_df['Tweet'].values.astype('U')\n",
        "temp_y = data_df[\"label\"].values.astype('U')\n",
        "X = feature_extract(X)\n",
        "y = []\n",
        "for label in temp_y:\n",
        "    if label == \"hate\":\n",
        "        y.append(1)\n",
        "    else:\n",
        "        y.append(0)\n"
      ],
      "execution_count": 0,
      "outputs": []
    },
    {
      "cell_type": "code",
      "metadata": {
        "colab_type": "code",
        "id": "xo5j7uHmBPSw",
        "outputId": "c3c5856d-714c-41ef-e492-a77810a86e27",
        "colab": {
          "base_uri": "https://localhost:8080/",
          "height": 34
        }
      },
      "source": [
        "# Cross-validation test\n",
        "clf = svm.SVC(gamma=\"scale\")\n",
        "cv_score_list = []\n",
        "for c in tqdm(range(3, 20)):\n",
        "    scores = cross_val_score(clf, X, y, cv=c)\n",
        "    cv_score_list.append(scores.mean())"
      ],
      "execution_count": 0,
      "outputs": [
        {
          "output_type": "stream",
          "text": [
            "100%|██████████| 17/17 [47:11<00:00, 282.28s/it]\n"
          ],
          "name": "stderr"
        }
      ]
    },
    {
      "cell_type": "code",
      "metadata": {
        "colab_type": "code",
        "id": "lmMV4WRpBq3N",
        "outputId": "ac9b8d97-2c31-4317-d6e3-8ab45db6eb86",
        "colab": {
          "base_uri": "https://localhost:8080/",
          "height": 295
        }
      },
      "source": [
        "for i in range(len(cv_score_list)):\n",
        "    cv_score_list[i] = cv_score_list[i].mean()\n",
        "draw_plot(range(3, 20), cv_score_list, \"Cross-validation\", \"k values - (3-20)\", \"Accuracy values\" )"
      ],
      "execution_count": 0,
      "outputs": [
        {
          "output_type": "display_data",
          "data": {
            "image/png": "[encoded data removed]",
            "text/plain": [
              "<Figure size 432x288 with 1 Axes>"
            ]
          },
          "metadata": {
            "tags": []
          }
        }
      ]
    },
    {
      "cell_type": "code",
      "metadata": {
        "colab_type": "code",
        "id": "0u7Lz-ahY78a",
        "outputId": "32fcecf6-e875-4698-d935-d6b327a853fc",
        "colab": {
          "base_uri": "https://localhost:8080/",
          "height": 357
        }
      },
      "source": [
        "c_acc_list = []\n",
        "for c in range(1, 21):\n",
        "    clf = svm.SVC(C=c, kernel=\"rbf\", gamma=\"scale\", random_state=42)\n",
        "    scores = cross_val_score(clf, X, y, cv=10)\n",
        "    c_acc_list.append(scores.mean())\n",
        "    print(\"Accuracy C:\", c, \": \", scores.mean())"
      ],
      "execution_count": 11,
      "outputs": [
        {
          "output_type": "stream",
          "text": [
            "Accuracy C: 1 :  0.891539118840934\n",
            "Accuracy C: 2 :  0.8942805154842086\n",
            "Accuracy C: 3 :  0.8952849142813439\n",
            "Accuracy C: 4 :  0.895102098772105\n",
            "Accuracy C: 5 :  0.8950105239864475\n",
            "Accuracy C: 6 :  0.8951018481873607\n",
            "Accuracy C: 7 :  0.8950104405091158\n",
            "Accuracy C: 8 :  0.8950104405091158\n",
            "Accuracy C: 9 :  0.8950104405091158\n",
            "Accuracy C: 10 :  0.8950104405091158\n",
            "Accuracy C: 11 :  0.8950104405091158\n",
            "Accuracy C: 12 :  0.8950104405091158\n",
            "Accuracy C: 13 :  0.8950104405091158\n",
            "Accuracy C: 14 :  0.8950104405091158\n",
            "Accuracy C: 15 :  0.8950104405091158\n",
            "Accuracy C: 16 :  0.8950104405091158\n",
            "Accuracy C: 17 :  0.8950104405091158\n",
            "Accuracy C: 18 :  0.8950104405091158\n",
            "Accuracy C: 19 :  0.8950104405091158\n",
            "Accuracy C: 20 :  0.8950104405091158\n"
          ],
          "name": "stdout"
        }
      ]
    },
    {
      "cell_type": "code",
      "metadata": {
        "colab_type": "code",
        "id": "Cxuq-tRuBEyn",
        "outputId": "e526277b-aeca-4be5-f4de-d5149575ea56",
        "colab": {
          "base_uri": "https://localhost:8080/",
          "height": 295
        }
      },
      "source": [
        "draw_plot(range(1, 21), c_acc_list, \"Different C Values in SVM Model\", \"c values\", \"Accuracies\")"
      ],
      "execution_count": 12,
      "outputs": [
        {
          "output_type": "display_data",
          "data": {
            "image/png": "[encoded data removed]",
            "text/plain": [
              "<Figure size 432x288 with 1 Axes>"
            ]
          },
          "metadata": {
            "tags": []
          }
        }
      ]
    },
    {
      "cell_type": "code",
      "metadata": {
        "id": "NSF15mIxH4_f",
        "colab_type": "code",
        "outputId": "cd303bd7-e60d-4156-a69a-601878b3f61c",
        "colab": {
          "base_uri": "https://localhost:8080/",
          "height": 34
        }
      },
      "source": [
        "c_val = max(c_acc_list)\n",
        "c = c_acc_list.index(c_val)\n",
        "c += 1\n",
        "print(c)"
      ],
      "execution_count": 22,
      "outputs": [
        {
          "output_type": "stream",
          "text": [
            "3\n"
          ],
          "name": "stdout"
        }
      ]
    },
    {
      "cell_type": "code",
      "metadata": {
        "colab_type": "code",
        "id": "_MSQZ79ByuZC",
        "outputId": "9abca81f-8d3a-4222-a82b-2ace24f4638e",
        "colab": {
          "base_uri": "https://localhost:8080/",
          "height": 85
        }
      },
      "source": [
        "kernel_acc_list = []\n",
        "for ker in [\"linear\", \"poly\", \"rbf\", \"sigmoid\"]:\n",
        "    clf = svm.SVC(kernel=ker, gamma=\"scale\", random_state=42)\n",
        "    scores = cross_val_score(clf, X, y, cv=10)\n",
        "    kernel_acc_list.append(scores.mean())\n",
        "    print(\"Accuracy\", ker, \": \", scores.mean())"
      ],
      "execution_count": 23,
      "outputs": [
        {
          "output_type": "stream",
          "text": [
            "Accuracy linear :  0.8912648959589481\n",
            "Accuracy poly :  0.8913562201598613\n",
            "Accuracy rbf :  0.8913562201598613\n",
            "Accuracy sigmoid :  0.8909907562487958\n"
          ],
          "name": "stdout"
        }
      ]
    },
    {
      "cell_type": "code",
      "metadata": {
        "colab_type": "code",
        "id": "uRFHQ6frZw0k",
        "colab": {}
      },
      "source": [
        "for c in range(1, 100, 5):\n",
        "    #for gam in [\"auto\", \"scale\"]:\n",
        "    X_train, X_test = feature_extract(train_text, test_text)\n",
        "    clf = svm.SVC(C=c, kernel=\"linear\", gamma=\"scale\", random_state=42) \n",
        "    clf.fit(X_train, y_train)\n",
        "    y_pred = clf.predict(X_test)\n",
        "    print(\"Accuracy C =\", c, \"linear: \", metrics.accuracy_score(y_test, y_pred))"
      ],
      "execution_count": 0,
      "outputs": []
    },
    {
      "cell_type": "code",
      "metadata": {
        "colab_type": "code",
        "id": "xLs4-Z0ofFij",
        "colab": {}
      },
      "source": [
        "X = data_df['Tweet'].values.astype('U')\n",
        "temp_y = data_df[\"label\"].values.astype('U')\n",
        "X = feature_extract(X, stop_word=False)\n",
        "y = []\n",
        "for label in temp_y:\n",
        "    if label == \"hate\":\n",
        "        y.append(1)\n",
        "    else:\n",
        "        y.append(0)\n"
      ],
      "execution_count": 0,
      "outputs": []
    },
    {
      "cell_type": "code",
      "metadata": {
        "colab_type": "code",
        "id": "wCnbAWxsMvPe",
        "colab": {}
      },
      "source": [
        "clf = svm.SVC(C=3, gamma=\"scale\")\n",
        "scores = cross_val_score(clf, X, y, cv=10)\n",
        "print(\"Accuracy with stopwords : \", score.mean())"
      ],
      "execution_count": 0,
      "outputs": []
    },
    {
      "cell_type": "code",
      "metadata": {
        "colab_type": "code",
        "id": "a7Wv0DxTNAws",
        "outputId": "eee9f137-8137-44b1-fec9-9a2a1cb71ccc",
        "colab": {
          "base_uri": "https://localhost:8080/",
          "height": 187
        }
      },
      "source": [
        "acc_with_stop = []\n",
        "acc_wout_stop = []\n",
        "for i in range(1, 6):\n",
        "    for stop_word in [True, False]:\n",
        "        X = data_df['Tweet'].values.astype('U')\n",
        "        temp_y = data_df[\"label\"].values.astype('U')\n",
        "        X = feature_extract(X, stop_word=stop_word, n_gram=(i, i))\n",
        "        y = []\n",
        "        for label in temp_y:\n",
        "            if label == \"hate\":\n",
        "                y.append(1)\n",
        "            else:\n",
        "                y.append(0)\n",
        "\n",
        "        clf = svm.SVC(C=c, gamma=\"scale\")\n",
        "        scores = cross_val_score(clf, X, y, cv=10)\n",
        "        if stop_word:\n",
        "            print(\"Accuracy without stopwords\", (i, i), \":\" , scores.mean())\n",
        "            acc_wout_stop.append(scores.mean())\n",
        "        else:\n",
        "            print(\"Accuracy with stopwords\", (i,i), \":\" , scores.mean())\n",
        "            acc_with_stop.append(scores.mean())"
      ],
      "execution_count": 26,
      "outputs": [
        {
          "output_type": "stream",
          "text": [
            "Accuracy without stopwords (1, 1) : 0.8952849142813439\n",
            "Accuracy with stopwords (1, 1) : 0.8978428271384791\n",
            "Accuracy without stopwords (2, 2) : 0.891173488280703\n",
            "Accuracy with stopwords (2, 2) : 0.8913564708973544\n",
            "Accuracy without stopwords (3, 3) : 0.8913562201598613\n",
            "Accuracy with stopwords (3, 3) : 0.8913562201598613\n",
            "Accuracy without stopwords (4, 4) : 0.8913562201598613\n",
            "Accuracy with stopwords (4, 4) : 0.8913562201598613\n",
            "Accuracy without stopwords (5, 5) : 0.8913562201598613\n",
            "Accuracy with stopwords (5, 5) : 0.8913562201598613\n"
          ],
          "name": "stdout"
        }
      ]
    },
    {
      "cell_type": "code",
      "metadata": {
        "id": "cXcWlWTLb0Zl",
        "colab_type": "code",
        "colab": {
          "base_uri": "https://localhost:8080/",
          "height": 295
        },
        "outputId": "ebe6eebb-0463-4379-9b71-329a6cb109fb"
      },
      "source": [
        "ranges = [\"1-gram\", \"2-gram\", \"3-gram\", \"4-gram\", \"5-gram\"]\n",
        "draw_plot(ranges, acc_wout_stop, \"SVM without Stop Words\", \"n-grams\", \"Accuracies\")"
      ],
      "execution_count": 27,
      "outputs": [
        {
          "output_type": "display_data",
          "data": {
            "image/png": "[encoded data removed]",
            "text/plain": [
              "<Figure size 432x288 with 1 Axes>"
            ]
          },
          "metadata": {
            "tags": []
          }
        }
      ]
    },
    {
      "cell_type": "code",
      "metadata": {
        "id": "eJ8FUf5DcNtz",
        "colab_type": "code",
        "colab": {
          "base_uri": "https://localhost:8080/",
          "height": 295
        },
        "outputId": "22ae2bb1-4396-40a3-f2ff-eb282e1468ad"
      },
      "source": [
        "draw_plot(ranges, acc_with_stop, \"SVM with Stop Words\", \"n-grams\", \"Accuracies\")"
      ],
      "execution_count": 28,
      "outputs": [
        {
          "output_type": "display_data",
          "data": {
            "image/png": "[encoded data removed]",
            "text/plain": [
              "<Figure size 432x288 with 1 Axes>"
            ]
          },
          "metadata": {
            "tags": []
          }
        }
      ]
    }
  ]
}