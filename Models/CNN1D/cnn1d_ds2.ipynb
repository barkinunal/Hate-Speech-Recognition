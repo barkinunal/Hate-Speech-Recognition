{
 "cells": [
  {
   "cell_type": "code",
   "execution_count": 4,
   "metadata": {},
   "outputs": [],
   "source": [
    "from __future__ import print_function\n",
    "\n",
    "from keras.preprocessing import sequence\n",
    "from keras.models import Sequential\n",
    "from keras.layers import Dense, Dropout, Activation\n",
    "from keras.layers import Embedding\n",
    "from keras.layers import Conv1D, GlobalMaxPooling1D\n",
    "from keras.datasets import imdb\n",
    "from tensorflow import keras\n",
    "\n",
    "import numpy as np\n",
    "import pandas as pd\n",
    "import matplotlib.pyplot as plt\n",
    "from sklearn.model_selection import train_test_split\n",
    "from sklearn.feature_extraction.text import CountVectorizer\n",
    "from keras.callbacks import Callback\n",
    "from sklearn.metrics import confusion_matrix, f1_score, precision_score, recall_score"
   ]
  },
  {
   "cell_type": "code",
   "execution_count": 5,
   "metadata": {},
   "outputs": [
    {
     "data": {
      "text/html": [
       "<div>\n",
       "<style scoped>\n",
       "    .dataframe tbody tr th:only-of-type {\n",
       "        vertical-align: middle;\n",
       "    }\n",
       "\n",
       "    .dataframe tbody tr th {\n",
       "        vertical-align: top;\n",
       "    }\n",
       "\n",
       "    .dataframe thead th {\n",
       "        text-align: right;\n",
       "    }\n",
       "</style>\n",
       "<table border=\"1\" class=\"dataframe\">\n",
       "  <thead>\n",
       "    <tr style=\"text-align: right;\">\n",
       "      <th></th>\n",
       "      <th>tweet</th>\n",
       "      <th>label</th>\n",
       "    </tr>\n",
       "  </thead>\n",
       "  <tbody>\n",
       "    <tr>\n",
       "      <td>0</td>\n",
       "      <td>As of March 13th , 2014 , the booklet had been...</td>\n",
       "      <td>0</td>\n",
       "    </tr>\n",
       "    <tr>\n",
       "      <td>1</td>\n",
       "      <td>In order to help increase the booklets downloa...</td>\n",
       "      <td>0</td>\n",
       "    </tr>\n",
       "    <tr>\n",
       "      <td>2</td>\n",
       "      <td>( Simply copy and paste the following text int...</td>\n",
       "      <td>0</td>\n",
       "    </tr>\n",
       "    <tr>\n",
       "      <td>3</td>\n",
       "      <td>Click below for a FREE download of a colorfull...</td>\n",
       "      <td>1</td>\n",
       "    </tr>\n",
       "    <tr>\n",
       "      <td>4</td>\n",
       "      <td>Click on the `` DOWNLOAD ( 7.42 MB ) '' green ...</td>\n",
       "      <td>0</td>\n",
       "    </tr>\n",
       "    <tr>\n",
       "      <td>...</td>\n",
       "      <td>...</td>\n",
       "      <td>...</td>\n",
       "    </tr>\n",
       "    <tr>\n",
       "      <td>10939</td>\n",
       "      <td>Billy - `` That guy would n't leave me alone ,...</td>\n",
       "      <td>0</td>\n",
       "    </tr>\n",
       "    <tr>\n",
       "      <td>10940</td>\n",
       "      <td>Wish we at least had a Marine Le Pen to vote f...</td>\n",
       "      <td>0</td>\n",
       "    </tr>\n",
       "    <tr>\n",
       "      <td>10941</td>\n",
       "      <td>Its like the choices are white genocide candid...</td>\n",
       "      <td>0</td>\n",
       "    </tr>\n",
       "    <tr>\n",
       "      <td>10942</td>\n",
       "      <td>Why White people used to say that sex was a si...</td>\n",
       "      <td>1</td>\n",
       "    </tr>\n",
       "    <tr>\n",
       "      <td>10943</td>\n",
       "      <td>Now I get it !</td>\n",
       "      <td>0</td>\n",
       "    </tr>\n",
       "  </tbody>\n",
       "</table>\n",
       "<p>10944 rows × 2 columns</p>\n",
       "</div>"
      ],
      "text/plain": [
       "                                                   tweet label\n",
       "0      As of March 13th , 2014 , the booklet had been...     0\n",
       "1      In order to help increase the booklets downloa...     0\n",
       "2      ( Simply copy and paste the following text int...     0\n",
       "3      Click below for a FREE download of a colorfull...     1\n",
       "4      Click on the `` DOWNLOAD ( 7.42 MB ) '' green ...     0\n",
       "...                                                  ...   ...\n",
       "10939  Billy - `` That guy would n't leave me alone ,...     0\n",
       "10940  Wish we at least had a Marine Le Pen to vote f...     0\n",
       "10941  Its like the choices are white genocide candid...     0\n",
       "10942  Why White people used to say that sex was a si...     1\n",
       "10943                                     Now I get it !     0\n",
       "\n",
       "[10944 rows x 2 columns]"
      ]
     },
     "execution_count": 5,
     "metadata": {},
     "output_type": "execute_result"
    }
   ],
   "source": [
    "data_2 = pd.read_csv(\"dataset_2.csv\")\n",
    "data_2 = data_2.drop([\"Unnamed: 0\", \"Unnamed: 0.1\", \"file_id\"], axis=1)\n",
    "data_2.columns = [\"label\", \"tweet\"]\n",
    "data_2 = pd.concat([data_2[\"tweet\"], data_2[\"label\"]], axis=1)\n",
    "data_2.loc[data_2['label'] == \"noHate\", \"label\"] = '0'\n",
    "data_2.loc[data_2['label'] == \"hate\", \"label\"] = '1'\n",
    "data_2.loc[data_2['label'] == \"idk/skip\", \"label\"] = '0'\n",
    "data_2.loc[data_2['label'] == \"relation\", \"label\"] = '0'\n",
    "\n",
    "data_2.fillna(0)\n",
    "data_2\n"
   ]
  },
  {
   "cell_type": "code",
   "execution_count": 6,
   "metadata": {},
   "outputs": [],
   "source": [
    "d2 = data_2['tweet'].values.astype('U')\n",
    "labels = data_2['label'].values.astype('int32')"
   ]
  },
  {
   "cell_type": "code",
   "execution_count": 7,
   "metadata": {},
   "outputs": [],
   "source": [
    "vectorizer = CountVectorizer(min_df=0, lowercase=True, stop_words=\"english\")\n",
    "vectorizer.fit(d2)\n",
    "vectorizer.vocabulary"
   ]
  },
  {
   "cell_type": "code",
   "execution_count": 8,
   "metadata": {},
   "outputs": [],
   "source": [
    "data2 = vectorizer.transform(d2).toarray()"
   ]
  },
  {
   "cell_type": "code",
   "execution_count": 9,
   "metadata": {},
   "outputs": [],
   "source": [
    "max_features = 5000\n",
    "maxlen = 400\n",
    "batch_size = 32\n",
    "embedding_dims = 50\n",
    "filters = 250\n",
    "kernel_size = 3\n",
    "hidden_dims = 250\n",
    "epochs = 20\n",
    "\n",
    "x_train_2, x_test_2, y_train_2, y_test_2= train_test_split(data2, labels, test_size=0.3)\n",
    "\n"
   ]
  },
  {
   "cell_type": "code",
   "execution_count": 10,
   "metadata": {},
   "outputs": [
    {
     "name": "stdout",
     "output_type": "stream",
     "text": [
      "Pad sequences (samples x time)\n",
      "x_train shape: (7660, 400)\n",
      "x_test shape: (3284, 400)\n"
     ]
    }
   ],
   "source": [
    "print('Pad sequences (samples x time)')\n",
    "x_train_2 = sequence.pad_sequences(x_train_2, maxlen=maxlen)\n",
    "x_test_2 = sequence.pad_sequences(x_test_2, maxlen=maxlen)\n",
    "print('x_train shape:', x_train_2.shape)\n",
    "print('x_test shape:', x_test_2.shape)"
   ]
  },
  {
   "cell_type": "code",
   "execution_count": 11,
   "metadata": {},
   "outputs": [
    {
     "name": "stdout",
     "output_type": "stream",
     "text": [
      "Build model...\n",
      "WARNING:tensorflow:From C:\\Users\\Ege\\Anaconda3\\lib\\site-packages\\keras\\backend\\tensorflow_backend.py:74: The name tf.get_default_graph is deprecated. Please use tf.compat.v1.get_default_graph instead.\n",
      "\n"
     ]
    }
   ],
   "source": [
    "print('Build model...')\n",
    "model = Sequential()\n"
   ]
  },
  {
   "cell_type": "code",
   "execution_count": 12,
   "metadata": {},
   "outputs": [
    {
     "name": "stdout",
     "output_type": "stream",
     "text": [
      "WARNING:tensorflow:From C:\\Users\\Ege\\Anaconda3\\lib\\site-packages\\keras\\backend\\tensorflow_backend.py:517: The name tf.placeholder is deprecated. Please use tf.compat.v1.placeholder instead.\n",
      "\n",
      "WARNING:tensorflow:From C:\\Users\\Ege\\Anaconda3\\lib\\site-packages\\keras\\backend\\tensorflow_backend.py:4138: The name tf.random_uniform is deprecated. Please use tf.random.uniform instead.\n",
      "\n",
      "WARNING:tensorflow:From C:\\Users\\Ege\\Anaconda3\\lib\\site-packages\\keras\\backend\\tensorflow_backend.py:133: The name tf.placeholder_with_default is deprecated. Please use tf.compat.v1.placeholder_with_default instead.\n",
      "\n",
      "WARNING:tensorflow:From C:\\Users\\Ege\\Anaconda3\\lib\\site-packages\\keras\\backend\\tensorflow_backend.py:3445: calling dropout (from tensorflow.python.ops.nn_ops) with keep_prob is deprecated and will be removed in a future version.\n",
      "Instructions for updating:\n",
      "Please use `rate` instead of `keep_prob`. Rate should be set to `rate = 1 - keep_prob`.\n"
     ]
    }
   ],
   "source": [
    "model.add(Embedding(max_features, embedding_dims, input_length=maxlen))\n",
    "\n",
    "model.add(Dropout(0.2))"
   ]
  },
  {
   "cell_type": "code",
   "execution_count": 13,
   "metadata": {},
   "outputs": [],
   "source": [
    "model.add(Conv1D(filters,\n",
    "                 kernel_size,\n",
    "                 padding='valid',\n",
    "                 activation='relu',\n",
    "                 strides=1))\n",
    "# we use max pooling:\n",
    "model.add(GlobalMaxPooling1D())"
   ]
  },
  {
   "cell_type": "code",
   "execution_count": 14,
   "metadata": {},
   "outputs": [],
   "source": [
    "#SIGMOID RELU\n",
    "model.add(Dense(hidden_dims))\n",
    "model.add(Dropout(0.2))\n",
    "model.add(Activation('relu'))"
   ]
  },
  {
   "cell_type": "code",
   "execution_count": 118,
   "metadata": {},
   "outputs": [],
   "source": [
    "model.add(Dense(1))\n",
    "model.add(Activation('sigmoid'))"
   ]
  },
  {
   "cell_type": "code",
   "execution_count": 120,
   "metadata": {
    "scrolled": true
   },
   "outputs": [
    {
     "name": "stdout",
     "output_type": "stream",
     "text": [
      "Train on 7660 samples, validate on 3284 samples\n",
      "Epoch 1/20\n",
      "7660/7660 [==============================] - 29s 4ms/step - loss: 0.3597 - acc: 0.8866 - val_loss: 0.3256 - val_acc: 0.9004\n",
      "Epoch 2/20\n",
      "7660/7660 [==============================] - 31s 4ms/step - loss: 0.3559 - acc: 0.8866 - val_loss: 0.3361 - val_acc: 0.9004\n",
      "Epoch 3/20\n",
      "7660/7660 [==============================] - 31s 4ms/step - loss: 0.3554 - acc: 0.8866 - val_loss: 0.3494 - val_acc: 0.9004\n",
      "Epoch 4/20\n",
      "7660/7660 [==============================] - 31s 4ms/step - loss: 0.3565 - acc: 0.8866 - val_loss: 0.3311 - val_acc: 0.9004\n",
      "Epoch 5/20\n",
      "7660/7660 [==============================] - 31s 4ms/step - loss: 0.3558 - acc: 0.8866 - val_loss: 0.3239 - val_acc: 0.9004\n",
      "Epoch 6/20\n",
      "7660/7660 [==============================] - 31s 4ms/step - loss: 0.3546 - acc: 0.8866 - val_loss: 0.3414 - val_acc: 0.9004\n",
      "Epoch 7/20\n",
      "7660/7660 [==============================] - 31s 4ms/step - loss: 0.3564 - acc: 0.8866 - val_loss: 0.3343 - val_acc: 0.9004\n",
      "Epoch 8/20\n",
      "7660/7660 [==============================] - 31s 4ms/step - loss: 0.3553 - acc: 0.8866 - val_loss: 0.3293 - val_acc: 0.9004\n",
      "Epoch 9/20\n",
      "7660/7660 [==============================] - 31s 4ms/step - loss: 0.3561 - acc: 0.8866 - val_loss: 0.3405 - val_acc: 0.9004\n",
      "Epoch 10/20\n",
      "7660/7660 [==============================] - 31s 4ms/step - loss: 0.3560 - acc: 0.8866 - val_loss: 0.3302 - val_acc: 0.9004\n",
      "Epoch 11/20\n",
      "7660/7660 [==============================] - 31s 4ms/step - loss: 0.3556 - acc: 0.8866 - val_loss: 0.3417 - val_acc: 0.9004\n",
      "Epoch 12/20\n",
      "7660/7660 [==============================] - 31s 4ms/step - loss: 0.3551 - acc: 0.8866 - val_loss: 0.3309 - val_acc: 0.9004\n",
      "Epoch 13/20\n",
      "7660/7660 [==============================] - 31s 4ms/step - loss: 0.3549 - acc: 0.8866 - val_loss: 0.3368 - val_acc: 0.9004\n",
      "Epoch 14/20\n",
      "7660/7660 [==============================] - 32s 4ms/step - loss: 0.3553 - acc: 0.8866 - val_loss: 0.3312 - val_acc: 0.9004\n",
      "Epoch 15/20\n",
      "7660/7660 [==============================] - 36s 5ms/step - loss: 0.3543 - acc: 0.8866 - val_loss: 0.3390 - val_acc: 0.9004\n",
      "Epoch 16/20\n",
      "7660/7660 [==============================] - 34s 4ms/step - loss: 0.3538 - acc: 0.8866 - val_loss: 0.3292 - val_acc: 0.9004\n",
      "Epoch 17/20\n",
      "7660/7660 [==============================] - 33s 4ms/step - loss: 0.3536 - acc: 0.8866 - val_loss: 0.3254 - val_acc: 0.9004\n",
      "Epoch 18/20\n",
      "7660/7660 [==============================] - 33s 4ms/step - loss: 0.3539 - acc: 0.8866 - val_loss: 0.3292 - val_acc: 0.9004\n",
      "Epoch 19/20\n",
      "7660/7660 [==============================] - 33s 4ms/step - loss: 0.3527 - acc: 0.8866 - val_loss: 0.3255 - val_acc: 0.9004\n",
      "Epoch 20/20\n",
      "7660/7660 [==============================] - 34s 4ms/step - loss: 0.3547 - acc: 0.8866 - val_loss: 0.3260 - val_acc: 0.9004\n"
     ]
    },
    {
     "data": {
      "text/plain": [
       "<keras.callbacks.History at 0x1b0c85ee448>"
      ]
     },
     "execution_count": 120,
     "metadata": {},
     "output_type": "execute_result"
    }
   ],
   "source": [
    "model.compile(loss='binary_crossentropy',\n",
    "              optimizer='adam',\n",
    "              metrics=['accuracy'])\n",
    "\n",
    "model.fit(x_train_2, y_train_2,\n",
    "          batch_size=batch_size,\n",
    "          epochs=epochs,\n",
    "          validation_data=(x_test_2, y_test_2))"
   ]
  },
  {
   "cell_type": "code",
   "execution_count": 122,
   "metadata": {},
   "outputs": [
    {
     "data": {
      "text/plain": [
       "<function matplotlib.pyplot.show(*args, **kw)>"
      ]
     },
     "execution_count": 122,
     "metadata": {},
     "output_type": "execute_result"
    },
    {
     "data": {
      "image/png": "[encoded data removed]",
      "text/plain": [
       "<Figure size 432x288 with 1 Axes>"
      ]
     },
     "metadata": {
      "needs_background": "light"
     },
     "output_type": "display_data"
    }
   ],
   "source": [
    "list_loss = [0.3597,0.3559,0.3554,0.3565,0.3558,0.3546,0.3564,0.3553,0.3561,0.3560,0.3556,0.3551,0.3549,0.3553,0.3543,0.3538,0.3536,0.3539,0.3527,0.3547]\n",
    "list_val_loss = [0.3256,0.3361,0.3494,0.3311,0.3239,0.3414,0.3343,0.3293,0.3405,0.3302,0.3417,0.3309,0.3368,0.3312,0.3390,0.3292,0.3254,0.3292,0.3255,0.3260]\n",
    "\n",
    "plt.plot(range(1,21), list_loss, color=\"b\")\n",
    "plt.title = \"loss\"\n",
    "plt.xlabel = \"range\"\n",
    "plt.ylabel = \"loss values\"\n",
    "plt.show\n",
    "\n",
    "plt.plot(range(1,21), list_val_loss, color=\"r\")\n",
    "plt.title = \"val_loss\"\n",
    "plt.xlabel = \"range\"\n",
    "plt.ylabel = \"val_loss values\"\n",
    "plt.show"
   ]
  },
  {
   "cell_type": "code",
   "execution_count": 15,
   "metadata": {},
   "outputs": [],
   "source": [
    "epochs = 10 # EPOCH U EN OPTIMAL DEGERE GORE AYARLA"
   ]
  },
  {
   "cell_type": "code",
   "execution_count": 16,
   "metadata": {},
   "outputs": [
    {
     "name": "stdout",
     "output_type": "stream",
     "text": [
      "WARNING:tensorflow:From C:\\Users\\Ege\\Anaconda3\\lib\\site-packages\\keras\\optimizers.py:790: The name tf.train.Optimizer is deprecated. Please use tf.compat.v1.train.Optimizer instead.\n",
      "\n",
      "WARNING:tensorflow:From C:\\Users\\Ege\\Anaconda3\\lib\\site-packages\\keras\\backend\\tensorflow_backend.py:3376: The name tf.log is deprecated. Please use tf.math.log instead.\n",
      "\n",
      "WARNING:tensorflow:From C:\\Users\\Ege\\Anaconda3\\lib\\site-packages\\tensorflow_core\\python\\ops\\nn_impl.py:183: where (from tensorflow.python.ops.array_ops) is deprecated and will be removed in a future version.\n",
      "Instructions for updating:\n",
      "Use tf.where in 2.0, which has the same broadcast rule as np.where\n",
      "WARNING:tensorflow:From C:\\Users\\Ege\\Anaconda3\\lib\\site-packages\\keras\\backend\\tensorflow_backend.py:986: The name tf.assign_add is deprecated. Please use tf.compat.v1.assign_add instead.\n",
      "\n",
      "WARNING:tensorflow:From C:\\Users\\Ege\\Anaconda3\\lib\\site-packages\\keras\\backend\\tensorflow_backend.py:973: The name tf.assign is deprecated. Please use tf.compat.v1.assign instead.\n",
      "\n",
      "WARNING:tensorflow:From C:\\Users\\Ege\\Anaconda3\\lib\\site-packages\\keras\\backend\\tensorflow_backend.py:2741: The name tf.Session is deprecated. Please use tf.compat.v1.Session instead.\n",
      "\n",
      "Train on 7660 samples, validate on 3284 samples\n",
      "Epoch 1/10\n",
      "WARNING:tensorflow:From C:\\Users\\Ege\\Anaconda3\\lib\\site-packages\\keras\\backend\\tensorflow_backend.py:174: The name tf.get_default_session is deprecated. Please use tf.compat.v1.get_default_session instead.\n",
      "\n",
      "WARNING:tensorflow:From C:\\Users\\Ege\\Anaconda3\\lib\\site-packages\\keras\\backend\\tensorflow_backend.py:181: The name tf.ConfigProto is deprecated. Please use tf.compat.v1.ConfigProto instead.\n",
      "\n",
      "WARNING:tensorflow:From C:\\Users\\Ege\\Anaconda3\\lib\\site-packages\\keras\\backend\\tensorflow_backend.py:190: The name tf.global_variables is deprecated. Please use tf.compat.v1.global_variables instead.\n",
      "\n",
      "WARNING:tensorflow:From C:\\Users\\Ege\\Anaconda3\\lib\\site-packages\\keras\\backend\\tensorflow_backend.py:199: The name tf.is_variable_initialized is deprecated. Please use tf.compat.v1.is_variable_initialized instead.\n",
      "\n",
      "WARNING:tensorflow:From C:\\Users\\Ege\\Anaconda3\\lib\\site-packages\\keras\\backend\\tensorflow_backend.py:206: The name tf.variables_initializer is deprecated. Please use tf.compat.v1.variables_initializer instead.\n",
      "\n",
      "7660/7660 [==============================] - 31s 4ms/step - loss: 0.3507 - acc: 0.8928 - val_loss: 0.3604 - val_acc: 0.8849\n",
      "Epoch 2/10\n",
      "7660/7660 [==============================] - 34s 4ms/step - loss: 0.3450 - acc: 0.8932 - val_loss: 0.3633 - val_acc: 0.8849\n",
      "Epoch 3/10\n",
      "7660/7660 [==============================] - 34s 4ms/step - loss: 0.3443 - acc: 0.8932 - val_loss: 0.3776 - val_acc: 0.8849\n",
      "Epoch 4/10\n",
      "7660/7660 [==============================] - 33s 4ms/step - loss: 0.3440 - acc: 0.8932 - val_loss: 0.3753 - val_acc: 0.8849\n",
      "Epoch 5/10\n",
      "7660/7660 [==============================] - 33s 4ms/step - loss: 0.3456 - acc: 0.8932 - val_loss: 0.3660 - val_acc: 0.8849\n",
      "Epoch 6/10\n",
      "7660/7660 [==============================] - 35s 5ms/step - loss: 0.3427 - acc: 0.8932 - val_loss: 0.3685 - val_acc: 0.8849\n",
      "Epoch 7/10\n",
      "7660/7660 [==============================] - 34s 4ms/step - loss: 0.3435 - acc: 0.8932 - val_loss: 0.3619 - val_acc: 0.8849\n",
      "Epoch 8/10\n",
      "7660/7660 [==============================] - 36s 5ms/step - loss: 0.3425 - acc: 0.8932 - val_loss: 0.3624 - val_acc: 0.8849\n",
      "Epoch 9/10\n",
      "7660/7660 [==============================] - 37s 5ms/step - loss: 0.3411 - acc: 0.8932 - val_loss: 0.3606 - val_acc: 0.8849\n",
      "Epoch 10/10\n",
      "7660/7660 [==============================] - 37s 5ms/step - loss: 0.3410 - acc: 0.8932 - val_loss: 0.3596 - val_acc: 0.8849\n"
     ]
    },
    {
     "data": {
      "text/plain": [
       "<keras.callbacks.History at 0x1b0ef24d488>"
      ]
     },
     "execution_count": 16,
     "metadata": {},
     "output_type": "execute_result"
    }
   ],
   "source": [
    "batch_size = 16\n",
    "x_train_2 = sequence.pad_sequences(x_train_2, maxlen=maxlen)\n",
    "x_test_2 = sequence.pad_sequences(x_test_2, maxlen=maxlen)\n",
    "model = Sequential()\n",
    "model.add(Embedding(max_features, embedding_dims, input_length=maxlen))\n",
    "model.add(Dropout(0.2))\n",
    "model.add(Conv1D(filters,\n",
    "                 kernel_size,\n",
    "                 padding='valid',\n",
    "                 activation='relu',\n",
    "                 strides=1))\n",
    "# we use max pooling:\n",
    "model.add(GlobalMaxPooling1D())\n",
    "model.add(Dense(hidden_dims))\n",
    "model.add(Dropout(0.2))\n",
    "model.add(Activation('relu'))\n",
    "model.add(Dense(1))\n",
    "model.add(Activation('sigmoid'))\n",
    "model.compile(loss='binary_crossentropy',\n",
    "              optimizer='adam',\n",
    "              metrics=['accuracy'])\n",
    "\n",
    "model.fit(x_train_2, y_train_2,\n",
    "          batch_size=batch_size,\n",
    "          epochs=epochs,\n",
    "          validation_data=(x_test_2, y_test_2))"
   ]
  },
  {
   "cell_type": "code",
   "execution_count": 17,
   "metadata": {},
   "outputs": [
    {
     "name": "stdout",
     "output_type": "stream",
     "text": [
      "Train on 7660 samples, validate on 3284 samples\n",
      "Epoch 1/10\n",
      "7660/7660 [==============================] - 37s 5ms/step - loss: 0.3590 - acc: 0.8932 - val_loss: 0.3766 - val_acc: 0.8849\n",
      "Epoch 2/10\n",
      "7660/7660 [==============================] - 35s 5ms/step - loss: 0.3433 - acc: 0.8932 - val_loss: 0.3639 - val_acc: 0.8849\n",
      "Epoch 3/10\n",
      "7660/7660 [==============================] - 38s 5ms/step - loss: 0.3426 - acc: 0.8932 - val_loss: 0.3662 - val_acc: 0.8849\n",
      "Epoch 4/10\n",
      "7660/7660 [==============================] - 37s 5ms/step - loss: 0.3421 - acc: 0.8932 - val_loss: 0.3705 - val_acc: 0.8849\n",
      "Epoch 5/10\n",
      "7660/7660 [==============================] - 36s 5ms/step - loss: 0.3415 - acc: 0.8932 - val_loss: 0.3669 - val_acc: 0.8849\n",
      "Epoch 6/10\n",
      "7660/7660 [==============================] - 37s 5ms/step - loss: 0.3425 - acc: 0.8932 - val_loss: 0.3599 - val_acc: 0.8849\n",
      "Epoch 7/10\n",
      "7660/7660 [==============================] - 36s 5ms/step - loss: 0.3406 - acc: 0.8932 - val_loss: 0.3839 - val_acc: 0.8849\n",
      "Epoch 8/10\n",
      "7660/7660 [==============================] - 38s 5ms/step - loss: 0.3410 - acc: 0.8932 - val_loss: 0.3590 - val_acc: 0.8849\n",
      "Epoch 9/10\n",
      "7660/7660 [==============================] - 35s 5ms/step - loss: 0.3416 - acc: 0.8932 - val_loss: 0.3664 - val_acc: 0.8849\n",
      "Epoch 10/10\n",
      "7660/7660 [==============================] - 33s 4ms/step - loss: 0.3397 - acc: 0.8932 - val_loss: 0.3584 - val_acc: 0.8849\n"
     ]
    },
    {
     "data": {
      "text/plain": [
       "<keras.callbacks.History at 0x1b0efbe5d08>"
      ]
     },
     "execution_count": 17,
     "metadata": {},
     "output_type": "execute_result"
    }
   ],
   "source": [
    "batch_size = 64\n",
    "x_train_2 = sequence.pad_sequences(x_train_2, maxlen=maxlen)\n",
    "x_test_2 = sequence.pad_sequences(x_test_2, maxlen=maxlen)\n",
    "model = Sequential()\n",
    "model.add(Embedding(max_features, embedding_dims, input_length=maxlen))\n",
    "model.add(Dropout(0.2))\n",
    "model.add(Conv1D(filters,\n",
    "                 kernel_size,\n",
    "                 padding='valid',\n",
    "                 activation='relu',\n",
    "                 strides=1))\n",
    "# we use max pooling:\n",
    "model.add(GlobalMaxPooling1D())\n",
    "model.add(Dense(hidden_dims))\n",
    "model.add(Dropout(0.2))\n",
    "model.add(Activation('relu'))\n",
    "model.add(Dense(1))\n",
    "model.add(Activation('sigmoid'))\n",
    "model.compile(loss='binary_crossentropy',\n",
    "              optimizer='adam',\n",
    "              metrics=['accuracy'])\n",
    "\n",
    "model.fit(x_train_2, y_train_2,\n",
    "          batch_size=batch_size,\n",
    "          epochs=epochs,\n",
    "          validation_data=(x_test_2, y_test_2))"
   ]
  },
  {
   "cell_type": "code",
   "execution_count": 18,
   "metadata": {},
   "outputs": [
    {
     "name": "stdout",
     "output_type": "stream",
     "text": [
      "Train on 7660 samples, validate on 3284 samples\n",
      "Epoch 1/10\n",
      "7660/7660 [==============================] - 38s 5ms/step - loss: 0.3825 - acc: 0.8799 - val_loss: 0.3711 - val_acc: 0.8849\n",
      "Epoch 2/10\n",
      "7660/7660 [==============================] - 40s 5ms/step - loss: 0.3420 - acc: 0.8932 - val_loss: 0.3687 - val_acc: 0.8849\n",
      "Epoch 3/10\n",
      "7660/7660 [==============================] - 35s 5ms/step - loss: 0.3419 - acc: 0.8932 - val_loss: 0.3637 - val_acc: 0.8849\n",
      "Epoch 4/10\n",
      "7660/7660 [==============================] - 35s 5ms/step - loss: 0.3414 - acc: 0.8932 - val_loss: 0.3858 - val_acc: 0.8849\n",
      "Epoch 5/10\n",
      "7660/7660 [==============================] - 37s 5ms/step - loss: 0.3441 - acc: 0.8932 - val_loss: 0.3695 - val_acc: 0.8849\n",
      "Epoch 6/10\n",
      "7660/7660 [==============================] - 36s 5ms/step - loss: 0.3424 - acc: 0.8932 - val_loss: 0.3732 - val_acc: 0.8849\n",
      "Epoch 7/10\n",
      "7660/7660 [==============================] - 39s 5ms/step - loss: 0.3409 - acc: 0.8932 - val_loss: 0.3649 - val_acc: 0.8849\n",
      "Epoch 8/10\n",
      "7660/7660 [==============================] - 39s 5ms/step - loss: 0.3416 - acc: 0.8932 - val_loss: 0.3690 - val_acc: 0.8849\n",
      "Epoch 9/10\n",
      "7660/7660 [==============================] - 38s 5ms/step - loss: 0.3423 - acc: 0.8932 - val_loss: 0.3603 - val_acc: 0.8849\n",
      "Epoch 10/10\n",
      "7660/7660 [==============================] - 39s 5ms/step - loss: 0.3420 - acc: 0.8932 - val_loss: 0.3603 - val_acc: 0.8849\n"
     ]
    },
    {
     "data": {
      "text/plain": [
       "<keras.callbacks.History at 0x1b0efffc3c8>"
      ]
     },
     "execution_count": 18,
     "metadata": {},
     "output_type": "execute_result"
    }
   ],
   "source": [
    "batch_size = 128\n",
    "x_train_2 = sequence.pad_sequences(x_train_2, maxlen=maxlen)\n",
    "x_test_2 = sequence.pad_sequences(x_test_2, maxlen=maxlen)\n",
    "model = Sequential()\n",
    "model.add(Embedding(max_features, embedding_dims, input_length=maxlen))\n",
    "model.add(Dropout(0.2))\n",
    "model.add(Conv1D(filters,\n",
    "                 kernel_size,\n",
    "                 padding='valid',\n",
    "                 activation='relu',\n",
    "                 strides=1))\n",
    "# we use max pooling:\n",
    "model.add(GlobalMaxPooling1D())\n",
    "model.add(Dense(hidden_dims))\n",
    "model.add(Dropout(0.2))\n",
    "model.add(Activation('relu'))\n",
    "model.add(Dense(1))\n",
    "model.add(Activation('sigmoid'))\n",
    "model.compile(loss='binary_crossentropy',\n",
    "              optimizer='adam',\n",
    "              metrics=['accuracy'])\n",
    "\n",
    "model.fit(x_train_2, y_train_2,\n",
    "          batch_size=batch_size,\n",
    "          epochs=epochs,\n",
    "          validation_data=(x_test_2, y_test_2))"
   ]
  },
  {
   "cell_type": "code",
   "execution_count": 19,
   "metadata": {},
   "outputs": [],
   "source": [
    "batch_size = 32 # EN IYI BATCH SIZE I BULUP BUNU DEGISTIR"
   ]
  },
  {
   "cell_type": "code",
   "execution_count": 20,
   "metadata": {},
   "outputs": [
    {
     "name": "stdout",
     "output_type": "stream",
     "text": [
      "Train on 7660 samples, validate on 3284 samples\n",
      "Epoch 1/10\n",
      "7660/7660 [==============================] - 38s 5ms/step - loss: 0.3516 - acc: 0.8867 - val_loss: 0.3612 - val_acc: 0.8849\n",
      "Epoch 2/10\n",
      "7660/7660 [==============================] - 37s 5ms/step - loss: 0.3416 - acc: 0.8932 - val_loss: 0.3572 - val_acc: 0.8849\n",
      "Epoch 3/10\n",
      "7660/7660 [==============================] - 36s 5ms/step - loss: 0.3417 - acc: 0.8932 - val_loss: 0.3584 - val_acc: 0.8849\n",
      "Epoch 4/10\n",
      "7660/7660 [==============================] - 35s 5ms/step - loss: 0.3420 - acc: 0.8932 - val_loss: 0.3577 - val_acc: 0.8849\n",
      "Epoch 5/10\n",
      "7660/7660 [==============================] - 37s 5ms/step - loss: 0.3405 - acc: 0.8932 - val_loss: 0.3611 - val_acc: 0.8849\n",
      "Epoch 6/10\n",
      "7660/7660 [==============================] - 37s 5ms/step - loss: 0.3422 - acc: 0.8932 - val_loss: 0.3591 - val_acc: 0.8849\n",
      "Epoch 7/10\n",
      "7660/7660 [==============================] - 36s 5ms/step - loss: 0.3427 - acc: 0.8932 - val_loss: 0.3573 - val_acc: 0.8849\n",
      "Epoch 8/10\n",
      "7660/7660 [==============================] - 38s 5ms/step - loss: 0.3409 - acc: 0.8932 - val_loss: 0.3604 - val_acc: 0.8849\n",
      "Epoch 9/10\n",
      "7660/7660 [==============================] - 36s 5ms/step - loss: 0.3392 - acc: 0.8932 - val_loss: 0.3630 - val_acc: 0.8849\n",
      "Epoch 10/10\n",
      "7660/7660 [==============================] - 37s 5ms/step - loss: 0.3402 - acc: 0.8932 - val_loss: 0.3566 - val_acc: 0.8849\n"
     ]
    },
    {
     "data": {
      "text/plain": [
       "<keras.callbacks.History at 0x1b0f0208f88>"
      ]
     },
     "execution_count": 20,
     "metadata": {},
     "output_type": "execute_result"
    }
   ],
   "source": [
    "# SIGMOID SIGMOID\n",
    "x_train_2 = sequence.pad_sequences(x_train_2, maxlen=maxlen)\n",
    "x_test_2 = sequence.pad_sequences(x_test_2, maxlen=maxlen)\n",
    "model = Sequential()\n",
    "model.add(Embedding(max_features, embedding_dims, input_length=maxlen))\n",
    "model.add(Dropout(0.2))\n",
    "model.add(Conv1D(filters,\n",
    "                 kernel_size,\n",
    "                 padding='valid',\n",
    "                 activation='relu',\n",
    "                 strides=1))\n",
    "# we use max pooling:\n",
    "model.add(GlobalMaxPooling1D())\n",
    "model.add(Dense(hidden_dims))\n",
    "model.add(Dropout(0.2))\n",
    "model.add(Activation('sigmoid'))\n",
    "model.add(Dense(1))\n",
    "model.add(Activation('sigmoid'))\n",
    "model.compile(loss='binary_crossentropy',\n",
    "              optimizer='adam',\n",
    "              metrics=['accuracy'])\n",
    "\n",
    "model.fit(x_train_2, y_train_2,\n",
    "          batch_size=batch_size,\n",
    "          epochs=epochs,\n",
    "          validation_data=(x_test_2, y_test_2))"
   ]
  },
  {
   "cell_type": "code",
   "execution_count": 21,
   "metadata": {},
   "outputs": [
    {
     "name": "stdout",
     "output_type": "stream",
     "text": [
      "Train on 7660 samples, validate on 3284 samples\n",
      "Epoch 1/10\n",
      "7660/7660 [==============================] - 37s 5ms/step - loss: 0.3456 - acc: 0.8932 - val_loss: 0.3732 - val_acc: 0.8849\n",
      "Epoch 2/10\n",
      "7660/7660 [==============================] - 39s 5ms/step - loss: 0.3414 - acc: 0.8932 - val_loss: 0.3594 - val_acc: 0.8849\n",
      "Epoch 3/10\n",
      "7660/7660 [==============================] - 40s 5ms/step - loss: 0.3391 - acc: 0.8932 - val_loss: 0.3575 - val_acc: 0.8849\n",
      "Epoch 4/10\n",
      "7660/7660 [==============================] - 39s 5ms/step - loss: 0.3396 - acc: 0.8932 - val_loss: 0.3584 - val_acc: 0.8849\n",
      "Epoch 5/10\n",
      "7660/7660 [==============================] - 36s 5ms/step - loss: 0.3390 - acc: 0.8932 - val_loss: 0.3577 - val_acc: 0.8849\n",
      "Epoch 6/10\n",
      "7660/7660 [==============================] - 38s 5ms/step - loss: 0.3400 - acc: 0.8932 - val_loss: 0.3584 - val_acc: 0.8849\n",
      "Epoch 7/10\n",
      "7660/7660 [==============================] - 38s 5ms/step - loss: 0.3392 - acc: 0.8932 - val_loss: 0.3577 - val_acc: 0.8849\n",
      "Epoch 8/10\n",
      "7660/7660 [==============================] - 38s 5ms/step - loss: 0.3387 - acc: 0.8932 - val_loss: 0.3587 - val_acc: 0.8849\n",
      "Epoch 9/10\n",
      "7660/7660 [==============================] - 35s 5ms/step - loss: 0.3391 - acc: 0.8932 - val_loss: 0.3587 - val_acc: 0.8849\n",
      "Epoch 10/10\n",
      "7660/7660 [==============================] - 38s 5ms/step - loss: 0.3392 - acc: 0.8932 - val_loss: 0.3577 - val_acc: 0.8849\n"
     ]
    },
    {
     "data": {
      "text/plain": [
       "<keras.callbacks.History at 0x1b0f9fd1b08>"
      ]
     },
     "execution_count": 21,
     "metadata": {},
     "output_type": "execute_result"
    }
   ],
   "source": [
    "# RELU RELU\n",
    "x_train_2 = sequence.pad_sequences(x_train_2, maxlen=maxlen)\n",
    "x_test_2 = sequence.pad_sequences(x_test_2, maxlen=maxlen)\n",
    "model = Sequential()\n",
    "model.add(Embedding(max_features, embedding_dims, input_length=maxlen))\n",
    "model.add(Dropout(0.2))\n",
    "model.add(Conv1D(filters,\n",
    "                 kernel_size,\n",
    "                 padding='valid',\n",
    "                 activation='relu',\n",
    "                 strides=1))\n",
    "# we use max pooling:\n",
    "model.add(GlobalMaxPooling1D())\n",
    "model.add(Dense(hidden_dims))\n",
    "model.add(Dropout(0.2))\n",
    "model.add(Activation('relu'))\n",
    "model.add(Dense(1))\n",
    "model.add(Activation('relu'))\n",
    "model.compile(loss='binary_crossentropy',\n",
    "              optimizer='adam',\n",
    "              metrics=['accuracy'])\n",
    "\n",
    "model.fit(x_train_2, y_train_2,\n",
    "          batch_size=batch_size,\n",
    "          epochs=epochs,\n",
    "          validation_data=(x_test_2, y_test_2))"
   ]
  },
  {
   "cell_type": "code",
   "execution_count": 22,
   "metadata": {
    "scrolled": true
   },
   "outputs": [
    {
     "name": "stdout",
     "output_type": "stream",
     "text": [
      "Train on 7660 samples, validate on 3284 samples\n",
      "Epoch 1/10\n",
      "7660/7660 [==============================] - 39s 5ms/step - loss: 0.3596 - acc: 0.8932 - val_loss: 0.3913 - val_acc: 0.8849\n",
      "Epoch 2/10\n",
      "7660/7660 [==============================] - 37s 5ms/step - loss: 0.3426 - acc: 0.8932 - val_loss: 0.3619 - val_acc: 0.8849\n",
      "Epoch 3/10\n",
      "7660/7660 [==============================] - 34s 4ms/step - loss: 0.3429 - acc: 0.8932 - val_loss: 0.3611 - val_acc: 0.8849\n",
      "Epoch 4/10\n",
      "7660/7660 [==============================] - 35s 5ms/step - loss: 0.3404 - acc: 0.8932 - val_loss: 0.3596 - val_acc: 0.8849\n",
      "Epoch 5/10\n",
      "7660/7660 [==============================] - 36s 5ms/step - loss: 0.3407 - acc: 0.8932 - val_loss: 0.3595 - val_acc: 0.8849\n",
      "Epoch 6/10\n",
      "7660/7660 [==============================] - 35s 5ms/step - loss: 0.3407 - acc: 0.8932 - val_loss: 0.3568 - val_acc: 0.8849\n",
      "Epoch 7/10\n",
      "7660/7660 [==============================] - 37s 5ms/step - loss: 0.3405 - acc: 0.8932 - val_loss: 0.3594 - val_acc: 0.8849\n",
      "Epoch 8/10\n",
      "7660/7660 [==============================] - 39s 5ms/step - loss: 0.3406 - acc: 0.8932 - val_loss: 0.3573 - val_acc: 0.8849\n",
      "Epoch 9/10\n",
      "7660/7660 [==============================] - 37s 5ms/step - loss: 0.3405 - acc: 0.8932 - val_loss: 0.3566 - val_acc: 0.8849\n",
      "Epoch 10/10\n",
      "7660/7660 [==============================] - 40s 5ms/step - loss: 0.3391 - acc: 0.8931 - val_loss: 0.3569 - val_acc: 0.8849\n"
     ]
    },
    {
     "data": {
      "text/plain": [
       "<keras.callbacks.History at 0x1b0fa1f5608>"
      ]
     },
     "execution_count": 22,
     "metadata": {},
     "output_type": "execute_result"
    }
   ],
   "source": [
    "# TANH TANH\n",
    "x_train_2 = sequence.pad_sequences(x_train_2, maxlen=maxlen)\n",
    "x_test_2 = sequence.pad_sequences(x_test_2, maxlen=maxlen)\n",
    "model = Sequential()\n",
    "model.add(Embedding(max_features, embedding_dims, input_length=maxlen))\n",
    "model.add(Dropout(0.2))\n",
    "model.add(Conv1D(filters,\n",
    "                 kernel_size,\n",
    "                 padding='valid',\n",
    "                 activation='relu',\n",
    "                 strides=1))\n",
    "# we use max pooling:\n",
    "model.add(GlobalMaxPooling1D())\n",
    "model.add(Dense(hidden_dims))\n",
    "model.add(Dropout(0.2))\n",
    "model.add(Activation('tanh'))\n",
    "model.add(Dense(1))\n",
    "model.add(Activation('tanh'))\n",
    "model.compile(loss='binary_crossentropy',\n",
    "              optimizer='adam',\n",
    "              metrics=['accuracy'])\n",
    "\n",
    "model.fit(x_train_2, y_train_2,\n",
    "          batch_size=batch_size,\n",
    "          epochs=epochs,\n",
    "          validation_data=(x_test_2, y_test_2))"
   ]
  },
  {
   "cell_type": "code",
   "execution_count": null,
   "metadata": {},
   "outputs": [],
   "source": []
  }
 ],
 "metadata": {
  "kernelspec": {
   "display_name": "Python 3",
   "language": "python",
   "name": "python3"
  },
  "language_info": {
   "codemirror_mode": {
    "name": "ipython",
    "version": 3
   },
   "file_extension": ".py",
   "mimetype": "text/x-python",
   "name": "python",
   "nbconvert_exporter": "python",
   "pygments_lexer": "ipython3",
   "version": "3.7.4"
  }
 },
 "nbformat": 4,
 "nbformat_minor": 2
}
